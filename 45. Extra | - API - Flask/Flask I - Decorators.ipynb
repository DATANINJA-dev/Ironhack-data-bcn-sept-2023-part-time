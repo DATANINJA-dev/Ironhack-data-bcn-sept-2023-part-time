{
 "cells": [
  {
   "cell_type": "markdown",
   "metadata": {
    "toc": true
   },
   "source": [
    "<h1>Table of Contents<span class=\"tocSkip\"></span></h1>\n",
    "<div class=\"toc\"><ul class=\"toc-item\"><li><span><a href=\"#What-is-Flask?\" data-toc-modified-id=\"What-is-Flask?-1\"><span class=\"toc-item-num\">1&nbsp;&nbsp;</span>What is Flask?</a></span><ul class=\"toc-item\"><li><span><a href=\"#Doc-de-Flask\" data-toc-modified-id=\"Doc-de-Flask-1.1\"><span class=\"toc-item-num\">1.1&nbsp;&nbsp;</span>Doc de Flask</a></span></li><li><span><a href=\"#Other-frameworks\" data-toc-modified-id=\"Other-frameworks-1.2\"><span class=\"toc-item-num\">1.2&nbsp;&nbsp;</span>Other frameworks</a></span></li></ul></li><li><span><a href=\"#Introduction-to-decorators\" data-toc-modified-id=\"Introduction-to-decorators-2\"><span class=\"toc-item-num\">2&nbsp;&nbsp;</span>Introduction to decorators</a></span><ul class=\"toc-item\"><li><span><a href=\"#What-are-decorators?\" data-toc-modified-id=\"What-are-decorators?-2.1\"><span class=\"toc-item-num\">2.1&nbsp;&nbsp;</span>What are decorators?</a></span></li><li><span><a href=\"#Structure\" data-toc-modified-id=\"Structure-2.2\"><span class=\"toc-item-num\">2.2&nbsp;&nbsp;</span>Structure</a></span></li><li><span><a href=\"#Let's-go-there\" data-toc-modified-id=\"Let's-go-there-2.3\"><span class=\"toc-item-num\">2.3&nbsp;&nbsp;</span>Let's go there</a></span></li><li><span><a href=\"#Modifying-another-function\" data-toc-modified-id=\"Modifying-another-function-2.4\"><span class=\"toc-item-num\">2.4&nbsp;&nbsp;</span>Modifying another function</a></span></li><li><span><a href=\"#Decorators-for-exception-handlers\" data-toc-modified-id=\"Decorators-for-exception-handlers-2.5\"><span class=\"toc-item-num\">2.5&nbsp;&nbsp;</span>Decorators for exception handlers</a></span></li><li><span><a href=\"#Verbosity/error-handling\" data-toc-modified-id=\"Verbosity/error-handling-2.6\"><span class=\"toc-item-num\">2.6&nbsp;&nbsp;</span>Verbosity/error handling</a></span></li><li><span><a href=\"#Time\" data-toc-modified-id=\"Time-2.7\"><span class=\"toc-item-num\">2.7&nbsp;&nbsp;</span>Time</a></span></li></ul></li><li><span><a href=\"#Let's-create-an-API\" data-toc-modified-id=\"Let's-create-an-API-3\"><span class=\"toc-item-num\">3&nbsp;&nbsp;</span>Let's create an API</a></span><ul class=\"toc-item\"><li><span><a href=\"#Let's-go-🔥\" data-toc-modified-id=\"Let's-go-🔥-3.1\"><span class=\"toc-item-num\">3.1&nbsp;&nbsp;</span>Let's go 🔥</a></span></li></ul></li><li><span><a href=\"#Summary\" data-toc-modified-id=\"Summary-4\"><span class=\"toc-item-num\">4&nbsp;&nbsp;</span>Summary</a></span></li></ul></div>"
   ]
  },
  {
   "cell_type": "markdown",
   "metadata": {
    "lang": "en"
   },
   "source": [
    "# API WITH PYTHON"
   ]
  },
  {
   "cell_type": "markdown",
   "metadata": {
    "lang": "en"
   },
   "source": [
    "## What is Flask?"
   ]
  },
  {
   "cell_type": "markdown",
   "metadata": {
    "lang": "en"
   },
   "source": [
    "Flask is a minimalist framework written in Python that allows you to create APIs quickly and with a minimum number of lines of code."
   ]
  },
  {
   "cell_type": "markdown",
   "metadata": {},
   "source": [
    "### Doc de Flask"
   ]
  },
  {
   "cell_type": "markdown",
   "metadata": {},
   "source": [
    "- https://flask.palletsprojects.com/en/1.1.x/quickstart/#a-minimal-application"
   ]
  },
  {
   "cell_type": "markdown",
   "metadata": {
    "lang": "en"
   },
   "source": [
    "### Other frameworks"
   ]
  },
  {
   "cell_type": "markdown",
   "metadata": {},
   "source": [
    "- https://www.streamlit.io/\n",
    "- https://fastapi.tiangolo.com/"
   ]
  },
  {
   "cell_type": "markdown",
   "metadata": {
    "lang": "en"
   },
   "source": [
    "## Introduction to decorators"
   ]
  },
  {
   "cell_type": "markdown",
   "metadata": {
    "lang": "en"
   },
   "source": [
    "### What are decorators?"
   ]
  },
  {
   "cell_type": "markdown",
   "metadata": {
    "lang": "en"
   },
   "source": [
    "Decorators are themselves functions, which take a function as an argument and return another function.\n",
    "Functions that add \"functionality\" to other functions.\n",
    "There are really 3 functions:\n",
    "a, b and c\n",
    "\n",
    "Where:\n",
    "A is a function that receives as parameter B to return C\n",
    "\n",
    "\n",
    "\n",
    "Decorators were added in Python 2.4 to make it easier to read and understand the wrapper of functions and methods (a function that receives a function and returns an enhanced one). The original use case was to be able to define methods as class methods or static methods, at the head of their definition. The syntax before decorators was:\n",
    "\n",
    "```python\n",
    "class WhatFor(object):\n",
    "    define it(cls):\n",
    "        print 'work with %s' % cls\n",
    "    it = classmethod(it)\n",
    "    defuncommon():\n",
    "        print 'I could be a global function'\n",
    "    uncommon = staticmethod(uncommon)\n",
    "```\n",
    "\n",
    "This syntax became difficult to read when the methods became large, or various transformations were done on the methods.\n",
    "The decorator syntax is lighter and easier to understand:\n",
    "\n",
    "```python\n",
    "class WhatFor(object):\n",
    "    @classmethod\n",
    "    define it(cls):\n",
    "        print 'work with %s' % cls@staticmethod\n",
    "    defuncommon():\n",
    "        print 'I could be a global function'\n",
    "```"
   ]
  },
  {
   "cell_type": "markdown",
   "metadata": {
    "lang": "en"
   },
   "source": [
    "### Structure\n",
    "How to write a decorator\n",
    "There are many ways to write custom decorators, but the easiest and most readable way is to write a function that returns a subfunction that wraps the original function call.\n",
    "A generic pattern is:\n",
    "\n",
    "```python\n",
    "def mydecorator(function):\n",
    "    def _mydecorator(*args,**kw):\n",
    "        # do some stuff before the real\n",
    "        # function gets called\n",
    "        res = function(*args, **kw)\n",
    "    return _mydecorator\n",
    "```"
   ]
  },
  {
   "cell_type": "markdown",
   "metadata": {
    "lang": "en"
   },
   "source": [
    "### Let's go there\n",
    "We remember 🤔\n",
    "\n",
    "There are really 3 functions:\n",
    "a, b and c\n",
    "\n",
    "Where:\n",
    " A is a function that receives as parameter B to return C"
   ]
  },
  {
   "cell_type": "code",
   "execution_count": null,
   "metadata": {},
   "outputs": [],
   "source": [
    "def decorator_function_A(one_function_B): \n",
    "    def inner_function_C(*args,**kw): \n",
    "        # code for the inner function\n",
    "        pass\n",
    "    return inner_function_C\n",
    "\n",
    "#decorator_function  = Function A\n",
    "#one_function  = Function B\n",
    "#inner_function = Function C"
   ]
  },
  {
   "cell_type": "markdown",
   "metadata": {},
   "source": [
    "### Modifying another function"
   ]
  },
  {
   "cell_type": "code",
   "execution_count": 29,
   "metadata": {},
   "outputs": [],
   "source": [
    "import random"
   ]
  },
  {
   "cell_type": "code",
   "execution_count": 30,
   "metadata": {},
   "outputs": [],
   "source": [
    "items = [\"tomate\", \"lettuce\", \"onion\"]"
   ]
  },
  {
   "cell_type": "code",
   "execution_count": 31,
   "metadata": {},
   "outputs": [],
   "source": [
    "def random_item (lst_):\n",
    "    return random.choice(lst_)"
   ]
  },
  {
   "cell_type": "code",
   "execution_count": 36,
   "metadata": {},
   "outputs": [
    {
     "data": {
      "text/plain": [
       "'lettuce'"
      ]
     },
     "execution_count": 36,
     "metadata": {},
     "output_type": "execute_result"
    }
   ],
   "source": [
    "random_item (items)"
   ]
  },
  {
   "cell_type": "code",
   "execution_count": 37,
   "metadata": {},
   "outputs": [],
   "source": [
    "def printer_function (fn):\n",
    "    def inner_function (*args, **kwargs):\n",
    "        print(\"Hello, this is what you return: \")\n",
    "        return fn(*args, **kwargs)\n",
    "    return inner_function"
   ]
  },
  {
   "cell_type": "code",
   "execution_count": 38,
   "metadata": {},
   "outputs": [],
   "source": [
    "@printer_function #decorador -> adv\n",
    "def random_item (lst_):\n",
    "    return random.choice(lst_)"
   ]
  },
  {
   "cell_type": "code",
   "execution_count": 39,
   "metadata": {},
   "outputs": [
    {
     "name": "stdout",
     "output_type": "stream",
     "text": [
      "Hello, this is what you return: \n"
     ]
    },
    {
     "data": {
      "text/plain": [
       "'tomate'"
      ]
     },
     "execution_count": 39,
     "metadata": {},
     "output_type": "execute_result"
    }
   ],
   "source": [
    "random_item(items)"
   ]
  },
  {
   "cell_type": "markdown",
   "metadata": {},
   "source": [
    "### Decorators for exception handlers"
   ]
  },
  {
   "cell_type": "code",
   "execution_count": 42,
   "metadata": {},
   "outputs": [],
   "source": [
    "def area_quare (length):\n",
    "    return length * length"
   ]
  },
  {
   "cell_type": "code",
   "execution_count": 44,
   "metadata": {},
   "outputs": [
    {
     "data": {
      "text/plain": [
       "4"
      ]
     },
     "execution_count": 44,
     "metadata": {},
     "output_type": "execute_result"
    }
   ],
   "source": [
    "area_quare(2)"
   ]
  },
  {
   "cell_type": "code",
   "execution_count": 45,
   "metadata": {},
   "outputs": [
    {
     "ename": "TypeError",
     "evalue": "can't multiply sequence by non-int of type 'str'",
     "output_type": "error",
     "traceback": [
      "\u001b[0;31m---------------------------------------------------------------------------\u001b[0m",
      "\u001b[0;31mTypeError\u001b[0m                                 Traceback (most recent call last)",
      "Input \u001b[0;32mIn [45]\u001b[0m, in \u001b[0;36m<cell line: 1>\u001b[0;34m()\u001b[0m\n\u001b[0;32m----> 1\u001b[0m \u001b[43marea_quare\u001b[49m\u001b[43m(\u001b[49m\u001b[38;5;124;43m\"\u001b[39;49m\u001b[38;5;124;43m2\u001b[39;49m\u001b[38;5;124;43m\"\u001b[39;49m\u001b[43m)\u001b[49m\n",
      "Input \u001b[0;32mIn [42]\u001b[0m, in \u001b[0;36marea_quare\u001b[0;34m(length)\u001b[0m\n\u001b[1;32m      1\u001b[0m \u001b[38;5;28;01mdef\u001b[39;00m \u001b[38;5;21marea_quare\u001b[39m (length):\n\u001b[0;32m----> 2\u001b[0m     \u001b[38;5;28;01mreturn\u001b[39;00m \u001b[43mlength\u001b[49m\u001b[43m \u001b[49m\u001b[38;5;241;43m*\u001b[39;49m\u001b[43m \u001b[49m\u001b[43mlength\u001b[49m\n",
      "\u001b[0;31mTypeError\u001b[0m: can't multiply sequence by non-int of type 'str'"
     ]
    }
   ],
   "source": [
    "area_quare(\"2\")"
   ]
  },
  {
   "cell_type": "code",
   "execution_count": 53,
   "metadata": {},
   "outputs": [],
   "source": [
    "def decorator_error_handler (fn): # fn: random_item\n",
    "    def inner_function (*args, **kwargs):\n",
    "        # HACE COSAS\n",
    "        try: \n",
    "            return fn (*args, **kwargs) #random_item\n",
    "        except:\n",
    "            return f\"The function {fn.__name__} doesn't accept these arguments\"\n",
    "    return inner_function"
   ]
  },
  {
   "cell_type": "code",
   "execution_count": 54,
   "metadata": {},
   "outputs": [],
   "source": [
    "@decorator_error_handler\n",
    "def area_quare (length):\n",
    "    return length * length"
   ]
  },
  {
   "cell_type": "code",
   "execution_count": 55,
   "metadata": {},
   "outputs": [
    {
     "data": {
      "text/plain": [
       "4"
      ]
     },
     "execution_count": 55,
     "metadata": {},
     "output_type": "execute_result"
    }
   ],
   "source": [
    "area_quare (2)"
   ]
  },
  {
   "cell_type": "code",
   "execution_count": 56,
   "metadata": {},
   "outputs": [
    {
     "data": {
      "text/plain": [
       "\"The function area_quare doesn't accept these arguments\""
      ]
     },
     "execution_count": 56,
     "metadata": {},
     "output_type": "execute_result"
    }
   ],
   "source": [
    "area_quare (\"2\")"
   ]
  },
  {
   "cell_type": "code",
   "execution_count": 57,
   "metadata": {},
   "outputs": [],
   "source": [
    "@decorator_error_handler\n",
    "def area_quare_2 (length):\n",
    "    return length * length"
   ]
  },
  {
   "cell_type": "code",
   "execution_count": 60,
   "metadata": {},
   "outputs": [
    {
     "data": {
      "text/plain": [
       "\"The function area_quare_3 doesn't accept these arguments\""
      ]
     },
     "execution_count": 60,
     "metadata": {},
     "output_type": "execute_result"
    }
   ],
   "source": [
    "@decorator_error_handler\n",
    "def area_quare_3 (length):\n",
    "    return length * length\n",
    "\n",
    "area_quare_3(\"3\")"
   ]
  },
  {
   "cell_type": "code",
   "execution_count": 58,
   "metadata": {},
   "outputs": [
    {
     "data": {
      "text/plain": [
       "\"The function area_quare_2 doesn't accept these arguments\""
      ]
     },
     "execution_count": 58,
     "metadata": {},
     "output_type": "execute_result"
    }
   ],
   "source": [
    "area_quare_2(\"3\")"
   ]
  },
  {
   "cell_type": "markdown",
   "metadata": {
    "lang": "en"
   },
   "source": [
    "### Verbosity/error handling"
   ]
  },
  {
   "cell_type": "code",
   "execution_count": 63,
   "metadata": {},
   "outputs": [
    {
     "data": {
      "text/plain": [
       "0"
      ]
     },
     "execution_count": 63,
     "metadata": {},
     "output_type": "execute_result"
    }
   ],
   "source": [
    "import os\n",
    "os.system(\"say hola\")"
   ]
  },
  {
   "cell_type": "code",
   "execution_count": 75,
   "metadata": {},
   "outputs": [],
   "source": [
    "def voice_feedback (fn):\n",
    "    def inner_function (*args, **kwargs):\n",
    "        os.system(\"say Im done\")\n",
    "        return fn(*args, **kwargs)\n",
    "    return inner_function"
   ]
  },
  {
   "cell_type": "code",
   "execution_count": 76,
   "metadata": {},
   "outputs": [],
   "source": [
    "@voice_feedback\n",
    "def addition (a, b):\n",
    "    return a + b"
   ]
  },
  {
   "cell_type": "code",
   "execution_count": 77,
   "metadata": {},
   "outputs": [
    {
     "data": {
      "text/plain": [
       "7"
      ]
     },
     "execution_count": 77,
     "metadata": {},
     "output_type": "execute_result"
    }
   ],
   "source": [
    "addition(3, 4)"
   ]
  },
  {
   "cell_type": "markdown",
   "metadata": {},
   "source": [
    "### Time"
   ]
  },
  {
   "cell_type": "code",
   "execution_count": 83,
   "metadata": {},
   "outputs": [],
   "source": [
    "from datetime import datetime"
   ]
  },
  {
   "cell_type": "code",
   "execution_count": null,
   "metadata": {},
   "outputs": [],
   "source": []
  },
  {
   "cell_type": "markdown",
   "metadata": {
    "lang": "en"
   },
   "source": [
    "## Let's create an API"
   ]
  },
  {
   "cell_type": "markdown",
   "metadata": {
    "lang": "en"
   },
   "source": [
    "API stands for Application Programming Interface.\n",
    "APIs allow your products and services to communicate with others, without the need to know how they are implemented.\n",
    "We are going to use an API as an intermediary element between a database and a user who wants to consult it without knowing programming."
   ]
  },
  {
   "cell_type": "code",
   "execution_count": null,
   "metadata": {},
   "outputs": [],
   "source": [
    "#!pip install flask"
   ]
  },
  {
   "cell_type": "code",
   "execution_count": 78,
   "metadata": {},
   "outputs": [],
   "source": [
    "import requests"
   ]
  },
  {
   "cell_type": "markdown",
   "metadata": {
    "lang": "en"
   },
   "source": [
    "### Let's go 🔥"
   ]
  },
  {
   "cell_type": "code",
   "execution_count": null,
   "metadata": {},
   "outputs": [],
   "source": [
    "# JSON\n",
    "    # JavaScript Object Notation\n",
    "    # Python -> diccionario\n",
    "    \n",
    "res = request.get(url).json()\n",
    "# \"{}\" -> .json() -> {}\n",
    "# http "
   ]
  },
  {
   "cell_type": "code",
   "execution_count": 43,
   "metadata": {},
   "outputs": [],
   "source": [
    "import requests"
   ]
  },
  {
   "cell_type": "code",
   "execution_count": 66,
   "metadata": {},
   "outputs": [],
   "source": [
    "url = \"http://127.0.0.1:5000/insert/employees\""
   ]
  },
  {
   "cell_type": "code",
   "execution_count": 75,
   "metadata": {},
   "outputs": [],
   "source": [
    "params = {\"emp_no\":90999999, \n",
    "        \"birth_date\": \"1958-02-10\",\n",
    "         \"first_name\": \"Hola\",\n",
    "         \"last_name\": \"JDKSHGMJFY\",\n",
    "         \"gender\": \"M\",\n",
    "         \"hire_date\": \"1958-02-10\"}"
   ]
  },
  {
   "cell_type": "code",
   "execution_count": 76,
   "metadata": {
    "scrolled": true
   },
   "outputs": [
    {
     "data": {
      "text/plain": [
       "'Inserted!'"
      ]
     },
     "execution_count": 76,
     "metadata": {},
     "output_type": "execute_result"
    }
   ],
   "source": [
    "res = requests.get(url, params=params).text\n",
    "res"
   ]
  },
  {
   "cell_type": "code",
   "execution_count": null,
   "metadata": {},
   "outputs": [],
   "source": []
  },
  {
   "cell_type": "code",
   "execution_count": null,
   "metadata": {},
   "outputs": [],
   "source": []
  },
  {
   "cell_type": "code",
   "execution_count": null,
   "metadata": {},
   "outputs": [
    {
     "name": "stdout",
     "output_type": "stream",
     "text": [
      " * Serving Flask app '__main__'\n",
      " * Debug mode: off\n"
     ]
    },
    {
     "name": "stderr",
     "output_type": "stream",
     "text": [
      "\u001b[31m\u001b[1mWARNING: This is a development server. Do not use it in a production deployment. Use a production WSGI server instead.\u001b[0m\n",
      " * Running on http://127.0.0.1:5000\n",
      "\u001b[33mPress CTRL+C to quit\u001b[0m\n",
      "127.0.0.1 - - [21/Jun/2023 19:06:34] \"GET /random HTTP/1.1\" 200 -\n",
      "127.0.0.1 - - [21/Jun/2023 19:06:36] \"GET /random HTTP/1.1\" 200 -\n"
     ]
    }
   ],
   "source": [
    "from flask import Flask\n",
    "import random\n",
    "\n",
    "\n",
    "app = Flask(__name__)\n",
    "\n",
    "@app.route(\"/\")\n",
    "def greting():\n",
    "    return \"Hello world!\"\n",
    "\n",
    "@app.route(\"/random\")\n",
    "def random_number ():\n",
    "    return str(random.randint(0, 100))\n",
    "\n",
    "@app.route(\"/campus/<ciudad>\")\n",
    "def campus_c (ciudad):\n",
    "    if ciudad == \"madrid\":\n",
    "        return \"Paseo de la Chopera, 14\"\n",
    "    elif ciudad == \"barcelona\":\n",
    "        return \"Carrer de Pamplona, 96\"\n",
    "    else:\n",
    "        return \"No campus here\"\n",
    "\n",
    "\n",
    "app.run()\n"
   ]
  },
  {
   "cell_type": "markdown",
   "metadata": {},
   "source": [
    "Curious about `__name__ == \"name\"`? [Here's](https://medium.com/python-features/understanding-if-name-main-in-python-a37a3d4ab0c3) some reading.\n",
    "\n",
    "But as the article says: \"We use if __name__ == “__main__” block to prevent (certain) code from being run when the module is imported\" "
   ]
  },
  {
   "cell_type": "markdown",
   "metadata": {},
   "source": [
    "## Summary"
   ]
  },
  {
   "cell_type": "markdown",
   "metadata": {
    "lang": "en"
   },
   "source": [
    "It's your turn. What have we seen today?"
   ]
  },
  {
   "cell_type": "code",
   "execution_count": null,
   "metadata": {},
   "outputs": [],
   "source": []
  }
 ],
 "metadata": {
  "kernelspec": {
   "display_name": "ironhack",
   "language": "python",
   "name": "ironhack"
  },
  "language_info": {
   "codemirror_mode": {
    "name": "ipython",
    "version": 3
   },
   "file_extension": ".py",
   "mimetype": "text/x-python",
   "name": "python",
   "nbconvert_exporter": "python",
   "pygments_lexer": "ipython3",
   "version": "3.9.12"
  },
  "nbTranslate": {
   "displayLangs": [
    "en",
    "es"
   ],
   "hotkey": "alt-a",
   "langInMainMenu": true,
   "sourceLang": "es",
   "targetLang": "en",
   "useGoogleTranslate": true
  },
  "toc": {
   "base_numbering": 1,
   "nav_menu": {},
   "number_sections": true,
   "sideBar": true,
   "skip_h1_title": true,
   "title_cell": "Table of Contents",
   "title_sidebar": "Contents",
   "toc_cell": true,
   "toc_position": {
    "height": "calc(100% - 180px)",
    "left": "10px",
    "top": "150px",
    "width": "207.003px"
   },
   "toc_section_display": true,
   "toc_window_display": false
  }
 },
 "nbformat": 4,
 "nbformat_minor": 4
}
