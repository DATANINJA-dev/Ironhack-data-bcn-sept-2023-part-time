{
 "cells": [
  {
   "cell_type": "markdown",
   "id": "9eb0f57b",
   "metadata": {
    "lang": "en"
   },
   "source": [
    "# Functional Programming"
   ]
  },
  {
   "cell_type": "markdown",
   "id": "conceptual-behalf",
   "metadata": {},
   "source": [
    "![elgif](https://media.giphy.com/media/CuMiNoTRz2bYc/giphy.gif)"
   ]
  },
  {
   "cell_type": "markdown",
   "id": "incorrect-serum",
   "metadata": {
    "toc": true
   },
   "source": [
    "<h1>Table of Contents<span class=\"tocSkip\"></span></h1>\n",
    "<div class=\"toc\"><ul class=\"toc-item\"><li><span><a href=\"#Your-contributions-🚀\" data-toc-modified-id=\"Your-contributions-🚀-1\"><span class=\"toc-item-num\">1&nbsp;&nbsp;</span>Your contributions 🚀</a></span></li><li><span><a href=\"#What-is-functional-programming?:-paradigms\" data-toc-modified-id=\"What-is-functional-programming?:-paradigms-2\"><span class=\"toc-item-num\">2&nbsp;&nbsp;</span>What is functional programming?: paradigms</a></span></li><li><span><a href=\"#Built-in-functions\" data-toc-modified-id=\"Built-in-functions-3\"><span class=\"toc-item-num\">3&nbsp;&nbsp;</span>Built-in functions</a></span></li><li><span><a href=\"#USER---DEFINED-FUNCTIONS\" data-toc-modified-id=\"USER---DEFINED-FUNCTIONS-4\"><span class=\"toc-item-num\">4&nbsp;&nbsp;</span>USER - DEFINED FUNCTIONS</a></span><ul class=\"toc-item\"><li><span><a href=\"#def\" data-toc-modified-id=\"def-4.1\"><span class=\"toc-item-num\">4.1&nbsp;&nbsp;</span>def</a></span></li><li><span><a href=\"#name\" data-toc-modified-id=\"name-4.2\"><span class=\"toc-item-num\">4.2&nbsp;&nbsp;</span>name</a></span></li><li><span><a href=\"#parameters\" data-toc-modified-id=\"parameters-4.3\"><span class=\"toc-item-num\">4.3&nbsp;&nbsp;</span>parameters</a></span></li><li><span><a href=\"#arguments\" data-toc-modified-id=\"arguments-4.4\"><span class=\"toc-item-num\">4.4&nbsp;&nbsp;</span>arguments</a></span><ul class=\"toc-item\"><li><span><a href=\"#default-parameters\" data-toc-modified-id=\"default-parameters-4.4.1\"><span class=\"toc-item-num\">4.4.1&nbsp;&nbsp;</span>default parameters</a></span></li><li><span><a href=\"#positional-arguments-&amp;-keyword-arguments\" data-toc-modified-id=\"positional-arguments-&amp;-keyword-arguments-4.4.2\"><span class=\"toc-item-num\">4.4.2&nbsp;&nbsp;</span>positional arguments &amp; keyword arguments</a></span></li><li><span><a href=\"#*args\" data-toc-modified-id=\"*args-4.4.3\"><span class=\"toc-item-num\">4.4.3&nbsp;&nbsp;</span><code>*args</code></a></span></li><li><span><a href=\"#**kwargs\" data-toc-modified-id=\"**kwargs-4.4.4\"><span class=\"toc-item-num\">4.4.4&nbsp;&nbsp;</span>**kwargs</a></span></li><li><span><a href=\"#order\" data-toc-modified-id=\"order-4.4.5\"><span class=\"toc-item-num\">4.4.5&nbsp;&nbsp;</span>order</a></span></li></ul></li><li><span><a href=\"#return\" data-toc-modified-id=\"return-4.5\"><span class=\"toc-item-num\">4.5&nbsp;&nbsp;</span>return</a></span></li><li><span><a href=\"#Docstrings:-documentation-strings\" data-toc-modified-id=\"Docstrings:-documentation-strings-4.6\"><span class=\"toc-item-num\">4.6&nbsp;&nbsp;</span>Docstrings: documentation strings</a></span></li><li><span><a href=\"#source-code\" data-toc-modified-id=\"source-code-4.7\"><span class=\"toc-item-num\">4.7&nbsp;&nbsp;</span>source code</a></span></li></ul></li><li><span><a href=\"#Scope-of-functions\" data-toc-modified-id=\"Scope-of-functions-5\"><span class=\"toc-item-num\">5&nbsp;&nbsp;</span>Scope of functions</a></span></li><li><span><a href=\"#Lambda\" data-toc-modified-id=\"Lambda-6\"><span class=\"toc-item-num\">6&nbsp;&nbsp;</span>Lambda</a></span><ul class=\"toc-item\"><li><span><a href=\"#Syntax-of-a-lambda\" data-toc-modified-id=\"Syntax-of-a-lambda-6.1\"><span class=\"toc-item-num\">6.1&nbsp;&nbsp;</span>Syntax of a lambda</a></span></li><li><span><a href=\"#lambda-examples\" data-toc-modified-id=\"lambda-examples-6.2\"><span class=\"toc-item-num\">6.2&nbsp;&nbsp;</span>lambda examples</a></span></li><li><span><a href=\"#lambda--as-the-option-of-some-other-built-in-functions\" data-toc-modified-id=\"lambda--as-the-option-of-some-other-built-in-functions-6.3\"><span class=\"toc-item-num\">6.3&nbsp;&nbsp;</span><code>lambda</code>  as the option of some other built-in functions</a></span></li></ul></li><li><span><a href=\"#Functions:-functions-as-return-of-another-function\" data-toc-modified-id=\"Functions:-functions-as-return-of-another-function-7\"><span class=\"toc-item-num\">7&nbsp;&nbsp;</span>Functions: functions as return of another function</a></span></li><li><span><a href=\"#Recursion\" data-toc-modified-id=\"Recursion-8\"><span class=\"toc-item-num\">8&nbsp;&nbsp;</span>Recursion</a></span><ul class=\"toc-item\"><li><ul class=\"toc-item\"><li><span><a href=\"#ins't-it-the-same-as-a-while-loop?\" data-toc-modified-id=\"ins't-it-the-same-as-a-while-loop?-8.0.1\"><span class=\"toc-item-num\">8.0.1&nbsp;&nbsp;</span><code>ins't it the same as a while loop?</code></a></span></li></ul></li></ul></li><li><span><a href=\"#Summary\" data-toc-modified-id=\"Summary-9\"><span class=\"toc-item-num\">9&nbsp;&nbsp;</span>Summary</a></span></li></ul></div>"
   ]
  },
  {
   "cell_type": "markdown",
   "id": "c8dbbad6",
   "metadata": {
    "lang": "en"
   },
   "source": [
    "## Your contributions 🚀\n",
    "What do you think functions do/what properties do they have? Whare they useful for?"
   ]
  },
  {
   "cell_type": "code",
   "execution_count": 1,
   "id": "85b8a1e4",
   "metadata": {},
   "outputs": [
    {
     "data": {
      "text/plain": [
       "'\\n- \"definir conjunto de argumentos para una variable: la variable cambia\"\\n- \"explica relación entre variables\"\\n- \"menos limitación\"\\n'"
      ]
     },
     "execution_count": 1,
     "metadata": {},
     "output_type": "execute_result"
    }
   ],
   "source": [
    "\"\"\"\n",
    "- \"definir conjunto de argumentos para una variable: la variable cambia\" -> parametrización\n",
    "- \"explica relación entre variables\"\n",
    "- \"menos limitación\"\n",
    "\"\"\""
   ]
  },
  {
   "cell_type": "code",
   "execution_count": 2,
   "id": "a1584e31",
   "metadata": {},
   "outputs": [],
   "source": [
    "def suma (a, b):\n",
    "    return a + b"
   ]
  },
  {
   "cell_type": "code",
   "execution_count": 3,
   "id": "87f2ebb8",
   "metadata": {},
   "outputs": [
    {
     "data": {
      "text/plain": [
       "8"
      ]
     },
     "execution_count": 3,
     "metadata": {},
     "output_type": "execute_result"
    }
   ],
   "source": [
    "suma (3, 5)"
   ]
  },
  {
   "cell_type": "code",
   "execution_count": 4,
   "id": "7814918e",
   "metadata": {},
   "outputs": [
    {
     "data": {
      "text/plain": [
       "12"
      ]
     },
     "execution_count": 4,
     "metadata": {},
     "output_type": "execute_result"
    }
   ],
   "source": [
    "suma (10, 2)"
   ]
  },
  {
   "cell_type": "markdown",
   "id": "199cb1a8",
   "metadata": {
    "lang": "en"
   },
   "source": [
    "## What is functional programming?: paradigms\n",
    "What does it mean that Python is multi-paradigm?\n",
    "According to Wikipedia:\n",
    "\n",
    "“Python is an interpreted programming language whose philosophy emphasizes the readability of its code. It is a multiparadigm programming language, since it supports object orientation, imperative programming and, to a lesser extent, functional programming.\n",
    "\n",
    "It means that it accepts different ways of working with language. Basically there are 3 predominant paradigms, or in other words, 3 global formats to organize a code."
   ]
  },
  {
   "cell_type": "markdown",
   "id": "1a292435",
   "metadata": {},
   "source": [
    "- **Imperative programming (structured)**: the code will be executed from the beginning of the file to the end without following any type of deviation. Its biggest advantage lies in its simplicity and low weight. Its danger is the spaghetti code, files with hundreds or thousands of lines where only a few human beings are able to modify and emerge victorious. It can look like this:"
   ]
  },
  {
   "cell_type": "code",
   "execution_count": 8,
   "id": "7181f0a3",
   "metadata": {},
   "outputs": [
    {
     "name": "stdout",
     "output_type": "stream",
     "text": [
      "hola\n",
      "10\n"
     ]
    }
   ],
   "source": [
    "print(\"hola\")\n",
    "a = 3\n",
    "b = 7\n",
    "c = a + b\n",
    "print(c)"
   ]
  },
  {
   "cell_type": "markdown",
   "id": "02cb1e2b",
   "metadata": {},
   "source": [
    "- **Object Oriented Programming (OOP or Object Oriented Programming)**: where variables and functions are encapsulated in small modules capable of being cloned and modified. Its strong point is the ability to reuse and isolate to avoid problems with other features. The negative part lies in the complexity of creating good objects and debugging. It can look like this:\n"
   ]
  },
  {
   "cell_type": "code",
   "execution_count": 9,
   "id": "919f20f6",
   "metadata": {
    "scrolled": true
   },
   "outputs": [
    {
     "data": {
      "text/plain": [
       "'\\nclass Car ():\\n    \\n    numero_ruedas = 4\\n    volante = True\\n    \\n    def moverse_delante():\\n        pass\\n\\nfiat_punto = Car()\\nmercedes = Car()\\n'"
      ]
     },
     "execution_count": 9,
     "metadata": {},
     "output_type": "execute_result"
    }
   ],
   "source": [
    "\"\"\"\n",
    "class Car ():\n",
    "    \n",
    "    numero_ruedas = 4\n",
    "    volante = True\n",
    "    \n",
    "    def upper():\n",
    "        pass\n",
    "\n",
    "fiat_punto = Car()\n",
    "mercedes = Car()\n",
    "\"\"\""
   ]
  },
  {
   "cell_type": "code",
   "execution_count": 11,
   "id": "1e193c9a",
   "metadata": {},
   "outputs": [],
   "source": [
    "una_string = \"sdsdsd\""
   ]
  },
  {
   "cell_type": "code",
   "execution_count": 12,
   "id": "3ad80f95",
   "metadata": {},
   "outputs": [
    {
     "data": {
      "text/plain": [
       "'SDSDSD'"
      ]
     },
     "execution_count": 12,
     "metadata": {},
     "output_type": "execute_result"
    }
   ],
   "source": [
    "una_string.upper()"
   ]
  },
  {
   "cell_type": "markdown",
   "id": "2a679fd0",
   "metadata": {},
   "source": [
    "- **Functional programming (FP or Functional programming)**: where the code is divided into simple functions capable of being invoked with variables or other functions. Its ease of use by atomicity achieves robust maintainability and compatibility with almost any language. In addition, its immutability of variables avoids many of the problems that object-oriented programming suffers."
   ]
  },
  {
   "cell_type": "code",
   "execution_count": 13,
   "id": "b79474fc",
   "metadata": {},
   "outputs": [],
   "source": [
    "def suma (a, b):\n",
    "    return a + b"
   ]
  },
  {
   "cell_type": "code",
   "execution_count": 14,
   "id": "179587c3",
   "metadata": {},
   "outputs": [],
   "source": [
    "def saludo (name):\n",
    "    return f\"Hola! My nombre es: {name}. ¿Qué tal?\""
   ]
  },
  {
   "cell_type": "code",
   "execution_count": 15,
   "id": "f5e37667",
   "metadata": {},
   "outputs": [
    {
     "data": {
      "text/plain": [
       "'Hola! My nombre es: Fer. ¿Qué tal?'"
      ]
     },
     "execution_count": 15,
     "metadata": {},
     "output_type": "execute_result"
    }
   ],
   "source": [
    "saludo (\"Fer\")"
   ]
  },
  {
   "cell_type": "code",
   "execution_count": 16,
   "id": "cd64653b",
   "metadata": {},
   "outputs": [
    {
     "data": {
      "text/plain": [
       "'Hola! My nombre es: Laura. ¿Qué tal?'"
      ]
     },
     "execution_count": 16,
     "metadata": {},
     "output_type": "execute_result"
    }
   ],
   "source": [
    "saludo (\"Laura\")"
   ]
  },
  {
   "cell_type": "markdown",
   "id": "7f89fd70",
   "metadata": {
    "lang": "en"
   },
   "source": [
    "## Built-in functions"
   ]
  },
  {
   "cell_type": "markdown",
   "id": "80919246",
   "metadata": {
    "lang": "en"
   },
   "source": [
    "The Python interpreter has a number of built-in functions and types that are always available. They are listed [here](https://docs.python.org/3/library/functions.html) in alphabetical order."
   ]
  },
  {
   "cell_type": "code",
   "execution_count": 17,
   "id": "546fd429",
   "metadata": {},
   "outputs": [
    {
     "name": "stdout",
     "output_type": "stream",
     "text": [
      "hello\n"
     ]
    }
   ],
   "source": [
    "print(\"hello\")"
   ]
  },
  {
   "cell_type": "code",
   "execution_count": 18,
   "id": "b25059ca",
   "metadata": {},
   "outputs": [
    {
     "name": "stdout",
     "output_type": "stream",
     "text": [
      "asdfdgsezwsr \n"
     ]
    }
   ],
   "source": [
    "print(\"asdfdgsezwsr \")"
   ]
  },
  {
   "cell_type": "markdown",
   "id": "d36c02f5",
   "metadata": {
    "lang": "en"
   },
   "source": [
    "In case of built-in functions we can't extract the code with inspect, since Python itself is written in C... the Print function looks like this 👇🏻"
   ]
  },
  {
   "cell_type": "markdown",
   "id": "through-silicon",
   "metadata": {},
   "source": [
    "```C\n",
    "static PyObject *\n",
    "builtin_print(PyObject *self, PyObject *args, PyObject *kwds)\n",
    "{\n",
    "    static char *kwlist[] = {\"sep\", \"end\", \"file\", 0};\n",
    "    static PyObject *dummy_args = NULL;\n",
    "    static PyObject *unicode_newline = NULL, *unicode_space = NULL;\n",
    "    static PyObject *str_newline = NULL, *str_space = NULL;\n",
    "    PyObject *newline, *space;\n",
    "    PyObject *sep = NULL, *end = NULL, *file = NULL;\n",
    "    int i, err, use_unicode = 0;\n",
    "\n",
    "    if (dummy_args == NULL) {\n",
    "        if (!(dummy_args = PyTuple_New(0)))\n",
    "            return NULL;\n",
    "    }\n",
    "    if (str_newline == NULL) {\n",
    "        str_newline = PyString_FromString(\"\\n\");\n",
    "        if (str_newline == NULL)\n",
    "            return NULL;\n",
    "        str_space = PyString_FromString(\" \");\n",
    "        if (str_space == NULL) {\n",
    "            Py_CLEAR(str_newline);\n",
    "            return NULL;\n",
    "        }\n",
    "#ifdef Py_USING_UNICODE\n",
    "        unicode_newline = PyUnicode_FromString(\"\\n\");\n",
    "        if (unicode_newline == NULL) {\n",
    "            Py_CLEAR(str_newline);\n",
    "            Py_CLEAR(str_space);\n",
    "            return NULL;\n",
    "        }\n",
    "        unicode_space = PyUnicode_FromString(\" \");\n",
    "        if (unicode_space == NULL) {\n",
    "            Py_CLEAR(str_newline);\n",
    "            Py_CLEAR(str_space);\n",
    "            Py_CLEAR(unicode_space);\n",
    "            return NULL;\n",
    "        }\n",
    "#endif\n",
    "    }\n",
    "    if (!PyArg_ParseTupleAndKeywords(dummy_args, kwds, \"|OOO:print\",\n",
    "                                     kwlist, &sep, &end, &file))\n",
    "        return NULL;\n",
    "    if (file == NULL || file == Py_None) {\n",
    "        file = PySys_GetObject(\"stdout\");\n",
    "        /* sys.stdout may be None when FILE* stdout isn't connected */\n",
    "        if (file == Py_None)\n",
    "            Py_RETURN_NONE;\n",
    "    }\n",
    "    if (sep == Py_None) {\n",
    "        sep = NULL;\n",
    "    }\n",
    "    else if (sep) {\n",
    "        if (PyUnicode_Check(sep)) {\n",
    "            use_unicode = 1;\n",
    "        }\n",
    "        else if (!PyString_Check(sep)) {\n",
    "            PyErr_Format(PyExc_TypeError,\n",
    "                         \"sep must be None, str or unicode, not %.200s\",\n",
    "                         sep->ob_type->tp_name);\n",
    "            return NULL;\n",
    "        }\n",
    "    }\n",
    "    if (end == Py_None)\n",
    "        end = NULL;\n",
    "    else if (end) {\n",
    "        if (PyUnicode_Check(end)) {\n",
    "            use_unicode = 1;\n",
    "        }\n",
    "        else if (!PyString_Check(end)) {\n",
    "            PyErr_Format(PyExc_TypeError,\n",
    "                         \"end must be None, str or unicode, not %.200s\",\n",
    "                         end->ob_type->tp_name);\n",
    "            return NULL;\n",
    "        }\n",
    "    }\n",
    "\n",
    "    if (!use_unicode) {\n",
    "        for (i = 0; i < PyTuple_Size(args); i++) {\n",
    "            if (PyUnicode_Check(PyTuple_GET_ITEM(args, i))) {\n",
    "                use_unicode = 1;\n",
    "                break;\n",
    "            }\n",
    "        }\n",
    "    }\n",
    "    if (use_unicode) {\n",
    "        newline = unicode_newline;\n",
    "        space = unicode_space;\n",
    "    }\n",
    "    else {\n",
    "        newline = str_newline;\n",
    "        space = str_space;\n",
    "    }\n",
    "\n",
    "    for (i = 0; i < PyTuple_Size(args); i++) {\n",
    "        if (i > 0) {\n",
    "            if (sep == NULL)\n",
    "                err = PyFile_WriteObject(space, file,\n",
    "                                         Py_PRINT_RAW);\n",
    "            else\n",
    "                err = PyFile_WriteObject(sep, file,\n",
    "                                         Py_PRINT_RAW);\n",
    "            if (err)\n",
    "                return NULL;\n",
    "        }\n",
    "        err = PyFile_WriteObject(PyTuple_GetItem(args, i), file,\n",
    "                                 Py_PRINT_RAW);\n",
    "        if (err)\n",
    "            return NULL;\n",
    "    }\n",
    "\n",
    "    if (end == NULL)\n",
    "        err = PyFile_WriteObject(newline, file, Py_PRINT_RAW);\n",
    "    else\n",
    "        err = PyFile_WriteObject(end, file, Py_PRINT_RAW);\n",
    "    if (err)\n",
    "        return NULL;\n",
    "\n",
    "    Py_RETURN_NONE;\n",
    "}\n",
    "```"
   ]
  },
  {
   "cell_type": "code",
   "execution_count": 19,
   "id": "8f3bac51",
   "metadata": {},
   "outputs": [
    {
     "name": "stdout",
     "output_type": "stream",
     "text": [
      "Esto es un print\n"
     ]
    }
   ],
   "source": [
    "un_print = print(\"Esto es un print\")"
   ]
  },
  {
   "cell_type": "code",
   "execution_count": 20,
   "id": "0e10bef3",
   "metadata": {},
   "outputs": [
    {
     "data": {
      "text/plain": [
       "NoneType"
      ]
     },
     "execution_count": 20,
     "metadata": {},
     "output_type": "execute_result"
    }
   ],
   "source": [
    "type(un_print)"
   ]
  },
  {
   "cell_type": "markdown",
   "id": "9197a86b",
   "metadata": {},
   "source": [
    "## USER - DEFINED FUNCTIONS"
   ]
  },
  {
   "cell_type": "markdown",
   "id": "054f974c",
   "metadata": {},
   "source": [
    "- `def` \n",
    "- `name` \n",
    "- `params` \n",
    "- `args` \n",
    "-  `return`\n",
    "- `docstrings` \n",
    "\n",
    "- `source code`"
   ]
  },
  {
   "cell_type": "markdown",
   "id": "85d6428d",
   "metadata": {
    "lang": "en"
   },
   "source": [
    "**Syntax for DEFINING a function**\n",
    "```python\n",
    "\n",
    "def name_function(input params):\n",
    "    # the colon and the indentation imply being in the function\n",
    "    take an action\n",
    "    return() # return a certain value\n",
    "\n",
    "```\n",
    "\n",
    "**Syntax for CALLING a function**\n",
    "\n",
    "`name_of_the_function(argument1, argument2, ...)`\n",
    "\n",
    "or, if you want to save the result in a variable\n",
    "\n",
    "`result = name_of_the_function(argument1, argument2, ...)`"
   ]
  },
  {
   "cell_type": "markdown",
   "id": "d14ec799",
   "metadata": {},
   "source": [
    "### def"
   ]
  },
  {
   "cell_type": "code",
   "execution_count": 22,
   "id": "66d182bf",
   "metadata": {},
   "outputs": [],
   "source": [
    "def suma (a, b):\n",
    "    return a + b"
   ]
  },
  {
   "cell_type": "markdown",
   "id": "f2e75efb",
   "metadata": {},
   "source": [
    "### name"
   ]
  },
  {
   "cell_type": "code",
   "execution_count": null,
   "id": "f5693495",
   "metadata": {},
   "outputs": [],
   "source": [
    "#value = 56789\n",
    "#calculate(a, b)"
   ]
  },
  {
   "cell_type": "code",
   "execution_count": null,
   "id": "e89a74fb",
   "metadata": {},
   "outputs": [],
   "source": [
    "def this_adds_two_numbers (a, b):\n",
    "    return a + b"
   ]
  },
  {
   "cell_type": "markdown",
   "id": "80ee81e1",
   "metadata": {},
   "source": [
    "### parameters"
   ]
  },
  {
   "cell_type": "markdown",
   "id": "5ddcf19e",
   "metadata": {},
   "source": [
    "`()`"
   ]
  },
  {
   "cell_type": "code",
   "execution_count": 27,
   "id": "e47de7ab",
   "metadata": {},
   "outputs": [],
   "source": [
    "def saludo_print ():\n",
    "    print(\"Hola! Cómo estás?\")"
   ]
  },
  {
   "cell_type": "code",
   "execution_count": 28,
   "id": "584edba3",
   "metadata": {},
   "outputs": [],
   "source": [
    "def saludo_return ():\n",
    "    return \"Hola! Cómo estás?\""
   ]
  },
  {
   "cell_type": "code",
   "execution_count": 30,
   "id": "1d863c51",
   "metadata": {},
   "outputs": [
    {
     "name": "stdout",
     "output_type": "stream",
     "text": [
      "Hola! Cómo estás?\n"
     ]
    }
   ],
   "source": [
    "saludo_print ()"
   ]
  },
  {
   "cell_type": "code",
   "execution_count": 31,
   "id": "93275da3",
   "metadata": {
    "scrolled": true
   },
   "outputs": [
    {
     "data": {
      "text/plain": [
       "'Hola! Cómo estás?'"
      ]
     },
     "execution_count": 31,
     "metadata": {},
     "output_type": "execute_result"
    }
   ],
   "source": [
    "saludo_return ()"
   ]
  },
  {
   "cell_type": "code",
   "execution_count": 33,
   "id": "bb21d0e1",
   "metadata": {},
   "outputs": [
    {
     "name": "stdout",
     "output_type": "stream",
     "text": [
      "Hola! Cómo estás?\n"
     ]
    }
   ],
   "source": [
    "variable_saludo_print = saludo_print ()\n",
    "variable_saludo_print"
   ]
  },
  {
   "cell_type": "code",
   "execution_count": 35,
   "id": "3e279df8",
   "metadata": {},
   "outputs": [
    {
     "data": {
      "text/plain": [
       "'Hola! Cómo estás?'"
      ]
     },
     "execution_count": 35,
     "metadata": {},
     "output_type": "execute_result"
    }
   ],
   "source": [
    "variable_saludo_return = saludo_return ()\n",
    "variable_saludo_return"
   ]
  },
  {
   "cell_type": "code",
   "execution_count": 37,
   "id": "2b911945",
   "metadata": {},
   "outputs": [
    {
     "data": {
      "text/plain": [
       "'HOLA! CÓMO ESTÁS?'"
      ]
     },
     "execution_count": 37,
     "metadata": {},
     "output_type": "execute_result"
    }
   ],
   "source": [
    "variable_saludo_return.upper() # return: es una string"
   ]
  },
  {
   "cell_type": "code",
   "execution_count": 39,
   "id": "6235600f",
   "metadata": {
    "scrolled": true
   },
   "outputs": [
    {
     "ename": "AttributeError",
     "evalue": "'NoneType' object has no attribute 'upper'",
     "output_type": "error",
     "traceback": [
      "\u001b[0;31m---------------------------------------------------------------------------\u001b[0m",
      "\u001b[0;31mAttributeError\u001b[0m                            Traceback (most recent call last)",
      "Input \u001b[0;32mIn [39]\u001b[0m, in \u001b[0;36m<cell line: 1>\u001b[0;34m()\u001b[0m\n\u001b[0;32m----> 1\u001b[0m \u001b[43mvariable_saludo_print\u001b[49m\u001b[38;5;241;43m.\u001b[39;49m\u001b[43mupper\u001b[49m()\n",
      "\u001b[0;31mAttributeError\u001b[0m: 'NoneType' object has no attribute 'upper'"
     ]
    }
   ],
   "source": [
    "variable_saludo_print.upper() # dentro tiene un print"
   ]
  },
  {
   "cell_type": "code",
   "execution_count": 41,
   "id": "7363796b",
   "metadata": {},
   "outputs": [
    {
     "data": {
      "text/plain": [
       "'NONE'"
      ]
     },
     "execution_count": 41,
     "metadata": {},
     "output_type": "execute_result"
    }
   ],
   "source": [
    "str(variable_saludo_print).upper()"
   ]
  },
  {
   "cell_type": "code",
   "execution_count": 42,
   "id": "bca5b184",
   "metadata": {},
   "outputs": [],
   "source": [
    "def sumar (a , b):\n",
    "    \"\"\"Esta función suma dos elementos.\n",
    "    a: int o float\n",
    "    b: int o float\n",
    "    returns la suma de los argumentos\n",
    "    \"\"\"\n",
    "    return a + b"
   ]
  },
  {
   "cell_type": "code",
   "execution_count": 44,
   "id": "6b889961",
   "metadata": {},
   "outputs": [
    {
     "name": "stdout",
     "output_type": "stream",
     "text": [
      "Esta función suma dos elementos.\n",
      "    a: int o float\n",
      "    b: int o float\n",
      "    returns la suma de los argumentos\n",
      "    \n"
     ]
    }
   ],
   "source": [
    "print(sumar.__doc__)"
   ]
  },
  {
   "cell_type": "code",
   "execution_count": 45,
   "id": "40e58282",
   "metadata": {},
   "outputs": [],
   "source": [
    "import inspect"
   ]
  },
  {
   "cell_type": "code",
   "execution_count": 46,
   "id": "24959fd6",
   "metadata": {},
   "outputs": [
    {
     "name": "stdout",
     "output_type": "stream",
     "text": [
      "def sumar (a , b):\n",
      "    \"\"\"Esta función suma dos elementos.\n",
      "    a: int o float\n",
      "    b: int o float\n",
      "    returns la suma de los argumentos\n",
      "    \"\"\"\n",
      "    return a + b\n",
      "\n"
     ]
    }
   ],
   "source": [
    "print(inspect.getsource(sumar))"
   ]
  },
  {
   "cell_type": "code",
   "execution_count": 47,
   "id": "0aaa8e5c",
   "metadata": {},
   "outputs": [],
   "source": [
    "def hola ():\n",
    "    return \"hola qué tal\""
   ]
  },
  {
   "cell_type": "code",
   "execution_count": 48,
   "id": "d9889b93",
   "metadata": {},
   "outputs": [
    {
     "data": {
      "text/plain": [
       "'hola qué tal'"
      ]
     },
     "execution_count": 48,
     "metadata": {},
     "output_type": "execute_result"
    }
   ],
   "source": [
    "hola()"
   ]
  },
  {
   "cell_type": "code",
   "execution_count": 49,
   "id": "eadd3837",
   "metadata": {},
   "outputs": [
    {
     "data": {
      "text/plain": [
       "'hola qué tal'"
      ]
     },
     "execution_count": 49,
     "metadata": {},
     "output_type": "execute_result"
    }
   ],
   "source": [
    "hola ()"
   ]
  },
  {
   "cell_type": "markdown",
   "id": "93588783",
   "metadata": {},
   "source": [
    "`(param_1, param_2)`"
   ]
  },
  {
   "cell_type": "code",
   "execution_count": 67,
   "id": "16d408d4",
   "metadata": {},
   "outputs": [],
   "source": [
    "def saludos_edad (name, edad):\n",
    "    return f\"Hola, me llamo {name} y tengo {edad} años\""
   ]
  },
  {
   "cell_type": "markdown",
   "id": "5308ad65",
   "metadata": {},
   "source": [
    "### arguments"
   ]
  },
  {
   "cell_type": "code",
   "execution_count": 53,
   "id": "4e64c95e",
   "metadata": {},
   "outputs": [
    {
     "data": {
      "text/plain": [
       "'Hola, me llamo Fer y tengo 20 años'"
      ]
     },
     "execution_count": 53,
     "metadata": {},
     "output_type": "execute_result"
    }
   ],
   "source": [
    "saludos_edad (\"Fer\", 20)"
   ]
  },
  {
   "cell_type": "code",
   "execution_count": 54,
   "id": "44cf6afa",
   "metadata": {},
   "outputs": [
    {
     "data": {
      "text/plain": [
       "'Hola, me llamo Laura y tengo 20 años'"
      ]
     },
     "execution_count": 54,
     "metadata": {},
     "output_type": "execute_result"
    }
   ],
   "source": [
    "saludos_edad (\"Laura\", 20)"
   ]
  },
  {
   "cell_type": "code",
   "execution_count": 55,
   "id": "be9588ad",
   "metadata": {},
   "outputs": [
    {
     "name": "stdout",
     "output_type": "stream",
     "text": [
      "Hola, me llamo Fer y tengo 26 años\n",
      "Hola, me llamo Laura y tengo 31 años\n"
     ]
    }
   ],
   "source": [
    "print(f\"Hola, me llamo Fer y tengo 26 años\")\n",
    "print(f\"Hola, me llamo Laura y tengo 31 años\")"
   ]
  },
  {
   "cell_type": "code",
   "execution_count": 68,
   "id": "a393cc6e",
   "metadata": {
    "scrolled": true
   },
   "outputs": [
    {
     "data": {
      "text/plain": [
       "'Hola, me llamo Fer y tengo 20 años'"
      ]
     },
     "execution_count": 68,
     "metadata": {},
     "output_type": "execute_result"
    }
   ],
   "source": [
    "saludos_edad (\"Fer\", 20)"
   ]
  },
  {
   "cell_type": "markdown",
   "id": "9791b430",
   "metadata": {},
   "source": [
    "Formal parameters for a function are listed in the function declaration and used in the body of the function definition.\n",
    "\n",
    "An argument is what is used when referring to parameters. When you write a function call, the arguments are listed in parentheses after the function name. When the function call is executed, the arguments are inserted for the parameters.\n",
    "\n",
    "Let's say then that the parameters are those \"imaginary\" variables that will have the same name in the definition and in the body of the function.\n",
    "The arguments are the REAL DATA that we use when we call the function."
   ]
  },
  {
   "cell_type": "markdown",
   "id": "ade26130",
   "metadata": {},
   "source": [
    "#### default parameters"
   ]
  },
  {
   "cell_type": "markdown",
   "id": "6cda5b22",
   "metadata": {},
   "source": [
    "`(param_1, param_default = defaultvalue)` "
   ]
  },
  {
   "cell_type": "markdown",
   "id": "62729a1e",
   "metadata": {},
   "source": [
    "1. `greetings_default(myself, someone_else, language=\"en\")`"
   ]
  },
  {
   "cell_type": "code",
   "execution_count": 98,
   "id": "325ab343",
   "metadata": {},
   "outputs": [],
   "source": [
    "def calculo (sueldo, irpf=0.17):\n",
    "    resta_irpf = 1 -  irpf\n",
    "    sueldo_neto = sueldo * resta_irpf\n",
    "    return f\"{round(sueldo_neto/12, 2)} € netos/mes\""
   ]
  },
  {
   "cell_type": "code",
   "execution_count": 90,
   "id": "48358213",
   "metadata": {},
   "outputs": [
    {
     "data": {
      "text/plain": [
       "'1590.83 € netos/mes'"
      ]
     },
     "execution_count": 90,
     "metadata": {},
     "output_type": "execute_result"
    }
   ],
   "source": [
    "calculo(23000)"
   ]
  },
  {
   "cell_type": "code",
   "execution_count": 91,
   "id": "5445a463",
   "metadata": {},
   "outputs": [
    {
     "data": {
      "text/plain": [
       "'1629.17 € netos/mes'"
      ]
     },
     "execution_count": 91,
     "metadata": {},
     "output_type": "execute_result"
    }
   ],
   "source": [
    "calculo(23000, 0.15)"
   ]
  },
  {
   "cell_type": "code",
   "execution_count": 92,
   "id": "63541e83",
   "metadata": {
    "scrolled": true
   },
   "outputs": [
    {
     "name": "stdout",
     "output_type": "stream",
     "text": [
      "Hola qué tal\n"
     ]
    }
   ],
   "source": [
    "recoger_input = input()"
   ]
  },
  {
   "cell_type": "code",
   "execution_count": 96,
   "id": "8525e15d",
   "metadata": {},
   "outputs": [
    {
     "name": "stdout",
     "output_type": "stream",
     "text": [
      "Por favor introduce un número: 23\n"
     ]
    },
    {
     "data": {
      "text/plain": [
       "'23'"
      ]
     },
     "execution_count": 96,
     "metadata": {},
     "output_type": "execute_result"
    }
   ],
   "source": [
    "input(\"Por favor introduce un número: \") "
   ]
  },
  {
   "cell_type": "code",
   "execution_count": 93,
   "id": "751f6229",
   "metadata": {},
   "outputs": [
    {
     "data": {
      "text/plain": [
       "'Hola qué tal'"
      ]
     },
     "execution_count": 93,
     "metadata": {},
     "output_type": "execute_result"
    }
   ],
   "source": [
    "recoger_input"
   ]
  },
  {
   "cell_type": "markdown",
   "id": "ee22d185",
   "metadata": {},
   "source": [
    "2. `calculation (num_1, num_2, operation=\"+\")`"
   ]
  },
  {
   "cell_type": "code",
   "execution_count": 99,
   "id": "b003ed34",
   "metadata": {},
   "outputs": [],
   "source": [
    "def calculo_segun_operacion (num_1, num_2, operation):\n",
    "    \n",
    "    if operation == \"+\":\n",
    "        return num_1 + num_2\n",
    "    \n",
    "    elif operation == \"*\":\n",
    "        return num_1 * num_2\n",
    "    \n",
    "    else:\n",
    "        return \"Lo siento ese operador no lo tenemos\""
   ]
  },
  {
   "cell_type": "code",
   "execution_count": 100,
   "id": "c31e0387",
   "metadata": {},
   "outputs": [
    {
     "data": {
      "text/plain": [
       "8"
      ]
     },
     "execution_count": 100,
     "metadata": {},
     "output_type": "execute_result"
    }
   ],
   "source": [
    "calculo_segun_operacion (3, 5, \"+\")"
   ]
  },
  {
   "cell_type": "code",
   "execution_count": 101,
   "id": "b550d539",
   "metadata": {},
   "outputs": [
    {
     "data": {
      "text/plain": [
       "15"
      ]
     },
     "execution_count": 101,
     "metadata": {},
     "output_type": "execute_result"
    }
   ],
   "source": [
    "calculo_segun_operacion (3, 5, \"*\")"
   ]
  },
  {
   "cell_type": "code",
   "execution_count": 102,
   "id": "f6abfd32",
   "metadata": {},
   "outputs": [
    {
     "data": {
      "text/plain": [
       "'Lo siento ese operador no lo tenemos'"
      ]
     },
     "execution_count": 102,
     "metadata": {},
     "output_type": "execute_result"
    }
   ],
   "source": [
    "calculo_segun_operacion (3, 5, \"/\")"
   ]
  },
  {
   "cell_type": "code",
   "execution_count": 120,
   "id": "517210eb",
   "metadata": {},
   "outputs": [],
   "source": [
    "def calculo_segun_operacion (num_1, num_2, operation=\"+\"):\n",
    "    \n",
    "    if operation == \"+\":\n",
    "        print(\"Print antes del return\")\n",
    "        return num_1 + num_2\n",
    "        print(\"Print después del return\")\n",
    "    \n",
    "    elif operation == \"*\":\n",
    "        print(\"Aquí tienes tu cálculo\")\n",
    "        return num_1 * num_2"
   ]
  },
  {
   "cell_type": "code",
   "execution_count": 128,
   "id": "02e36ca5",
   "metadata": {},
   "outputs": [],
   "source": [
    "def lista_numeros ():\n",
    "    nums = [1, 2, 10, 5782, 11, 200]\n",
    "    \n",
    "    for i in nums:\n",
    "        if i > 10:\n",
    "            return i"
   ]
  },
  {
   "cell_type": "code",
   "execution_count": 129,
   "id": "22d4ac0b",
   "metadata": {},
   "outputs": [
    {
     "data": {
      "text/plain": [
       "5782"
      ]
     },
     "execution_count": 129,
     "metadata": {},
     "output_type": "execute_result"
    }
   ],
   "source": [
    "lista_numeros ()"
   ]
  },
  {
   "cell_type": "code",
   "execution_count": 121,
   "id": "b87a4e8d",
   "metadata": {
    "scrolled": true
   },
   "outputs": [
    {
     "name": "stdout",
     "output_type": "stream",
     "text": [
      "Print antes del return\n"
     ]
    },
    {
     "data": {
      "text/plain": [
       "8"
      ]
     },
     "execution_count": 121,
     "metadata": {},
     "output_type": "execute_result"
    }
   ],
   "source": [
    "calculo_segun_operacion (3, 5)"
   ]
  },
  {
   "cell_type": "code",
   "execution_count": 114,
   "id": "935816dc",
   "metadata": {},
   "outputs": [
    {
     "data": {
      "text/plain": [
       "15"
      ]
     },
     "execution_count": 114,
     "metadata": {},
     "output_type": "execute_result"
    }
   ],
   "source": [
    "calculo_segun_operacion (3, 5, \"*\")"
   ]
  },
  {
   "cell_type": "code",
   "execution_count": 306,
   "id": "e7ef422e",
   "metadata": {},
   "outputs": [],
   "source": [
    "def saludo_idioma (nombre, idioma=\"es\"):\n",
    "    if idioma == \"en\":\n",
    "        return f\"Hello! {nombre}\"\n",
    "    else:\n",
    "        return f\"Hola! {nombre}\""
   ]
  },
  {
   "cell_type": "code",
   "execution_count": 307,
   "id": "0ea87a34",
   "metadata": {},
   "outputs": [
    {
     "data": {
      "text/plain": [
       "'Hola! María'"
      ]
     },
     "execution_count": 307,
     "metadata": {},
     "output_type": "execute_result"
    }
   ],
   "source": [
    "saludo_idioma (\"María\")"
   ]
  },
  {
   "cell_type": "code",
   "execution_count": 308,
   "id": "dee970bc",
   "metadata": {},
   "outputs": [
    {
     "data": {
      "text/plain": [
       "'Hello! María'"
      ]
     },
     "execution_count": 308,
     "metadata": {},
     "output_type": "execute_result"
    }
   ],
   "source": [
    "saludo_idioma(\"María\", \"en\")"
   ]
  },
  {
   "cell_type": "code",
   "execution_count": 309,
   "id": "362357db",
   "metadata": {
    "scrolled": true
   },
   "outputs": [
    {
     "data": {
      "text/plain": [
       "'Hello! María'"
      ]
     },
     "execution_count": 309,
     "metadata": {},
     "output_type": "execute_result"
    }
   ],
   "source": [
    "saludo_idioma(\"María\", idioma=\"en\")"
   ]
  },
  {
   "cell_type": "markdown",
   "id": "37fbea85",
   "metadata": {},
   "source": [
    "#### positional arguments & keyword arguments"
   ]
  },
  {
   "cell_type": "code",
   "execution_count": 134,
   "id": "d63acb18",
   "metadata": {},
   "outputs": [
    {
     "data": {
      "text/plain": [
       "'\\ndef calculo (irpf=0.17, sueldo):\\n    resta_irpf = 1 -  irpf\\n    sueldo_neto = sueldo * resta_irpf\\n    return f\"{round(sueldo_neto/12, 2)} € netos/mes\"\\n'"
      ]
     },
     "execution_count": 134,
     "metadata": {},
     "output_type": "execute_result"
    }
   ],
   "source": [
    "\"\"\"\n",
    "def calculo (irpf=0.17, sueldo):\n",
    "    resta_irpf = 1 -  irpf\n",
    "    sueldo_neto = sueldo * resta_irpf\n",
    "    return f\"{round(sueldo_neto/12, 2)} € netos/mes\"\n",
    "\"\"\"\n",
    "\n",
    "# SyntaxError: non-default argument follows default argument"
   ]
  },
  {
   "cell_type": "markdown",
   "id": "e3e4c777",
   "metadata": {},
   "source": [
    "`def addition (num_1, some_name=withavalue)`"
   ]
  },
  {
   "cell_type": "markdown",
   "id": "b77b53ca",
   "metadata": {},
   "source": [
    "#### `*args`\n",
    "In Python, the special parameter `*args` in a function is used to optionally pass a variable number of **positional** arguments."
   ]
  },
  {
   "cell_type": "markdown",
   "id": "2bb755bc",
   "metadata": {},
   "source": [
    "`two arguments`"
   ]
  },
  {
   "cell_type": "code",
   "execution_count": 138,
   "id": "a6c97e57",
   "metadata": {},
   "outputs": [],
   "source": [
    "def dividir (a, b):\n",
    "    return a / b"
   ]
  },
  {
   "cell_type": "code",
   "execution_count": 139,
   "id": "918d3742",
   "metadata": {},
   "outputs": [
    {
     "data": {
      "text/plain": [
       "0.6"
      ]
     },
     "execution_count": 139,
     "metadata": {},
     "output_type": "execute_result"
    }
   ],
   "source": [
    "dividir (3, 5)"
   ]
  },
  {
   "cell_type": "code",
   "execution_count": 140,
   "id": "73ec2e45",
   "metadata": {},
   "outputs": [
    {
     "data": {
      "text/plain": [
       "1.6666666666666667"
      ]
     },
     "execution_count": 140,
     "metadata": {},
     "output_type": "execute_result"
    }
   ],
   "source": [
    "dividir (5, 3)"
   ]
  },
  {
   "cell_type": "markdown",
   "id": "7fee6e45",
   "metadata": {},
   "source": [
    "`unkown number of arguments`"
   ]
  },
  {
   "cell_type": "code",
   "execution_count": 142,
   "id": "0310af2e",
   "metadata": {},
   "outputs": [
    {
     "data": {
      "text/plain": [
       "14"
      ]
     },
     "execution_count": 142,
     "metadata": {},
     "output_type": "execute_result"
    }
   ],
   "source": [
    "suma_elementos_lista ([5, 6, 3])"
   ]
  },
  {
   "cell_type": "code",
   "execution_count": 143,
   "id": "e1e3ee8a",
   "metadata": {},
   "outputs": [],
   "source": [
    "def suma (a, b):\n",
    "    return a + b"
   ]
  },
  {
   "cell_type": "code",
   "execution_count": 158,
   "id": "bce16c54",
   "metadata": {},
   "outputs": [
    {
     "name": "stdout",
     "output_type": "stream",
     "text": [
      "(3, 5)\n"
     ]
    },
    {
     "data": {
      "text/plain": [
       "8"
      ]
     },
     "execution_count": 158,
     "metadata": {},
     "output_type": "execute_result"
    }
   ],
   "source": [
    "suma (3, 5)"
   ]
  },
  {
   "cell_type": "code",
   "execution_count": 144,
   "id": "4adf34ac",
   "metadata": {},
   "outputs": [
    {
     "ename": "TypeError",
     "evalue": "suma() takes 2 positional arguments but 3 were given",
     "output_type": "error",
     "traceback": [
      "\u001b[0;31m---------------------------------------------------------------------------\u001b[0m",
      "\u001b[0;31mTypeError\u001b[0m                                 Traceback (most recent call last)",
      "Input \u001b[0;32mIn [144]\u001b[0m, in \u001b[0;36m<cell line: 1>\u001b[0;34m()\u001b[0m\n\u001b[0;32m----> 1\u001b[0m \u001b[43msuma\u001b[49m\u001b[43m \u001b[49m\u001b[43m(\u001b[49m\u001b[38;5;241;43m1\u001b[39;49m\u001b[43m,\u001b[49m\u001b[43m \u001b[49m\u001b[38;5;241;43m2\u001b[39;49m\u001b[43m,\u001b[49m\u001b[43m \u001b[49m\u001b[38;5;241;43m4\u001b[39;49m\u001b[43m)\u001b[49m\n",
      "\u001b[0;31mTypeError\u001b[0m: suma() takes 2 positional arguments but 3 were given"
     ]
    }
   ],
   "source": [
    "suma (1, 2, 4)"
   ]
  },
  {
   "cell_type": "code",
   "execution_count": null,
   "id": "f413c6a2",
   "metadata": {},
   "outputs": [],
   "source": [
    "suma (1, 2, 4) # error: def 2, args: 3"
   ]
  },
  {
   "cell_type": "code",
   "execution_count": 159,
   "id": "784a230f",
   "metadata": {},
   "outputs": [],
   "source": [
    "def suma (*args):\n",
    "    print(f\"Los argumentos que has pasadon, es/son: {args}\")\n",
    "    contador = 0\n",
    "    for i in args:\n",
    "        contador += int(i)\n",
    "    return contador"
   ]
  },
  {
   "cell_type": "code",
   "execution_count": 160,
   "id": "d7ed875a",
   "metadata": {},
   "outputs": [
    {
     "name": "stdout",
     "output_type": "stream",
     "text": [
      "Los argumentos que has pasadon, es/son: ('3', 5)\n"
     ]
    },
    {
     "data": {
      "text/plain": [
       "8"
      ]
     },
     "execution_count": 160,
     "metadata": {},
     "output_type": "execute_result"
    }
   ],
   "source": [
    "suma (\"3\", 5)"
   ]
  },
  {
   "cell_type": "code",
   "execution_count": 161,
   "id": "c8d2e587",
   "metadata": {},
   "outputs": [
    {
     "name": "stdout",
     "output_type": "stream",
     "text": [
      "Los argumentos que has pasadon, es/son: (3, 5, 8.0, '10')\n"
     ]
    },
    {
     "data": {
      "text/plain": [
       "26"
      ]
     },
     "execution_count": 161,
     "metadata": {},
     "output_type": "execute_result"
    }
   ],
   "source": [
    "suma (3, 5, 8.0, \"10\")"
   ]
  },
  {
   "cell_type": "code",
   "execution_count": 141,
   "id": "f94d97b1",
   "metadata": {},
   "outputs": [],
   "source": [
    "def suma_elementos_lista (list_):\n",
    "    contador = 0\n",
    "    for i in list_:\n",
    "        contador += i\n",
    "    return contador"
   ]
  },
  {
   "cell_type": "code",
   "execution_count": 169,
   "id": "468fe514",
   "metadata": {},
   "outputs": [],
   "source": [
    "def suma (nombre_1, nombre_2, *args):\n",
    "    print(f\"Los argumentos que has pasadon, es/son: {args}\")\n",
    "    contador = 0\n",
    "    for i in args:\n",
    "        contador += int(i)\n",
    "    return f\"Hola, {nombre_1} y {nombre_2}, tu resultado es: {contador}\""
   ]
  },
  {
   "cell_type": "code",
   "execution_count": 166,
   "id": "ca06a464",
   "metadata": {},
   "outputs": [
    {
     "name": "stdout",
     "output_type": "stream",
     "text": [
      "Los argumentos que has pasadon, es/son: (2, 97, 30, 928784, 4938)\n"
     ]
    },
    {
     "data": {
      "text/plain": [
       "'Hola, Fer y 1, tu resultado es: 933851'"
      ]
     },
     "execution_count": 166,
     "metadata": {},
     "output_type": "execute_result"
    }
   ],
   "source": [
    "suma(\"Fer\", 1, 2, 97, 30, 928784, 4938)"
   ]
  },
  {
   "cell_type": "code",
   "execution_count": 172,
   "id": "89b2f5a8",
   "metadata": {},
   "outputs": [],
   "source": [
    "def suma_2 (nombre, a, b):\n",
    "    return f\"Hola, mi nombre es {nombre}, y la suma es {a + b}\""
   ]
  },
  {
   "cell_type": "code",
   "execution_count": 174,
   "id": "82689779",
   "metadata": {},
   "outputs": [
    {
     "data": {
      "text/plain": [
       "'Hola, mi nombre es Fer, y la suma es 93'"
      ]
     },
     "execution_count": 174,
     "metadata": {},
     "output_type": "execute_result"
    }
   ],
   "source": [
    "suma_2(a=3, b=90, nombre=\"Fer\") # Si no te acuerdas del nombre "
   ]
  },
  {
   "cell_type": "markdown",
   "id": "17a04c9e",
   "metadata": {},
   "source": [
    "`otherwise`: errors"
   ]
  },
  {
   "cell_type": "code",
   "execution_count": null,
   "id": "69bc5b29",
   "metadata": {},
   "outputs": [],
   "source": []
  },
  {
   "cell_type": "markdown",
   "id": "67833de1",
   "metadata": {},
   "source": [
    "#### **kwargs"
   ]
  },
  {
   "cell_type": "code",
   "execution_count": 175,
   "id": "7b22f228",
   "metadata": {},
   "outputs": [],
   "source": [
    "# keyword argument"
   ]
  },
  {
   "cell_type": "code",
   "execution_count": 181,
   "id": "016a2b2a",
   "metadata": {},
   "outputs": [],
   "source": [
    "def printer_function (positional_1, positional_2, *args, **kwargs):\n",
    "    print(positional_1)\n",
    "    print(positional_2)\n",
    "    print(args)\n",
    "    print(kwargs)"
   ]
  },
  {
   "cell_type": "code",
   "execution_count": 182,
   "id": "9443d357",
   "metadata": {},
   "outputs": [
    {
     "name": "stdout",
     "output_type": "stream",
     "text": [
      "sdsds\n",
      "sdsdsdsd\n",
      "(3, 'string random', '2', 6)\n",
      "{'keyword_1': 'sdsdsd', 'keyword_otro': 'sdsdsd'}\n"
     ]
    }
   ],
   "source": [
    "printer_function(\"sdsds\", \"sdsdsdsd\", 3, \"string random\", \"2\", 6, \n",
    "                 keyword_1 = \"sdsdsd\", keyword_otro = \"sdsdsd\")"
   ]
  },
  {
   "cell_type": "code",
   "execution_count": 183,
   "id": "567347ae",
   "metadata": {},
   "outputs": [
    {
     "name": "stdout",
     "output_type": "stream",
     "text": [
      "sdsds\n",
      "sdsdsdsd\n",
      "(3, 'string random', '2', 6)\n",
      "{}\n"
     ]
    }
   ],
   "source": [
    "printer_function(\"sdsds\", \"sdsdsdsd\", 3, \"string random\", \"2\", 6)"
   ]
  },
  {
   "cell_type": "code",
   "execution_count": 210,
   "id": "95e30dbc",
   "metadata": {},
   "outputs": [],
   "source": [
    "def presentacion (name, age, **kwargs):\n",
    "    \n",
    "    print(f\"Mi nombre es {name}\")\n",
    "    print(f\"Mi edad es {age}\")\n",
    "    \n",
    "    for key, value in kwargs.items():\n",
    "        print(f\"Mi {key} es {value}\")\n",
    "        if value == \"profe\":\n",
    "            print(\"HOLA SOY PROFE\")\n"
   ]
  },
  {
   "cell_type": "code",
   "execution_count": 211,
   "id": "84de3302",
   "metadata": {},
   "outputs": [
    {
     "name": "stdout",
     "output_type": "stream",
     "text": [
      "Mi nombre es Nerea\n",
      "Mi edad es 25\n"
     ]
    }
   ],
   "source": [
    "presentacion (\"Nerea\", 25)"
   ]
  },
  {
   "cell_type": "code",
   "execution_count": 212,
   "id": "953b2f90",
   "metadata": {},
   "outputs": [],
   "source": [
    "info_nerea = {\n",
    "    \"rol\": \"estudiante\",\n",
    "    \"ciudad\":\"barcelona\",\n",
    "    \n",
    "}"
   ]
  },
  {
   "cell_type": "code",
   "execution_count": 216,
   "id": "d81170c1",
   "metadata": {},
   "outputs": [
    {
     "name": "stdout",
     "output_type": "stream",
     "text": [
      "Mi nombre es Nerea\n",
      "Mi edad es 25\n",
      "Mi rol es estudiante\n",
      "Mi ciudad es barcelona\n"
     ]
    }
   ],
   "source": [
    "presentacion (\"Nerea\", 25, **info_nerea)"
   ]
  },
  {
   "cell_type": "markdown",
   "id": "8821d732",
   "metadata": {},
   "source": [
    "#### order"
   ]
  },
  {
   "cell_type": "markdown",
   "id": "12ce7273",
   "metadata": {},
   "source": [
    "`def example(arg1, arg2, *args,**kwargs)`"
   ]
  },
  {
   "cell_type": "code",
   "execution_count": 209,
   "id": "fc14163f",
   "metadata": {},
   "outputs": [],
   "source": [
    "def presentacion (posicional_1, posicional_2, *args, **kwargs):\n",
    "    pass"
   ]
  },
  {
   "cell_type": "markdown",
   "id": "5a76c906",
   "metadata": {},
   "source": [
    "### return\n",
    "\n",
    "- return gives you something back\n",
    "- there can be more than one return\n",
    "- **after a function returns something, the execution STOPS**"
   ]
  },
  {
   "cell_type": "code",
   "execution_count": null,
   "id": "9af4adbd",
   "metadata": {},
   "outputs": [],
   "source": [
    "def nombre ():\n",
    "    # ejectuar -> accion"
   ]
  },
  {
   "cell_type": "code",
   "execution_count": null,
   "id": "bede37bf",
   "metadata": {},
   "outputs": [],
   "source": [
    "def alexa_t ():\n",
    "    temperatura = \"\"\n",
    "    return f\"La temperatura es esta {temperatura}\""
   ]
  },
  {
   "cell_type": "markdown",
   "id": "b61cca6c",
   "metadata": {},
   "source": [
    "`function with no return`: NoneType"
   ]
  },
  {
   "cell_type": "code",
   "execution_count": 27,
   "id": "8647e112",
   "metadata": {},
   "outputs": [],
   "source": [
    "def saludo_print ():\n",
    "    print(\"Hola! Cómo estás?\")"
   ]
  },
  {
   "cell_type": "markdown",
   "id": "506cb965",
   "metadata": {},
   "source": [
    "`function with return`"
   ]
  },
  {
   "cell_type": "code",
   "execution_count": 28,
   "id": "cb754b82",
   "metadata": {},
   "outputs": [],
   "source": [
    "def saludo_return ():\n",
    "    return \"Hola! Cómo estás?\""
   ]
  },
  {
   "cell_type": "code",
   "execution_count": 30,
   "id": "48a98df6",
   "metadata": {},
   "outputs": [
    {
     "name": "stdout",
     "output_type": "stream",
     "text": [
      "Hola! Cómo estás?\n"
     ]
    }
   ],
   "source": [
    "saludo_print ()"
   ]
  },
  {
   "cell_type": "code",
   "execution_count": 31,
   "id": "dfcdeb1c",
   "metadata": {
    "scrolled": true
   },
   "outputs": [
    {
     "data": {
      "text/plain": [
       "'Hola! Cómo estás?'"
      ]
     },
     "execution_count": 31,
     "metadata": {},
     "output_type": "execute_result"
    }
   ],
   "source": [
    "saludo_return ()"
   ]
  },
  {
   "cell_type": "markdown",
   "id": "3f0b4787",
   "metadata": {},
   "source": [
    "`accessing the value of the result of the function`: print & return"
   ]
  },
  {
   "cell_type": "code",
   "execution_count": 33,
   "id": "0f76e25e",
   "metadata": {},
   "outputs": [
    {
     "name": "stdout",
     "output_type": "stream",
     "text": [
      "Hola! Cómo estás?\n"
     ]
    }
   ],
   "source": [
    "variable_saludo_print = saludo_print ()\n",
    "variable_saludo_print"
   ]
  },
  {
   "cell_type": "code",
   "execution_count": 35,
   "id": "535bdb46",
   "metadata": {},
   "outputs": [
    {
     "data": {
      "text/plain": [
       "'Hola! Cómo estás?'"
      ]
     },
     "execution_count": 35,
     "metadata": {},
     "output_type": "execute_result"
    }
   ],
   "source": [
    "variable_saludo_return = saludo_return ()\n",
    "variable_saludo_return"
   ]
  },
  {
   "cell_type": "code",
   "execution_count": 37,
   "id": "83103d4e",
   "metadata": {},
   "outputs": [
    {
     "data": {
      "text/plain": [
       "'HOLA! CÓMO ESTÁS?'"
      ]
     },
     "execution_count": 37,
     "metadata": {},
     "output_type": "execute_result"
    }
   ],
   "source": [
    "variable_saludo_return.upper() # return: es una string"
   ]
  },
  {
   "cell_type": "code",
   "execution_count": 131,
   "id": "558b0b36",
   "metadata": {
    "scrolled": true
   },
   "outputs": [],
   "source": [
    "#variable_saludo_print.upper() # dentro tiene un print: Error"
   ]
  },
  {
   "cell_type": "code",
   "execution_count": 41,
   "id": "82d2d9e0",
   "metadata": {},
   "outputs": [
    {
     "data": {
      "text/plain": [
       "'NONE'"
      ]
     },
     "execution_count": 41,
     "metadata": {},
     "output_type": "execute_result"
    }
   ],
   "source": [
    "str(variable_saludo_print).upper()"
   ]
  },
  {
   "cell_type": "markdown",
   "id": "309bb330",
   "metadata": {},
   "source": [
    "`more than one return`"
   ]
  },
  {
   "cell_type": "code",
   "execution_count": 130,
   "id": "449797d4",
   "metadata": {},
   "outputs": [],
   "source": [
    "def negativo (num):\n",
    "    \n",
    "    if num > 0:\n",
    "        return \"Positivo\"\n",
    "    \n",
    "    elif num <0:\n",
    "        return \"Negativo\""
   ]
  },
  {
   "cell_type": "markdown",
   "id": "d4a7b05b",
   "metadata": {},
   "source": [
    "### Docstrings: documentation strings"
   ]
  },
  {
   "cell_type": "markdown",
   "id": "65bd3a59",
   "metadata": {},
   "source": [
    "- The code is written 1 time.\n",
    "- The code is read 100 times.\n",
    "- Help your colleagues understand your work."
   ]
  },
  {
   "cell_type": "markdown",
   "id": "99a37769",
   "metadata": {},
   "source": [
    "![lafoto](https://res.cloudinary.com/highflyer910/image/upload/v1589577574/1_1_httqnc.jpg)"
   ]
  },
  {
   "cell_type": "markdown",
   "id": "14e0777b",
   "metadata": {},
   "source": [
    "In this example, we have defined a cat function that returns meow. We have declared a docstring that explains what the function does. To get the docstring of a function, we need to display the doc attribute (print(cat.__doc__))\n",
    "Photo reference, description and more info about docstring [here](https://techiestuff.netlify.app/blog/what-is-a-python-docstring/)"
   ]
  },
  {
   "cell_type": "markdown",
   "id": "1bcd1e17",
   "metadata": {},
   "source": [
    "### source code"
   ]
  },
  {
   "cell_type": "code",
   "execution_count": 223,
   "id": "a0488e40",
   "metadata": {},
   "outputs": [],
   "source": [
    "def suma ():\n",
    "    # hola\n",
    "    pass"
   ]
  },
  {
   "cell_type": "code",
   "execution_count": 222,
   "id": "8a3f7997",
   "metadata": {
    "scrolled": true
   },
   "outputs": [
    {
     "data": {
      "text/plain": [
       "'sdsd'"
      ]
     },
     "execution_count": 222,
     "metadata": {},
     "output_type": "execute_result"
    }
   ],
   "source": [
    "suma.__doc__"
   ]
  },
  {
   "cell_type": "code",
   "execution_count": 219,
   "id": "cc65d119",
   "metadata": {
    "scrolled": true
   },
   "outputs": [
    {
     "name": "stdout",
     "output_type": "stream",
     "text": [
      "def suma ():\n",
      "    # hola\n",
      "    pass\n",
      "\n"
     ]
    }
   ],
   "source": [
    "print(inspect.getsource(suma))"
   ]
  },
  {
   "cell_type": "markdown",
   "id": "86c5ccda",
   "metadata": {
    "lang": "en"
   },
   "source": [
    "## Scope of functions"
   ]
  },
  {
   "cell_type": "markdown",
   "id": "a353567d",
   "metadata": {},
   "source": [
    "`outer to inner`"
   ]
  },
  {
   "cell_type": "code",
   "execution_count": 226,
   "id": "03f02f6f",
   "metadata": {},
   "outputs": [],
   "source": [
    "c = 10\n",
    "\n",
    "def suma (a , b):\n",
    "    return a + b + c"
   ]
  },
  {
   "cell_type": "code",
   "execution_count": 227,
   "id": "e613ec44",
   "metadata": {},
   "outputs": [
    {
     "data": {
      "text/plain": [
       "18"
      ]
     },
     "execution_count": 227,
     "metadata": {},
     "output_type": "execute_result"
    }
   ],
   "source": [
    "suma (3,  5)"
   ]
  },
  {
   "cell_type": "markdown",
   "id": "c26ce173",
   "metadata": {},
   "source": [
    "`inner to outter` "
   ]
  },
  {
   "cell_type": "code",
   "execution_count": 237,
   "id": "92ef2b6b",
   "metadata": {},
   "outputs": [],
   "source": [
    "def suma (a , b):\n",
    "    z = a + b\n",
    "    return z"
   ]
  },
  {
   "cell_type": "code",
   "execution_count": 238,
   "id": "fc8cb2fe",
   "metadata": {},
   "outputs": [
    {
     "data": {
      "text/plain": [
       "8"
      ]
     },
     "execution_count": 238,
     "metadata": {},
     "output_type": "execute_result"
    }
   ],
   "source": [
    "suma(3, 5)"
   ]
  },
  {
   "cell_type": "code",
   "execution_count": 239,
   "id": "7be4d3fe",
   "metadata": {},
   "outputs": [
    {
     "ename": "NameError",
     "evalue": "name 'z' is not defined",
     "output_type": "error",
     "traceback": [
      "\u001b[0;31m---------------------------------------------------------------------------\u001b[0m",
      "\u001b[0;31mNameError\u001b[0m                                 Traceback (most recent call last)",
      "Input \u001b[0;32mIn [239]\u001b[0m, in \u001b[0;36m<cell line: 1>\u001b[0;34m()\u001b[0m\n\u001b[0;32m----> 1\u001b[0m \u001b[38;5;28mprint\u001b[39m(\u001b[43mz\u001b[49m)\n",
      "\u001b[0;31mNameError\u001b[0m: name 'z' is not defined"
     ]
    }
   ],
   "source": [
    "print(z)"
   ]
  },
  {
   "cell_type": "code",
   "execution_count": 240,
   "id": "516931cb",
   "metadata": {},
   "outputs": [
    {
     "name": "stdout",
     "output_type": "stream",
     "text": [
      "8\n"
     ]
    }
   ],
   "source": [
    "z = suma(3, 5)\n",
    "print(z)"
   ]
  },
  {
   "cell_type": "markdown",
   "id": "80ccf4fe",
   "metadata": {},
   "source": [
    "[Extra: global variables](https://www.w3schools.com/python/python_variables_global.asp)"
   ]
  },
  {
   "cell_type": "code",
   "execution_count": 242,
   "id": "14c44b27",
   "metadata": {},
   "outputs": [
    {
     "name": "stdout",
     "output_type": "stream",
     "text": [
      "argumento\n"
     ]
    }
   ],
   "source": [
    "# funciones: built-in \n",
    "print(\"argumento\")\n",
    "\n",
    "# funciones: user-defined\n",
    "def nombre ():\n",
    "    pass\n",
    "\n",
    "# lambda: user"
   ]
  },
  {
   "cell_type": "markdown",
   "id": "28a2d72b",
   "metadata": {
    "lang": "en"
   },
   "source": [
    "## Lambda\n",
    "A lambda function is an anonymous function, with no identifier, that can be declared in place. Since we can take functions as arguments and assign them to variables, the notation that makes it possible to create lambda functions is very handy in many cases.\n",
    "\n",
    "\n",
    "### Syntax of a lambda\n",
    "```python\n",
    "lambda <param list>:<return expression>\n",
    "```\n"
   ]
  },
  {
   "cell_type": "code",
   "execution_count": null,
   "id": "b2031249",
   "metadata": {},
   "outputs": [],
   "source": [
    "def suma (a, b):\n",
    "    return a + b"
   ]
  },
  {
   "cell_type": "code",
   "execution_count": 247,
   "id": "6e13d83e",
   "metadata": {},
   "outputs": [
    {
     "data": {
      "text/plain": [
       "<function __main__.<lambda>(a, b)>"
      ]
     },
     "execution_count": 247,
     "metadata": {},
     "output_type": "execute_result"
    }
   ],
   "source": [
    "lambda a, b: a + b"
   ]
  },
  {
   "cell_type": "code",
   "execution_count": 249,
   "id": "812dc616",
   "metadata": {},
   "outputs": [],
   "source": [
    "result = lambda a, b: a + b"
   ]
  },
  {
   "cell_type": "code",
   "execution_count": 250,
   "id": "59d017f3",
   "metadata": {},
   "outputs": [
    {
     "data": {
      "text/plain": [
       "8"
      ]
     },
     "execution_count": 250,
     "metadata": {},
     "output_type": "execute_result"
    }
   ],
   "source": [
    "result(3, 5)"
   ]
  },
  {
   "cell_type": "markdown",
   "id": "5add6142",
   "metadata": {},
   "source": [
    "### lambda examples"
   ]
  },
  {
   "cell_type": "code",
   "execution_count": null,
   "id": "c85075e0",
   "metadata": {},
   "outputs": [],
   "source": []
  },
  {
   "cell_type": "markdown",
   "id": "6f67a9bf",
   "metadata": {},
   "source": [
    "### `lambda`  as the option of some other built-in functions"
   ]
  },
  {
   "cell_type": "markdown",
   "id": "85df84e3",
   "metadata": {
    "lang": "en"
   },
   "source": [
    "It is also possible to use these anonymous functions as arguments in calls to other functions. For example, in a call to sorted() or list.sort() we can use a lambda function as an argument to the key parameter:"
   ]
  },
  {
   "cell_type": "code",
   "execution_count": 263,
   "id": "69399e27",
   "metadata": {},
   "outputs": [],
   "source": [
    "list_of_tuples = [(\"zjg\", 34542), (\"sdsd\", 5678), (\"aaaaa\", 30)]"
   ]
  },
  {
   "cell_type": "code",
   "execution_count": 264,
   "id": "37abe417",
   "metadata": {},
   "outputs": [
    {
     "data": {
      "text/plain": [
       "[('zjg', 34542), ('sdsd', 5678), ('aaaaa', 30)]"
      ]
     },
     "execution_count": 264,
     "metadata": {},
     "output_type": "execute_result"
    }
   ],
   "source": [
    "sorted(list_of_tuples, key = lambda tupla: tupla[-1], reverse=True)"
   ]
  },
  {
   "cell_type": "code",
   "execution_count": 265,
   "id": "87c892cf",
   "metadata": {},
   "outputs": [],
   "source": [
    "#sorted(list_of_tuples, key = 1, reverse=True)"
   ]
  },
  {
   "cell_type": "code",
   "execution_count": null,
   "id": "08cee94b",
   "metadata": {},
   "outputs": [],
   "source": [
    "def suma (a, b):\n",
    "    \"\"\"\n",
    "    Esta funcion hace cosas\n",
    "    arg.-.\"\"\"\n",
    "    \n",
    "    variable = a + b\n",
    "    return variable"
   ]
  },
  {
   "cell_type": "markdown",
   "id": "51204969",
   "metadata": {},
   "source": [
    "## Functions: functions as return of another function"
   ]
  },
  {
   "cell_type": "code",
   "execution_count": 266,
   "id": "e07cd2e6",
   "metadata": {},
   "outputs": [],
   "source": [
    "def greater_function (a, b):\n",
    "    if a > b:\n",
    "        return a\n",
    "    elif b > a:\n",
    "        return b"
   ]
  },
  {
   "cell_type": "code",
   "execution_count": 268,
   "id": "671c5b05",
   "metadata": {
    "scrolled": true
   },
   "outputs": [
    {
     "data": {
      "text/plain": [
       "300"
      ]
     },
     "execution_count": 268,
     "metadata": {},
     "output_type": "execute_result"
    }
   ],
   "source": [
    "greater_function (300, 5)"
   ]
  },
  {
   "cell_type": "code",
   "execution_count": 269,
   "id": "1cc032a7",
   "metadata": {},
   "outputs": [],
   "source": [
    "def lesser_function (a, b):\n",
    "    if a > b:\n",
    "        return b\n",
    "    elif b > a:\n",
    "        return a"
   ]
  },
  {
   "cell_type": "code",
   "execution_count": 270,
   "id": "ddb2d13f",
   "metadata": {},
   "outputs": [
    {
     "data": {
      "text/plain": [
       "5"
      ]
     },
     "execution_count": 270,
     "metadata": {},
     "output_type": "execute_result"
    }
   ],
   "source": [
    "lesser_function (300, 5)"
   ]
  },
  {
   "cell_type": "code",
   "execution_count": 272,
   "id": "90428164",
   "metadata": {},
   "outputs": [],
   "source": [
    "def comparacion (tipo_comparacion):\n",
    "    if tipo_comparacion == \"greater\":\n",
    "        return greater_function\n",
    "    \n",
    "    elif tipo_comparacion == \"lesser\":\n",
    "        return lesser_function"
   ]
  },
  {
   "cell_type": "code",
   "execution_count": 277,
   "id": "50ed4ebc",
   "metadata": {},
   "outputs": [
    {
     "data": {
      "text/plain": [
       "10"
      ]
     },
     "execution_count": 277,
     "metadata": {},
     "output_type": "execute_result"
    }
   ],
   "source": [
    "comparacion(\"greater\")(3, 10)"
   ]
  },
  {
   "cell_type": "code",
   "execution_count": 275,
   "id": "487a948e",
   "metadata": {},
   "outputs": [
    {
     "data": {
      "text/plain": [
       "3"
      ]
     },
     "execution_count": 275,
     "metadata": {},
     "output_type": "execute_result"
    }
   ],
   "source": [
    "comparacion(\"lesser\")(3, 10)"
   ]
  },
  {
   "cell_type": "code",
   "execution_count": 278,
   "id": "00a2bbe0",
   "metadata": {},
   "outputs": [],
   "source": [
    "def comparacion (tipo_comparacion):\n",
    "    if tipo_comparacion == \"greater\":\n",
    "        return greater_function\n",
    "    \n",
    "    elif tipo_comparacion == \"lesser\":\n",
    "        return lambda x, y: x if x < y else y"
   ]
  },
  {
   "cell_type": "code",
   "execution_count": 279,
   "id": "f4f7a84c",
   "metadata": {},
   "outputs": [
    {
     "data": {
      "text/plain": [
       "10"
      ]
     },
     "execution_count": 279,
     "metadata": {},
     "output_type": "execute_result"
    }
   ],
   "source": [
    "comparacion(\"greater\")(3, 10) #10 "
   ]
  },
  {
   "cell_type": "code",
   "execution_count": 280,
   "id": "5a41ef5c",
   "metadata": {},
   "outputs": [
    {
     "data": {
      "text/plain": [
       "3"
      ]
     },
     "execution_count": 280,
     "metadata": {},
     "output_type": "execute_result"
    }
   ],
   "source": [
    "comparacion(\"lesser\")(3, 10) #3"
   ]
  },
  {
   "cell_type": "markdown",
   "id": "f90508d9",
   "metadata": {
    "lang": "en"
   },
   "source": [
    "## Recursion\n",
    "It is called recursive call (or recursion), to those functions that in their algorithm, refer to itself.\n",
    "\n",
    "Recursive calls are usually very useful in very specific cases, but due to their great feasibility of falling into infinite iterations, adequate preventive measures should be taken and only used when strictly necessary and there is no viable alternative way to solve the problem. avoiding recursion.\n",
    "\n",
    "Python supports recursive calls, allowing a function to call itself, just as it does when calling another function."
   ]
  },
  {
   "cell_type": "code",
   "execution_count": 296,
   "id": "536183be",
   "metadata": {},
   "outputs": [],
   "source": [
    "def user ():\n",
    "    \"\"\"Escribe un número menor que 5\n",
    "    \"\"\"\n",
    "\n",
    "    num = int(input(\"Escribe un número menor que 5: \"))\n",
    "    \n",
    "    if num > 5:\n",
    "        user ()\n",
    "        \n",
    "    return num"
   ]
  },
  {
   "cell_type": "code",
   "execution_count": 295,
   "id": "0d1d11e5",
   "metadata": {},
   "outputs": [
    {
     "name": "stdout",
     "output_type": "stream",
     "text": [
      "Escribe un número menor que 5: 9\n",
      "Escribe un número menor que 5: 7\n",
      "Escribe un número menor que 5: 1\n"
     ]
    },
    {
     "data": {
      "text/plain": [
       "9"
      ]
     },
     "execution_count": 295,
     "metadata": {},
     "output_type": "execute_result"
    }
   ],
   "source": [
    "user()"
   ]
  },
  {
   "cell_type": "code",
   "execution_count": 297,
   "id": "dfc18ff5",
   "metadata": {},
   "outputs": [],
   "source": [
    "# factorial de un número"
   ]
  },
  {
   "cell_type": "code",
   "execution_count": 303,
   "id": "14f0046f",
   "metadata": {},
   "outputs": [],
   "source": [
    "\"\"\"\n",
    "def factorial (n):\n",
    "    if n > 1:\n",
    "        numero = n - 1\n",
    "        return numero * factorial (n-1)\n",
    "    else: \n",
    "        return 0\n",
    "\"\"\""
   ]
  },
  {
   "cell_type": "code",
   "execution_count": 304,
   "id": "7013a894",
   "metadata": {},
   "outputs": [
    {
     "data": {
      "text/plain": [
       "0"
      ]
     },
     "execution_count": 304,
     "metadata": {},
     "output_type": "execute_result"
    }
   ],
   "source": [
    "factorial (5)"
   ]
  },
  {
   "cell_type": "markdown",
   "id": "419b6db5",
   "metadata": {},
   "source": [
    "#### `ins't it the same as a while loop?`"
   ]
  },
  {
   "cell_type": "code",
   "execution_count": 485,
   "id": "a4432118",
   "metadata": {},
   "outputs": [],
   "source": [
    "import time"
   ]
  },
  {
   "cell_type": "code",
   "execution_count": null,
   "id": "791f11eb",
   "metadata": {},
   "outputs": [],
   "source": []
  },
  {
   "cell_type": "markdown",
   "id": "4cb268d0",
   "metadata": {
    "lang": "en"
   },
   "source": [
    "## Summary\n",
    "It's your turn. What have we learned today?"
   ]
  },
  {
   "cell_type": "code",
   "execution_count": 305,
   "id": "0359bf63",
   "metadata": {},
   "outputs": [
    {
     "data": {
      "text/plain": [
       "array([1, 2, 3])"
      ]
     },
     "execution_count": 305,
     "metadata": {},
     "output_type": "execute_result"
    }
   ],
   "source": [
    "import numpy as np\n",
    "np.array([1, 2, 3]) # def array (list_):\n",
    "\n",
    "# funcion array -> importada"
   ]
  },
  {
   "cell_type": "markdown",
   "id": "08598810",
   "metadata": {},
   "source": [
    "- Reutilizamos funciones: ahorramos código\n",
    "    - para solucionar problemas que \"cambian\" \n",
    "- Hacen cosas\n",
    "- Porque: nos ahorra código, reutilizables\n",
    "- Parametrizables: \"Fer\" -> nombre\n",
    "- Específicas: hacer una cosa (o muy pocas)\n",
    "- Generales: vale para diferentes nombres\n",
    "- usuario (def & lambdas), built-in, librerias\n",
    "- def usuario\n",
    "    - args o no\n",
    "    - args posicionales\n",
    "    - * args\n",
    "    - ** kwargs\n",
    "- print vs return\n",
    "    - print -> None\n",
    "    - return -> valor que sea\n",
    "- paradigmas de programación\n",
    "    - imperativo: instruccion1, instruccion2, etc\n",
    "    - programación funcional\n",
    "    - OOP: class Car(): variables & funciones\n",
    "- argumentos por defecto\n",
    "    - si no los pasamos, toman el valor definido por defecto\n",
    "    - si los pasamos: los sobre escribimos\n"
   ]
  }
 ],
 "metadata": {
  "kernelspec": {
   "display_name": "ironhack",
   "language": "python",
   "name": "ironhack"
  },
  "language_info": {
   "codemirror_mode": {
    "name": "ipython",
    "version": 3
   },
   "file_extension": ".py",
   "mimetype": "text/x-python",
   "name": "python",
   "nbconvert_exporter": "python",
   "pygments_lexer": "ipython3",
   "version": "3.8.13"
  },
  "nbTranslate": {
   "displayLangs": [
    "en",
    "es"
   ],
   "hotkey": "alt-a",
   "langInMainMenu": true,
   "sourceLang": "es",
   "targetLang": "en",
   "useGoogleTranslate": true
  },
  "toc": {
   "base_numbering": 1,
   "nav_menu": {},
   "number_sections": true,
   "sideBar": true,
   "skip_h1_title": true,
   "title_cell": "Table of Contents",
   "title_sidebar": "Contents",
   "toc_cell": true,
   "toc_position": {
    "height": "calc(100% - 180px)",
    "left": "10px",
    "top": "150px",
    "width": "288px"
   },
   "toc_section_display": true,
   "toc_window_display": false
  }
 },
 "nbformat": 4,
 "nbformat_minor": 5
}
