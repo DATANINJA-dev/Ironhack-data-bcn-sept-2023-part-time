{
 "cells": [
  {
   "cell_type": "markdown",
   "id": "4476bce5",
   "metadata": {
    "lang": "en"
   },
   "source": [
    "# List Comprehensions"
   ]
  },
  {
   "cell_type": "markdown",
   "id": "ambient-dodge",
   "metadata": {},
   "source": [
    "![elgif](https://media.giphy.com/media/8vZY0QZZjJZqmfResk/giphy.gif)"
   ]
  },
  {
   "cell_type": "markdown",
   "id": "65a84419",
   "metadata": {},
   "source": [
    "`git pull`: para bajar cambios\n",
    "`git add`: \n",
    "    - añadir a la lista de cosas a vigilar\n",
    "    - agrega los cambios\n",
    "    - cambios que quiero trackear: lo que me interesa\n",
    "`git commit`: \n",
    "    - guardar. foto al estado de la nevera\n",
    "        - git commit -m: mensaje significativo\n",
    "    -`.env`: \n",
    "        - contraseña: bbdd (workbench)\n",
    "    - archivos demasiado grandes\n",
    "    - __pycache__, ipynb_chekpoints/, .DS_Store\n",
    "    - funciones.py, notebook-analysis.ipynb, \n",
    "`git push`: cambiar archivos de local a remoto\n",
    "`pull request`: \n",
    "    - \"pedir autorización al dueño para subir\"\n",
    "    - \"pedir que la otra persona se descarge nuestros cambios\"\n",
    "    - \"request!\" -> te pido, \"pull\", que hagas pull -> que actualices\n",
    "     \n",
    "1. git add \n",
    "2. git commit -m \"mensaje\"\n",
    "3. git push\n",
    "\n",
    "4. pull request\n",
    "\n",
    "5. si abierta -> más commits (1, 2, 3)"
   ]
  },
  {
   "cell_type": "markdown",
   "id": "2d0ea60c",
   "metadata": {
    "lang": "en"
   },
   "source": [
    "## But what is this?\n",
    "List compressions are a very powerful tool, creating one list based on another, on a single readable line."
   ]
  },
  {
   "cell_type": "markdown",
   "id": "a6776c39",
   "metadata": {
    "lang": "en"
   },
   "source": [
    "If we wanted to have a list like this but with all the words in uppercase using a loop..."
   ]
  },
  {
   "cell_type": "code",
   "execution_count": 1,
   "id": "7af214d2",
   "metadata": {},
   "outputs": [
    {
     "data": {
      "text/plain": [
       "['MADRID', 'BARCELONA', 'VALENCIA']"
      ]
     },
     "execution_count": 1,
     "metadata": {},
     "output_type": "execute_result"
    }
   ],
   "source": [
    "new_list = []\n",
    "\n",
    "otra_lista = [\"madrid\", \"barcelona\", \"valencia\"]\n",
    "\n",
    "for i in otra_lista:\n",
    "    new_list.append(i.upper())\n",
    "\n",
    "new_list"
   ]
  },
  {
   "cell_type": "code",
   "execution_count": 2,
   "id": "4a31bc76",
   "metadata": {},
   "outputs": [
    {
     "data": {
      "text/plain": [
       "['MADRID', 'BARCELONA', 'VALENCIA']"
      ]
     },
     "execution_count": 2,
     "metadata": {},
     "output_type": "execute_result"
    }
   ],
   "source": [
    "otra_lista_ciudades = [i.upper() for i in otra_lista]\n",
    "otra_lista_ciudades"
   ]
  },
  {
   "cell_type": "code",
   "execution_count": 2,
   "id": "e41cc3b2",
   "metadata": {},
   "outputs": [
    {
     "data": {
      "text/plain": [
       "['MARÍA', 'LAURA', 'ROCÍO']"
      ]
     },
     "execution_count": 2,
     "metadata": {},
     "output_type": "execute_result"
    }
   ],
   "source": [
    "new_list = [\"maría\", \"laura\", \"rocío\"]\n",
    "\n",
    "new_list_empty = []\n",
    "\n",
    "for i in new_list:\n",
    "    new_list_empty.append(i.upper())\n",
    "\n",
    "    \n",
    "new_list_empty"
   ]
  },
  {
   "cell_type": "markdown",
   "id": "012339ec",
   "metadata": {
    "lang": "en"
   },
   "source": [
    "How can we do it with list comprehension?"
   ]
  },
  {
   "cell_type": "code",
   "execution_count": 3,
   "id": "0c19981d",
   "metadata": {},
   "outputs": [
    {
     "data": {
      "text/plain": [
       "['MARÍA', 'LAURA', 'ROCÍO']"
      ]
     },
     "execution_count": 3,
     "metadata": {},
     "output_type": "execute_result"
    }
   ],
   "source": [
    "new_list_empty = [i.upper() for i in new_list]\n",
    "new_list_empty"
   ]
  },
  {
   "cell_type": "markdown",
   "id": "third-policy",
   "metadata": {},
   "source": [
    "![imagen_compr](https://stsewd.dev/charla-comprension-de-listas/img/listComprehensions.gif)"
   ]
  },
  {
   "cell_type": "markdown",
   "id": "aa4b9751",
   "metadata": {
    "lang": "en"
   },
   "source": [
    "## Easy challenge 🤔\n",
    "We want a list containing the squares of the numbers 1 to 10."
   ]
  },
  {
   "cell_type": "code",
   "execution_count": null,
   "id": "668b845b",
   "metadata": {},
   "outputs": [],
   "source": [
    "# numeros 1-10\n",
    "# cuadrado\n",
    "\n",
    "# nueva -> cada numero elevado"
   ]
  },
  {
   "cell_type": "code",
   "execution_count": 4,
   "id": "9e16dffa",
   "metadata": {},
   "outputs": [],
   "source": [
    "numbers = [1, 2, 3, 4, 5, 6, 7, 8, 9, 10]"
   ]
  },
  {
   "cell_type": "code",
   "execution_count": 5,
   "id": "b648a2c1",
   "metadata": {},
   "outputs": [
    {
     "data": {
      "text/plain": [
       "[1, 4, 9, 16, 25, 36, 49, 64, 81, 100]"
      ]
     },
     "execution_count": 5,
     "metadata": {},
     "output_type": "execute_result"
    }
   ],
   "source": [
    "new_list = []\n",
    "for i in numbers:\n",
    "    new_list.append(i**2)\n",
    "    \n",
    "new_list"
   ]
  },
  {
   "cell_type": "code",
   "execution_count": 6,
   "id": "ea46bc0f",
   "metadata": {},
   "outputs": [
    {
     "data": {
      "text/plain": [
       "[1, 4, 9, 16, 25, 36, 49, 64, 81, 100]"
      ]
     },
     "execution_count": 6,
     "metadata": {},
     "output_type": "execute_result"
    }
   ],
   "source": [
    "numeros = [i**2 for i in numbers]\n",
    "numeros"
   ]
  },
  {
   "cell_type": "markdown",
   "id": "04427900",
   "metadata": {
    "lang": "en"
   },
   "source": [
    "## Easy challenge 🤔\n",
    "Create a new list, substituting \"e's\" for \"a's\" in each word in the original `words` list."
   ]
  },
  {
   "cell_type": "code",
   "execution_count": 7,
   "id": "6f005a4f",
   "metadata": {},
   "outputs": [],
   "source": [
    "ciudades = [\"barcelona\", \"madrid\", \"gerona\", \"murcia\"]"
   ]
  },
  {
   "cell_type": "markdown",
   "id": "2c1733cd",
   "metadata": {},
   "source": [
    "### For loop"
   ]
  },
  {
   "cell_type": "code",
   "execution_count": 9,
   "id": "cb625599",
   "metadata": {},
   "outputs": [
    {
     "data": {
      "text/plain": [
       "'bercelone'"
      ]
     },
     "execution_count": 9,
     "metadata": {},
     "output_type": "execute_result"
    }
   ],
   "source": [
    "ciudades[0].replace(\"a\", \"e\")"
   ]
  },
  {
   "cell_type": "code",
   "execution_count": 11,
   "id": "c15c6857",
   "metadata": {},
   "outputs": [
    {
     "data": {
      "text/plain": [
       "['bercelone', 'medrid', 'gerone', 'murcie']"
      ]
     },
     "execution_count": 11,
     "metadata": {},
     "output_type": "execute_result"
    }
   ],
   "source": [
    "new_lista_ciudades = []\n",
    "\n",
    "for i in ciudades:\n",
    "    new_lista_ciudades.append(i.replace(\"a\", \"e\"))\n",
    "    \n",
    "new_lista_ciudades"
   ]
  },
  {
   "cell_type": "markdown",
   "id": "998fd911",
   "metadata": {},
   "source": [
    "### Comprehension list"
   ]
  },
  {
   "cell_type": "code",
   "execution_count": 12,
   "id": "a66a433e",
   "metadata": {},
   "outputs": [
    {
     "data": {
      "text/plain": [
       "['bercelone', 'medrid', 'gerone', 'murcie']"
      ]
     },
     "execution_count": 12,
     "metadata": {},
     "output_type": "execute_result"
    }
   ],
   "source": [
    "new_lista_ciudades = [i.replace(\"a\", \"e\") for i in ciudades]\n",
    "new_lista_ciudades"
   ]
  },
  {
   "cell_type": "markdown",
   "id": "69146175",
   "metadata": {
    "lang": "en"
   },
   "source": [
    "## Conditions (we put IF in the comprehension)"
   ]
  },
  {
   "cell_type": "markdown",
   "id": "worthy-major",
   "metadata": {},
   "source": [
    "<img width=600 src=\"https://www.mrdbourke.com/content/images/2019/09/python-list-comprehension-article.png\">"
   ]
  },
  {
   "cell_type": "markdown",
   "id": "27f79aae",
   "metadata": {
    "lang": "en"
   },
   "source": [
    "## Easy challenge 🤔\n",
    "We want a new list with words longer than 6 characters."
   ]
  },
  {
   "cell_type": "code",
   "execution_count": 4,
   "id": "a4bf27c1",
   "metadata": {},
   "outputs": [],
   "source": [
    "ciudades = [\"barcelona\", \"girona\", \"madrid\", \"murcia\", \"pamplona\"]"
   ]
  },
  {
   "cell_type": "code",
   "execution_count": 5,
   "id": "3f838ff0",
   "metadata": {},
   "outputs": [
    {
     "data": {
      "text/plain": [
       "6"
      ]
     },
     "execution_count": 5,
     "metadata": {},
     "output_type": "execute_result"
    }
   ],
   "source": [
    "len(ciudades[2])"
   ]
  },
  {
   "cell_type": "code",
   "execution_count": 6,
   "id": "91be282e",
   "metadata": {},
   "outputs": [
    {
     "data": {
      "text/plain": [
       "['barcelona', 'girona', 'madrid', 'murcia', 'pamplona']"
      ]
     },
     "execution_count": 6,
     "metadata": {},
     "output_type": "execute_result"
    }
   ],
   "source": [
    "ciudades"
   ]
  },
  {
   "cell_type": "code",
   "execution_count": 10,
   "id": "32daa0dc",
   "metadata": {},
   "outputs": [
    {
     "data": {
      "text/plain": [
       "['BARCELONA', 'girona', 'madrid', 'murcia', 'PAMPLONA']"
      ]
     },
     "execution_count": 10,
     "metadata": {},
     "output_type": "execute_result"
    }
   ],
   "source": [
    "ciudad_seis = []\n",
    "for i in ciudades:\n",
    "    if len (i) > 6:\n",
    "        ciudad_seis.append(i.upper())\n",
    "    else: \n",
    "        ciudad_seis.append(i.lower())\n",
    "    \n",
    "ciudad_seis"
   ]
  },
  {
   "cell_type": "code",
   "execution_count": 9,
   "id": "0effcee9",
   "metadata": {},
   "outputs": [
    {
     "data": {
      "text/plain": [
       "['barcelona', 'pamplona']"
      ]
     },
     "execution_count": 9,
     "metadata": {},
     "output_type": "execute_result"
    }
   ],
   "source": [
    "ciudad_seis = [i for i in ciudades if len (i) > 6]\n",
    "ciudad_seis"
   ]
  },
  {
   "cell_type": "markdown",
   "id": "4e443e54",
   "metadata": {},
   "source": [
    "### For loop"
   ]
  },
  {
   "cell_type": "code",
   "execution_count": 21,
   "id": "75cd87b4",
   "metadata": {},
   "outputs": [
    {
     "data": {
      "text/plain": [
       "['barcelona', 'pamplona']"
      ]
     },
     "execution_count": 21,
     "metadata": {},
     "output_type": "execute_result"
    }
   ],
   "source": [
    "new_list = []\n",
    "\n",
    "for i in ciudades:\n",
    "    if len(i) > 6:\n",
    "        new_list.append(i)\n",
    "        \n",
    "new_list"
   ]
  },
  {
   "cell_type": "markdown",
   "id": "efa2cc76",
   "metadata": {},
   "source": [
    "### Comprehension list"
   ]
  },
  {
   "cell_type": "code",
   "execution_count": 22,
   "id": "8370429c",
   "metadata": {},
   "outputs": [
    {
     "data": {
      "text/plain": [
       "['barcelona', 'pamplona']"
      ]
     },
     "execution_count": 22,
     "metadata": {},
     "output_type": "execute_result"
    }
   ],
   "source": [
    "ciudades_seis = [i for i in ciudades if len(i) > 6]\n",
    "ciudades_seis"
   ]
  },
  {
   "cell_type": "markdown",
   "id": "3a362f88",
   "metadata": {
    "lang": "en"
   },
   "source": [
    "## If / Else in comprehension\n",
    "You can include an else statement with a block of code that is implemented if the condition is false."
   ]
  },
  {
   "cell_type": "markdown",
   "id": "e5430c1d",
   "metadata": {
    "lang": "en"
   },
   "source": [
    "Be careful with the syntax, in this case it will change, the syntax of the comprehension will be:\n",
    "\n",
    "`[element if / else for element in whatever]`"
   ]
  },
  {
   "cell_type": "code",
   "execution_count": 13,
   "id": "b204c293",
   "metadata": {},
   "outputs": [
    {
     "data": {
      "text/plain": [
       "['BARCELONA', 'girona', 'madrid', 'murcia', 'PAMPLONA']"
      ]
     },
     "execution_count": 13,
     "metadata": {},
     "output_type": "execute_result"
    }
   ],
   "source": [
    "ciudad_seis = []\n",
    "for i in ciudades:\n",
    "    if len (i) > 6:\n",
    "        ciudad_seis.append(i.upper())\n",
    "    else: \n",
    "        ciudad_seis.append(i.lower())\n",
    "    \n",
    "ciudad_seis"
   ]
  },
  {
   "cell_type": "code",
   "execution_count": 15,
   "id": "247d9f20",
   "metadata": {},
   "outputs": [],
   "source": [
    "ciudad_mayusculas = [loquesea.upper() if len(loquesea) > 6 else loquesea.lower() for loquesea in ciudades]"
   ]
  },
  {
   "cell_type": "code",
   "execution_count": 16,
   "id": "0d015142",
   "metadata": {},
   "outputs": [
    {
     "data": {
      "text/plain": [
       "['BARCELONA', 'girona', 'madrid', 'murcia', 'PAMPLONA']"
      ]
     },
     "execution_count": 16,
     "metadata": {},
     "output_type": "execute_result"
    }
   ],
   "source": [
    "ciudad_mayusculas"
   ]
  },
  {
   "cell_type": "code",
   "execution_count": 20,
   "id": "3d53c685",
   "metadata": {},
   "outputs": [
    {
     "name": "stdout",
     "output_type": "stream",
     "text": [
      "barcelona\n",
      "girona\n",
      "madrid\n",
      "murcia\n",
      "pamplona\n"
     ]
    }
   ],
   "source": [
    "for x in ciudades:\n",
    "    print(x)"
   ]
  },
  {
   "cell_type": "code",
   "execution_count": null,
   "id": "b6cb6085",
   "metadata": {},
   "outputs": [],
   "source": [
    "# if / else\n",
    "\n",
    "# Si la palabra > 6 -> upper()\n",
    "# else: lower\n",
    "#[\"barcelona\", \"girona\", \"madrid\", \"murcia\", \"pamplona\"]\n",
    "#[\"BARCELONA\", \"girona\", \"madrid\", \"murcia\", \"PAMPLONA\"]"
   ]
  },
  {
   "cell_type": "code",
   "execution_count": 26,
   "id": "ede4598d",
   "metadata": {},
   "outputs": [
    {
     "data": {
      "text/plain": [
       "['BARCELONA', 'girona', 'madrid', 'murcia', 'PAMPLONA']"
      ]
     },
     "execution_count": 26,
     "metadata": {},
     "output_type": "execute_result"
    }
   ],
   "source": [
    "list_ = [\"barcelona\", \"girona\", \"madrid\", \"murcia\", \"pamplona\"]\n",
    "\n",
    "new_list3 = []\n",
    "\n",
    "for i in list_:\n",
    "    if len(i)>6:\n",
    "        new_list3.append(i.upper())\n",
    "    else:\n",
    "        new_list3.append(i.lower())\n",
    "new_list3\n",
    "# [\"BARCELONA\", \"girona\", \"madrid\", \"murcia\", \"PAMPLONA\"]"
   ]
  },
  {
   "cell_type": "code",
   "execution_count": null,
   "id": "2f9ef5df",
   "metadata": {},
   "outputs": [],
   "source": [
    "#[element if / else for element in whatever]"
   ]
  },
  {
   "cell_type": "code",
   "execution_count": 28,
   "id": "c0ec1851",
   "metadata": {
    "scrolled": true
   },
   "outputs": [
    {
     "data": {
      "text/plain": [
       "['BARCELONA', 'girona', 'madrid', 'murcia', 'PAMPLONA']"
      ]
     },
     "execution_count": 28,
     "metadata": {},
     "output_type": "execute_result"
    }
   ],
   "source": [
    "new_list3 = [i.upper() if len(i)>6 else i.lower() for i in list_]\n",
    "new_list3"
   ]
  },
  {
   "cell_type": "markdown",
   "id": "6e95c674",
   "metadata": {
    "lang": "es"
   },
   "source": [
    "## Nested list comprehensions"
   ]
  },
  {
   "cell_type": "code",
   "execution_count": 21,
   "id": "c34fc374",
   "metadata": {},
   "outputs": [],
   "source": [
    "personas = [\"Laura\", \"María\", \"Carlos\"]\n",
    "ciudades = [\"Barcelona\", \"Mataró\", \"Girona\"]"
   ]
  },
  {
   "cell_type": "code",
   "execution_count": 24,
   "id": "e09118ce",
   "metadata": {},
   "outputs": [
    {
     "data": {
      "text/plain": [
       "[['Laura', 'Barcelona'], ['María', 'Mataró'], ['Carlos', 'Girona']]"
      ]
     },
     "execution_count": 24,
     "metadata": {},
     "output_type": "execute_result"
    }
   ],
   "source": [
    "personas_ciudades = []\n",
    "for per, ciu in zip(personas, ciudades):\n",
    "    personas_ciudades.append([per, ciu])\n",
    "personas_ciudades"
   ]
  },
  {
   "cell_type": "code",
   "execution_count": 25,
   "id": "0473e836",
   "metadata": {},
   "outputs": [
    {
     "data": {
      "text/plain": [
       "[['Laura', 'Barcelona'], ['María', 'Mataró'], ['Carlos', 'Girona']]"
      ]
     },
     "execution_count": 25,
     "metadata": {},
     "output_type": "execute_result"
    }
   ],
   "source": [
    "personas_ciudades # lista anidada"
   ]
  },
  {
   "cell_type": "code",
   "execution_count": null,
   "id": "633d15e5",
   "metadata": {},
   "outputs": [],
   "source": [
    "# [['Laura', 'Barcelona'], ['María', 'Mataró'], ['Carlos', 'Girona']]\n",
    "# [\"Laura\", \"Barcelona\", \"María\", \"Mataró\", \"Carlos\", \"Girona\"]"
   ]
  },
  {
   "cell_type": "code",
   "execution_count": 28,
   "id": "2b86884c",
   "metadata": {
    "scrolled": true
   },
   "outputs": [
    {
     "data": {
      "text/plain": [
       "['Laura', 'Barcelona', 'María', 'Mataró', 'Carlos', 'Girona']"
      ]
     },
     "execution_count": 28,
     "metadata": {},
     "output_type": "execute_result"
    }
   ],
   "source": [
    "# aplanar\n",
    "# 2- For\n",
    "new_list = [] #Laura, Barcelona, María, Mataró, \n",
    "for i in personas_ciudades:\n",
    "    for j in i:\n",
    "        new_list.append(j)\n",
    "new_list"
   ]
  },
  {
   "cell_type": "code",
   "execution_count": 31,
   "id": "3585e6ac",
   "metadata": {},
   "outputs": [
    {
     "data": {
      "text/plain": [
       "['Laura', 'Barcelona', 'María', 'Mataró', 'Carlos', 'Girona']"
      ]
     },
     "execution_count": 31,
     "metadata": {},
     "output_type": "execute_result"
    }
   ],
   "source": [
    "aplanada = [beyonce for rosalia in personas_ciudades for beyonce in rosalia] \n",
    "aplanada"
   ]
  },
  {
   "cell_type": "markdown",
   "id": "18296b82",
   "metadata": {},
   "source": [
    "### For loop"
   ]
  },
  {
   "cell_type": "markdown",
   "id": "3dceac52",
   "metadata": {
    "lang": "en"
   },
   "source": [
    "Let's create a list of lists with a for loop"
   ]
  },
  {
   "cell_type": "code",
   "execution_count": null,
   "id": "91114a37",
   "metadata": {},
   "outputs": [],
   "source": []
  },
  {
   "cell_type": "markdown",
   "id": "ac27117f",
   "metadata": {},
   "source": [
    "### Comprehension list: nested lists"
   ]
  },
  {
   "cell_type": "code",
   "execution_count": null,
   "id": "6ffcc084",
   "metadata": {},
   "outputs": [],
   "source": []
  },
  {
   "cell_type": "markdown",
   "id": "90d83e6c",
   "metadata": {},
   "source": [
    "#### Unflattening a nested list with a for loop"
   ]
  },
  {
   "cell_type": "code",
   "execution_count": null,
   "id": "5aed6d80",
   "metadata": {},
   "outputs": [],
   "source": []
  },
  {
   "cell_type": "markdown",
   "id": "e9c37ab7",
   "metadata": {},
   "source": [
    "#### Unflattening a nested list with a comprehension list"
   ]
  },
  {
   "cell_type": "code",
   "execution_count": null,
   "id": "74581294",
   "metadata": {},
   "outputs": [],
   "source": []
  },
  {
   "cell_type": "markdown",
   "id": "3cbc2ea4",
   "metadata": {
    "lang": "en"
   },
   "source": [
    "## Dictionary comprehensions"
   ]
  },
  {
   "cell_type": "markdown",
   "id": "a199d32c",
   "metadata": {
    "lang": "en"
   },
   "source": [
    "How would we do it with a normal loop?"
   ]
  },
  {
   "cell_type": "code",
   "execution_count": 33,
   "id": "6fd36c2f",
   "metadata": {},
   "outputs": [],
   "source": [
    "lista_nombres = [\"maría\", \"laura\", \"carlos\"]\n",
    "emojis = [\"😀\", \"🥲\", \"🤧\"]"
   ]
  },
  {
   "cell_type": "code",
   "execution_count": null,
   "id": "1234c74f",
   "metadata": {},
   "outputs": [],
   "source": [
    "{key: emoji}\n",
    "\n",
    "{\"maría\": \"smiley\",\n",
    "\"laura\":\"otro emoji\",\n",
    "\"carlos\": \"otro emoji\"}"
   ]
  },
  {
   "cell_type": "code",
   "execution_count": 34,
   "id": "b1db728b",
   "metadata": {},
   "outputs": [
    {
     "data": {
      "text/plain": [
       "{'maría': '😀', 'laura': '\\U0001f972', 'carlos': '🤧'}"
      ]
     },
     "execution_count": 34,
     "metadata": {},
     "output_type": "execute_result"
    }
   ],
   "source": [
    "# DOS LISTAS\n",
    "# DOS ITERABLES\n",
    "\n",
    "# iterar dos listas a la vez de forma correlativa: zip\n",
    "dict_ = {}\n",
    "for nombre, emoticono in zip(lista_nombres, emojis):\n",
    "    dict_[nombre] = emoticono\n",
    "dict_"
   ]
  },
  {
   "cell_type": "code",
   "execution_count": 35,
   "id": "d3708847",
   "metadata": {},
   "outputs": [
    {
     "data": {
      "text/plain": [
       "{'maría': '😀', 'laura': '\\U0001f972', 'carlos': '🤧'}"
      ]
     },
     "execution_count": 35,
     "metadata": {},
     "output_type": "execute_result"
    }
   ],
   "source": [
    "{nombre:emoticono for nombre, emoticono in zip(lista_nombres, emojis)}"
   ]
  },
  {
   "cell_type": "markdown",
   "id": "11a48040",
   "metadata": {},
   "source": [
    "### For loop"
   ]
  },
  {
   "cell_type": "code",
   "execution_count": null,
   "id": "1f809016",
   "metadata": {},
   "outputs": [],
   "source": []
  },
  {
   "cell_type": "markdown",
   "id": "c8d2e4fa",
   "metadata": {
    "lang": "en"
   },
   "source": [
    "### Comprehension dict"
   ]
  },
  {
   "cell_type": "code",
   "execution_count": null,
   "id": "e8895099",
   "metadata": {},
   "outputs": [],
   "source": []
  },
  {
   "cell_type": "markdown",
   "id": "c33cdd0a",
   "metadata": {
    "lang": "en"
   },
   "source": [
    "## Challenge 🤔\n",
    "They give you a list of words. Write a dictionary containing the length of each word."
   ]
  },
  {
   "cell_type": "code",
   "execution_count": null,
   "id": "f0f23dd7",
   "metadata": {},
   "outputs": [],
   "source": []
  },
  {
   "cell_type": "markdown",
   "id": "6ecdeb74",
   "metadata": {},
   "source": [
    "### For loop"
   ]
  },
  {
   "cell_type": "code",
   "execution_count": null,
   "id": "8b05aa86",
   "metadata": {},
   "outputs": [],
   "source": []
  },
  {
   "cell_type": "markdown",
   "id": "c62375e0",
   "metadata": {},
   "source": [
    "### Comprehension dict"
   ]
  },
  {
   "cell_type": "code",
   "execution_count": null,
   "id": "8381785c",
   "metadata": {},
   "outputs": [],
   "source": []
  },
  {
   "cell_type": "markdown",
   "id": "0389e710",
   "metadata": {
    "lang": "en"
   },
   "source": [
    "## Last Challenge: comprehension SET\n",
    "Also output, with a set comprehension, only unique country codes"
   ]
  },
  {
   "cell_type": "code",
   "execution_count": 36,
   "id": "94d499ca",
   "metadata": {},
   "outputs": [],
   "source": [
    "codes_countries = [\"es-91\", \"en-88\", \"fra-12\", \"it-33\", \"ar-55\", \"it-34\"]"
   ]
  },
  {
   "cell_type": "code",
   "execution_count": null,
   "id": "6077503d",
   "metadata": {},
   "outputs": [],
   "source": [
    "#1. Sólo las letras\n",
    "#2. Las letras en mayúscula\n",
    "#3. Valores únicos (haciendo el set o con condición)\n",
    "codes_countries = [\"es-91\", \"en-88\", \"fra-12\", \"it-33\", \"ar-55\", \"it-34\"]\n",
    "codigos = {\"ES\", \"EN\", \"FRA\", \"IT\", \"AR\"}"
   ]
  },
  {
   "cell_type": "code",
   "execution_count": 44,
   "id": "f1f93285",
   "metadata": {},
   "outputs": [
    {
     "data": {
      "text/plain": [
       "'ES'"
      ]
     },
     "execution_count": 44,
     "metadata": {},
     "output_type": "execute_result"
    }
   ],
   "source": [
    "codes_countries[0].split(\"-\")[0].upper()"
   ]
  },
  {
   "cell_type": "code",
   "execution_count": 46,
   "id": "d983af22",
   "metadata": {},
   "outputs": [
    {
     "data": {
      "text/plain": [
       "{'AR', 'EN', 'ES', 'FRA', 'IT'}"
      ]
     },
     "execution_count": 46,
     "metadata": {},
     "output_type": "execute_result"
    }
   ],
   "source": [
    "new_list = []\n",
    "\n",
    "for i in codes_countries:\n",
    "    new_list.append(i.split(\"-\")[0].upper())\n",
    "set(new_list)"
   ]
  },
  {
   "cell_type": "code",
   "execution_count": 47,
   "id": "b6f536f4",
   "metadata": {},
   "outputs": [
    {
     "data": {
      "text/plain": [
       "{'AR', 'EN', 'ES', 'FRA', 'IT'}"
      ]
     },
     "execution_count": 47,
     "metadata": {},
     "output_type": "execute_result"
    }
   ],
   "source": [
    "b"
   ]
  },
  {
   "cell_type": "code",
   "execution_count": 41,
   "id": "2d9abf28",
   "metadata": {},
   "outputs": [
    {
     "data": {
      "text/plain": [
       "['ES', 'EN', 'FRA', 'IT', 'AR', 'IT']"
      ]
     },
     "execution_count": 41,
     "metadata": {},
     "output_type": "execute_result"
    }
   ],
   "source": [
    "codes_countries_split= []\n",
    "countries= [] \n",
    "codes= []\n",
    "\n",
    "for i in codes_countries:\n",
    "    codes_countries_split.append(i.split(\"-\"))\n",
    "    \n",
    "for i in codes_countries_split:\n",
    "    countries.append(i[0].upper())\n",
    "    codes.append(i[1])\n",
    "    \n",
    "countries"
   ]
  },
  {
   "cell_type": "code",
   "execution_count": 58,
   "id": "608d5cff",
   "metadata": {},
   "outputs": [
    {
     "data": {
      "text/plain": [
       "'fr'"
      ]
     },
     "execution_count": 58,
     "metadata": {},
     "output_type": "execute_result"
    }
   ],
   "source": [
    "codes_countries[2][:2]"
   ]
  },
  {
   "cell_type": "code",
   "execution_count": 48,
   "id": "8b83b8a8",
   "metadata": {},
   "outputs": [
    {
     "data": {
      "text/plain": [
       "['ES', 'EN', 'FR', 'IT', 'AR', 'IT']"
      ]
     },
     "execution_count": 48,
     "metadata": {},
     "output_type": "execute_result"
    }
   ],
   "source": [
    "new_list = [i[:2].upper() for i in codes_countries]\n",
    "new_list"
   ]
  },
  {
   "cell_type": "code",
   "execution_count": 63,
   "id": "8efcf712",
   "metadata": {},
   "outputs": [
    {
     "data": {
      "text/plain": [
       "['a', 'b', 'c', 'd']"
      ]
     },
     "execution_count": 63,
     "metadata": {},
     "output_type": "execute_result"
    }
   ],
   "source": [
    "new_list = []\n",
    "for i in hola:\n",
    "    for j in i:\n",
    "        for k in j:\n",
    "            for l in k:\n",
    "                new_list.append(l)\n",
    "new_list"
   ]
  },
  {
   "cell_type": "code",
   "execution_count": 62,
   "id": "0fe710d9",
   "metadata": {},
   "outputs": [
    {
     "data": {
      "text/plain": [
       "['a', 'b', 'c', 'd']"
      ]
     },
     "execution_count": 62,
     "metadata": {},
     "output_type": "execute_result"
    }
   ],
   "source": [
    "hola = [[[\"a\", \"b\"]], [[[\"c\", \"d\"]]]]\n",
    "hola_2 = [l for i in hola for j in i for k in j for l in k]\n",
    "hola_2"
   ]
  },
  {
   "cell_type": "markdown",
   "id": "19d8a0d8",
   "metadata": {},
   "source": [
    "# RECAP"
   ]
  },
  {
   "cell_type": "markdown",
   "id": "8997a012",
   "metadata": {},
   "source": [
    "- diferente sintaxis para lo mismo: objeto vacío & apendear\n",
    "- más rapidas, más eficientes\n",
    "- son más cómodas\n",
    "- nos permiten hacer if/else, desanidar objetos\n",
    "- comprehension lists, sets, y diccionarios"
   ]
  }
 ],
 "metadata": {
  "kernelspec": {
   "display_name": "ironhack",
   "language": "python",
   "name": "ironhack"
  },
  "language_info": {
   "codemirror_mode": {
    "name": "ipython",
    "version": 3
   },
   "file_extension": ".py",
   "mimetype": "text/x-python",
   "name": "python",
   "nbconvert_exporter": "python",
   "pygments_lexer": "ipython3",
   "version": "3.8.13"
  },
  "nbTranslate": {
   "displayLangs": [
    "en",
    "es"
   ],
   "hotkey": "alt-a",
   "langInMainMenu": true,
   "sourceLang": "es",
   "targetLang": "en",
   "useGoogleTranslate": true
  },
  "toc": {
   "base_numbering": 1,
   "nav_menu": {},
   "number_sections": true,
   "sideBar": false,
   "skip_h1_title": true,
   "title_cell": "Table of Contents",
   "title_sidebar": "Contents",
   "toc_cell": false,
   "toc_position": {
    "height": "466px",
    "left": "91px",
    "top": "111.125px",
    "width": "256px"
   },
   "toc_section_display": true,
   "toc_window_display": false
  }
 },
 "nbformat": 4,
 "nbformat_minor": 5
}
