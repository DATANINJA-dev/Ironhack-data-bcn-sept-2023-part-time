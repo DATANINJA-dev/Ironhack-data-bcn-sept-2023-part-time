{
 "cells": [
  {
   "cell_type": "markdown",
   "id": "bfd2fc1f",
   "metadata": {
    "lang": "en"
   },
   "source": [
    "# Object-oriented programming"
   ]
  },
  {
   "cell_type": "markdown",
   "id": "linear-pierre",
   "metadata": {
    "toc": true
   },
   "source": [
    "<h1>Table of Contents<span class=\"tocSkip\"></span></h1>\n",
    "<div class=\"toc\"><ul class=\"toc-item\"><li><span><a href=\"#What-is-OOP---Object-Oriented-Programming?\" data-toc-modified-id=\"What-is-OOP---Object-Oriented-Programming?-1\"><span class=\"toc-item-num\">1&nbsp;&nbsp;</span>What is OOP - Object Oriented Programming?</a></span><ul class=\"toc-item\"><li><span><a href=\"#Fundamental-Principles\" data-toc-modified-id=\"Fundamental-Principles-1.1\"><span class=\"toc-item-num\">1.1&nbsp;&nbsp;</span>Fundamental Principles</a></span></li></ul></li><li><span><a href=\"#Classes-and-instances\" data-toc-modified-id=\"Classes-and-instances-2\"><span class=\"toc-item-num\">2&nbsp;&nbsp;</span>Classes and instances</a></span></li><li><span><a href=\"#Definition-of-a-class\" data-toc-modified-id=\"Definition-of-a-class-3\"><span class=\"toc-item-num\">3&nbsp;&nbsp;</span>Definition of a class</a></span><ul class=\"toc-item\"><li><span><a href=\"#Self:\" data-toc-modified-id=\"Self:-3.1\"><span class=\"toc-item-num\">3.1&nbsp;&nbsp;</span>Self:</a></span><ul class=\"toc-item\"><li><span><a href=\"#Defining-a-function\" data-toc-modified-id=\"Defining-a-function-3.1.1\"><span class=\"toc-item-num\">3.1.1&nbsp;&nbsp;</span>Defining a function</a></span></li><li><span><a href=\"#Calling-a-function\" data-toc-modified-id=\"Calling-a-function-3.1.2\"><span class=\"toc-item-num\">3.1.2&nbsp;&nbsp;</span>Calling a function</a></span></li><li><span><a href=\"#Defining-a-class\" data-toc-modified-id=\"Defining-a-class-3.1.3\"><span class=\"toc-item-num\">3.1.3&nbsp;&nbsp;</span>Defining a class</a></span></li><li><span><a href=\"#Instansiating-a-class\" data-toc-modified-id=\"Instansiating-a-class-3.1.4\"><span class=\"toc-item-num\">3.1.4&nbsp;&nbsp;</span>Instansiating a class</a></span></li></ul></li><li><span><a href=\"#Exploring-a-class\" data-toc-modified-id=\"Exploring-a-class-3.2\"><span class=\"toc-item-num\">3.2&nbsp;&nbsp;</span>Exploring a class</a></span></li><li><span><a href=\"#Instance-Attributes\" data-toc-modified-id=\"Instance-Attributes-3.3\"><span class=\"toc-item-num\">3.3&nbsp;&nbsp;</span>Instance Attributes</a></span><ul class=\"toc-item\"><li><span><a href=\"#Default-attributes\" data-toc-modified-id=\"Default-attributes-3.3.1\"><span class=\"toc-item-num\">3.3.1&nbsp;&nbsp;</span>Default attributes</a></span></li></ul></li><li><span><a href=\"#Instance-Methods\" data-toc-modified-id=\"Instance-Methods-3.4\"><span class=\"toc-item-num\">3.4&nbsp;&nbsp;</span>Instance Methods</a></span><ul class=\"toc-item\"><li><span><a href=\"#Python-is-built-with-objects\" data-toc-modified-id=\"Python-is-built-with-objects-3.4.1\"><span class=\"toc-item-num\">3.4.1&nbsp;&nbsp;</span>Python is built with objects</a></span></li></ul></li><li><span><a href=\"#Class-variables\" data-toc-modified-id=\"Class-variables-3.5\"><span class=\"toc-item-num\">3.5&nbsp;&nbsp;</span>Class variables</a></span></li></ul></li><li><span><a href=\"#Before-continuing,-let's-take-a-breath-and-review-vocabulary\" data-toc-modified-id=\"Before-continuing,-let's-take-a-breath-and-review-vocabulary-4\"><span class=\"toc-item-num\">4&nbsp;&nbsp;</span>Before continuing, let's take a breath and review vocabulary</a></span><ul class=\"toc-item\"><li><ul class=\"toc-item\"><li><span><a href=\"#Easy-exercise\" data-toc-modified-id=\"Easy-exercise-4.0.1\"><span class=\"toc-item-num\">4.0.1&nbsp;&nbsp;</span>Easy exercise</a></span></li></ul></li></ul></li><li><span><a href=\"#Inheritance\" data-toc-modified-id=\"Inheritance-5\"><span class=\"toc-item-num\">5&nbsp;&nbsp;</span>Inheritance</a></span><ul class=\"toc-item\"><li><span><a href=\"#super()\" data-toc-modified-id=\"super()-5.1\"><span class=\"toc-item-num\">5.1&nbsp;&nbsp;</span>super()</a></span></li></ul></li><li><span><a href=\"#Summary\" data-toc-modified-id=\"Summary-6\"><span class=\"toc-item-num\">6&nbsp;&nbsp;</span>Summary</a></span></li><li><span><a href=\"#Furthermaterials\" data-toc-modified-id=\"Furthermaterials-7\"><span class=\"toc-item-num\">7&nbsp;&nbsp;</span>Furthermaterials</a></span><ul class=\"toc-item\"><li><span><a href=\"#Methods-ADVANCED-@classmethod@staticmethod\" data-toc-modified-id=\"Methods-ADVANCED-@classmethod@staticmethod-7.1\"><span class=\"toc-item-num\">7.1&nbsp;&nbsp;</span>Methods <strong>ADVANCED</strong> @classmethod@staticmethod</a></span></li></ul></li></ul></div>"
   ]
  },
  {
   "cell_type": "markdown",
   "id": "44bbe54e",
   "metadata": {
    "lang": "en"
   },
   "source": [
    "## What is OOP - Object Oriented Programming?"
   ]
  },
  {
   "cell_type": "markdown",
   "id": "da79b55b",
   "metadata": {
    "lang": "en"
   },
   "source": [
    "Object-oriented programming is a programming paradigm, that is, a programming style and technique, which goes beyond the implementation itself. This paradigm is based on the \"object\" concept, which can contain both data, in the form of fields called \"attributes\", and code for its manipulation in the form of procedures and functions, called \"methods\". Thanks to this, we can group everything under a single data type (the object \"class\"), which facilitates the modularity and reusability of the code.\n",
    "This has a strong implication in the design of IT solutions; Software engineering methodologies are based on object-oriented programming."
   ]
  },
  {
   "cell_type": "markdown",
   "id": "19380f68",
   "metadata": {
    "lang": "en"
   },
   "source": [
    "You can imagine objects as a new data type whose definition is given in a structure called class.\n",
    "Classes are often compared to cookie cutters and objects to the cookies themselves. While all cookies made from the same pan have the same shape, each one takes on individual attributes after baking. Things like color, texture, flavor... can be very different.\n",
    "In other words, the cookies share a manufacturing process and some attributes, but they are independent of each other and of the mold itself, and that makes each one unique.\n",
    "Extrapolating from the example, a class is just a script about how the objects that will be created with it should be."
   ]
  },
  {
   "cell_type": "markdown",
   "id": "fallen-brazil",
   "metadata": {},
   "source": [
    "![clases](https://files.realpython.com/media/Object-Oriented-Programming-OOP-in-Python-3_Watermarked.0d29780806d5.jpg)"
   ]
  },
  {
   "cell_type": "markdown",
   "id": "92d02d2c",
   "metadata": {
    "lang": "en"
   },
   "source": [
    "### Fundamental Principles"
   ]
  },
  {
   "cell_type": "markdown",
   "id": "0473322c",
   "metadata": {
    "lang": "en"
   },
   "source": [
    "1 - **Data abstraction**: Something we do naturally in our understanding of the world is the abstraction of concrete information in concepts or classes. For example, the concept of \"car\" evokes in us an idea of ​​a vehicle with four wheels, a steering wheel, an engine... Our car is a specific \"instance\" of that concept, and different from other cars, but we are capable of associating certain properties or characteristics to said concept above specific details. This ability to abstract a concept is essential for the development of human language and, of course, such a good idea has been transferred to the world of programming. In OOP, we call the abstract concept \"class\" and the realization of that concept \"object\". Your car is concrete, you can drive it, it is an object, an \"instance\" of the class \"car\".\n",
    "   \n",
    "   2 - **Encapsulation**: Each type of object contains its own information and can be manipulated in a particular way. A car can be driven and has a certain pressure in the wheels, a color, a certain level of gasoline, etc. With a GPS we can obtain our position coordinates and the batteries will have a certain charge. A dog barks, has a weight, an age. All those attributes and \"methods\" are \"encapsulated\" within the object, and are accessible only through a given object. The advantage is that we don't need to have, for example, a list with names, another with ages, another with weights... but rather a list of objects and each one contains, that is, encapsulates, its own information.\n",
    "   \n",
    "   3 - **Inheritance**: Some classes can specialize others. For this, the specialized class \"inherits\" the properties of the more general class, called the \"superclass\". For example, the \"Car\" and \"Truck\" classes can inherit from the \"Vehicle\" class. This is a way of reusing code, by being able to assume those common properties between several classes in a superior class. Python supports \"multiple inheritance\", so a class can be defined as a subclass of several classes from which it would inherit all its properties (attributes and methods) at once.\n",
    "   \n",
    "   4 - **Polymorphism**: A square can be drawn, a circle as well, just as any other shape can be drawn. \"Square\" and \"Circle\" would be subclasses of \"Shape\". The \"Shape\" superclass implements a draw() method, and both the \"Square\" subclass and the \"Circle\" subclass override this method to their particular case. So a function could accept an object of type \"Shape\" as a parameter and call the draw() method without knowing if the passed argument is a circle or a square. Each object knows its level of specialization and the concrete implementation of its methods. This ability to use superclass methods in code but resolve to subclass methods at run time is called \"Polymorphism\": the same variable can take different forms."
   ]
  },
  {
   "cell_type": "markdown",
   "id": "f325c4f9",
   "metadata": {
    "lang": "en"
   },
   "source": [
    "## Classes and instances"
   ]
  },
  {
   "cell_type": "markdown",
   "id": "f1423c0e",
   "metadata": {
    "lang": "en"
   },
   "source": [
    "A class is like an abstract type for objects that, in addition to storing values ​​called attributes, has associated a series of functions that we call methods. An instance of a class is the same as saying an object of that class. Instantiating a class refers to creating an object that belongs to that class.\n",
    "In Python, data types are classes, and any literal or variable of one of these types is an object that instantiates the type's class. For example: a = 2222 is equivalent to instantiating the PyLongObject class by assigning an internal attribute the value 2222. This is what happens at a low level, but we can consider that the variable a is of type int. We can know the type of any variable, that is, the class it instantiates, with the type() function, and the identifier of the instantiated object with the id() function."
   ]
  },
  {
   "cell_type": "code",
   "execution_count": null,
   "id": "0497c5a1",
   "metadata": {},
   "outputs": [],
   "source": [
    "class Car ():\n",
    "    pass"
   ]
  },
  {
   "cell_type": "code",
   "execution_count": 1,
   "id": "9afc3195",
   "metadata": {},
   "outputs": [
    {
     "data": {
      "text/plain": [
       "'sdsdasfysisfl <vl'"
      ]
     },
     "execution_count": 1,
     "metadata": {},
     "output_type": "execute_result"
    }
   ],
   "source": [
    "\"sdsdasfysisfl <vl\" #instancia"
   ]
  },
  {
   "cell_type": "code",
   "execution_count": 4,
   "id": "ccd31e07",
   "metadata": {},
   "outputs": [
    {
     "data": {
      "text/plain": [
       "str"
      ]
     },
     "execution_count": 4,
     "metadata": {},
     "output_type": "execute_result"
    }
   ],
   "source": [
    "type(\"sdsdasfysisfl <vl\")"
   ]
  },
  {
   "cell_type": "code",
   "execution_count": 7,
   "id": "a4229156",
   "metadata": {},
   "outputs": [
    {
     "data": {
      "text/plain": [
       "True"
      ]
     },
     "execution_count": 7,
     "metadata": {},
     "output_type": "execute_result"
    }
   ],
   "source": [
    "isinstance(\"sdsdasfysisfl <vl\", str)"
   ]
  },
  {
   "cell_type": "code",
   "execution_count": 6,
   "id": "efcd9e66",
   "metadata": {},
   "outputs": [
    {
     "data": {
      "text/plain": [
       "False"
      ]
     },
     "execution_count": 6,
     "metadata": {},
     "output_type": "execute_result"
    }
   ],
   "source": [
    "isinstance(\"sdsdasfysisfl <vl\", int)"
   ]
  },
  {
   "cell_type": "code",
   "execution_count": 2,
   "id": "937a12c9",
   "metadata": {},
   "outputs": [],
   "source": [
    "#clase string"
   ]
  },
  {
   "cell_type": "markdown",
   "id": "e4bd50ab",
   "metadata": {
    "lang": "en"
   },
   "source": [
    "To know all the methods and attributes of a class we can use the dir() function both on an object and on the class."
   ]
  },
  {
   "cell_type": "code",
   "execution_count": 8,
   "id": "6654a336",
   "metadata": {},
   "outputs": [
    {
     "data": {
      "text/plain": [
       "'STDTDFFD'"
      ]
     },
     "execution_count": 8,
     "metadata": {},
     "output_type": "execute_result"
    }
   ],
   "source": [
    "\"stdtdffd\".upper()"
   ]
  },
  {
   "cell_type": "code",
   "execution_count": 10,
   "id": "c54cf0a0",
   "metadata": {},
   "outputs": [
    {
     "ename": "AttributeError",
     "evalue": "'int' object has no attribute 'upper'",
     "output_type": "error",
     "traceback": [
      "\u001b[0;31m---------------------------------------------------------------------------\u001b[0m",
      "\u001b[0;31mAttributeError\u001b[0m                            Traceback (most recent call last)",
      "Input \u001b[0;32mIn [10]\u001b[0m, in \u001b[0;36m<cell line: 2>\u001b[0;34m()\u001b[0m\n\u001b[1;32m      1\u001b[0m num \u001b[38;5;241m=\u001b[39m \u001b[38;5;241m8\u001b[39m\n\u001b[0;32m----> 2\u001b[0m \u001b[43mnum\u001b[49m\u001b[38;5;241;43m.\u001b[39;49m\u001b[43mupper\u001b[49m()\n",
      "\u001b[0;31mAttributeError\u001b[0m: 'int' object has no attribute 'upper'"
     ]
    }
   ],
   "source": [
    "num = 8\n",
    "num.upper()"
   ]
  },
  {
   "cell_type": "markdown",
   "id": "032f8630",
   "metadata": {},
   "source": [
    "You don't need to master this, just know what the `.__something__` means. It's a dunder/magic methods. Meant for Python internally"
   ]
  },
  {
   "cell_type": "code",
   "execution_count": 13,
   "id": "6d488f79",
   "metadata": {},
   "outputs": [
    {
     "name": "stdout",
     "output_type": "stream",
     "text": [
      "['capitalize', 'casefold', 'center', 'count', 'encode', 'endswith', 'expandtabs', 'find', 'format', 'index', 'isalnum', 'isalpha', 'isascii', 'isdecimal', 'isdigit', 'isidentifier', 'islower', 'isnumeric', 'isprintable', 'isspace', 'istitle', 'isupper', 'join', 'ljust', 'lower', 'lstrip', 'maketrans', 'partition', 'replace', 'rfind', 'rindex', 'rjust', 'rpartition', 'rsplit', 'rstrip', 'split', 'splitlines', 'startswith', 'strip', 'swapcase', 'title', 'translate', 'upper', 'zfill']\n"
     ]
    }
   ],
   "source": [
    "print([i for i in dir(\"stdtdffd\") if \"_\" not in i])"
   ]
  },
  {
   "cell_type": "code",
   "execution_count": 14,
   "id": "65d01c79",
   "metadata": {},
   "outputs": [
    {
     "name": "stdout",
     "output_type": "stream",
     "text": [
      "['conjugate', 'denominator', 'imag', 'numerator', 'real']\n"
     ]
    }
   ],
   "source": [
    "print([i for i in dir(num) if \"_\" not in i])"
   ]
  },
  {
   "cell_type": "code",
   "execution_count": 15,
   "id": "b73be548",
   "metadata": {},
   "outputs": [
    {
     "name": "stdout",
     "output_type": "stream",
     "text": [
      "['append', 'clear', 'copy', 'count', 'extend', 'index', 'insert', 'pop', 'remove', 'reverse', 'sort']\n"
     ]
    }
   ],
   "source": [
    "print([i for i in dir(list) if \"_\" not in i])"
   ]
  },
  {
   "cell_type": "code",
   "execution_count": 21,
   "id": "ab7259ba",
   "metadata": {},
   "outputs": [
    {
     "data": {
      "text/plain": [
       "['T',\n",
       " 'abs',\n",
       " 'add',\n",
       " 'age',\n",
       " 'agg',\n",
       " 'aggregate',\n",
       " 'align',\n",
       " 'alive',\n",
       " 'all',\n",
       " 'alone']"
      ]
     },
     "execution_count": 21,
     "metadata": {},
     "output_type": "execute_result"
    }
   ],
   "source": [
    "import pandas as pd\n",
    "import seaborn as sns\n",
    "df = sns.load_dataset(\"titanic\")\n",
    "df.sample()\n",
    "[i for i in dir(df) if \"_\" not in i][:10] # for a dataframe"
   ]
  },
  {
   "cell_type": "code",
   "execution_count": null,
   "id": "a833c8f3",
   "metadata": {},
   "outputs": [],
   "source": [
    "# Car\n",
    "    # fiat_punto, 2000\n",
    "    # mercedes 2023"
   ]
  },
  {
   "cell_type": "code",
   "execution_count": 23,
   "id": "8ec492a7",
   "metadata": {},
   "outputs": [],
   "source": [
    "una_string = \"sdssd \"\n",
    "otra_string = \"hhhhhhh\""
   ]
  },
  {
   "cell_type": "code",
   "execution_count": 26,
   "id": "676f8f23",
   "metadata": {},
   "outputs": [
    {
     "data": {
      "text/plain": [
       "'sdssdhhhhhhh'"
      ]
     },
     "execution_count": 26,
     "metadata": {},
     "output_type": "execute_result"
    }
   ],
   "source": [
    "una_string + otra_string"
   ]
  },
  {
   "cell_type": "code",
   "execution_count": 27,
   "id": "1f4bfc7b",
   "metadata": {},
   "outputs": [
    {
     "data": {
      "text/plain": [
       "'sdssdhhhhhhh'"
      ]
     },
     "execution_count": 27,
     "metadata": {},
     "output_type": "execute_result"
    }
   ],
   "source": [
    "una_string.__add__(otra_string)"
   ]
  },
  {
   "cell_type": "code",
   "execution_count": null,
   "id": "b4e99751",
   "metadata": {},
   "outputs": [],
   "source": [
    "#a.__add__(b)"
   ]
  },
  {
   "cell_type": "code",
   "execution_count": 28,
   "id": "b6e4ec8e",
   "metadata": {},
   "outputs": [
    {
     "data": {
      "text/plain": [
       "['capitalize',\n",
       " 'casefold',\n",
       " 'center',\n",
       " 'count',\n",
       " 'encode',\n",
       " 'endswith',\n",
       " 'expandtabs',\n",
       " 'find',\n",
       " 'format',\n",
       " 'index',\n",
       " 'isalnum',\n",
       " 'isalpha',\n",
       " 'isascii',\n",
       " 'isdecimal',\n",
       " 'isdigit',\n",
       " 'isidentifier',\n",
       " 'islower',\n",
       " 'isnumeric',\n",
       " 'isprintable',\n",
       " 'isspace',\n",
       " 'istitle',\n",
       " 'isupper',\n",
       " 'join',\n",
       " 'ljust',\n",
       " 'lower',\n",
       " 'lstrip',\n",
       " 'maketrans',\n",
       " 'partition',\n",
       " 'replace',\n",
       " 'rfind',\n",
       " 'rindex',\n",
       " 'rjust',\n",
       " 'rpartition',\n",
       " 'rsplit',\n",
       " 'rstrip',\n",
       " 'split',\n",
       " 'splitlines',\n",
       " 'startswith',\n",
       " 'strip',\n",
       " 'swapcase',\n",
       " 'title',\n",
       " 'translate',\n",
       " 'upper',\n",
       " 'zfill']"
      ]
     },
     "execution_count": 28,
     "metadata": {},
     "output_type": "execute_result"
    }
   ],
   "source": [
    "[i for i in dir(\"sdsd\") if \"_\" not in i] #dunder methods: double under score"
   ]
  },
  {
   "cell_type": "markdown",
   "id": "ffc3bd0b",
   "metadata": {
    "lang": "en"
   },
   "source": [
    "## Definition of a class"
   ]
  },
  {
   "cell_type": "code",
   "execution_count": null,
   "id": "89e5819e",
   "metadata": {},
   "outputs": [],
   "source": [
    "# variables: propiedad\n",
    "# métodos"
   ]
  },
  {
   "cell_type": "code",
   "execution_count": 29,
   "id": "b325debb",
   "metadata": {},
   "outputs": [
    {
     "data": {
      "text/plain": [
       "'dssdsd'"
      ]
     },
     "execution_count": 29,
     "metadata": {},
     "output_type": "execute_result"
    }
   ],
   "source": [
    "\"dssdsd\""
   ]
  },
  {
   "cell_type": "code",
   "execution_count": 30,
   "id": "aa838107",
   "metadata": {},
   "outputs": [
    {
     "data": {
      "text/plain": [
       "6"
      ]
     },
     "execution_count": 30,
     "metadata": {},
     "output_type": "execute_result"
    }
   ],
   "source": [
    "len(\"dssdsd\")"
   ]
  },
  {
   "cell_type": "code",
   "execution_count": 31,
   "id": "76b48dd8",
   "metadata": {},
   "outputs": [
    {
     "data": {
      "text/plain": [
       "'DSSDSD'"
      ]
     },
     "execution_count": 31,
     "metadata": {},
     "output_type": "execute_result"
    }
   ],
   "source": [
    "\"dssdsd\".upper()"
   ]
  },
  {
   "cell_type": "markdown",
   "id": "8917064a",
   "metadata": {
    "lang": "en"
   },
   "source": [
    "We can define our own classes and indicate whether they inherit from others, what their internal attributes are, and what their methods are. Once the class is defined, it is possible to create objects from it. To create a class, simply group attributes and methods in the body of a **class** block.\n",
    "Imagine that you create software to manage a school, and you want to represent \"teachers\" in your Python code. Teachers will have some associated data (`attributes` in `class` jargon), and they will be able to *perform actions* through functions that we will call `methods` (again, `class` jargon).\n",
    "\n",
    "We could do it one by one:"
   ]
  },
  {
   "cell_type": "code",
   "execution_count": 36,
   "id": "86a28408",
   "metadata": {},
   "outputs": [],
   "source": [
    "def saludo (name):\n",
    "    return f\"Hola, mi nombre es {name}\""
   ]
  },
  {
   "cell_type": "code",
   "execution_count": 37,
   "id": "aac04e44",
   "metadata": {},
   "outputs": [
    {
     "data": {
      "text/plain": [
       "'Hola, mi nombre es Laura'"
      ]
     },
     "execution_count": 37,
     "metadata": {},
     "output_type": "execute_result"
    }
   ],
   "source": [
    "saludo (\"Laura\")"
   ]
  },
  {
   "cell_type": "code",
   "execution_count": 38,
   "id": "db41f5de",
   "metadata": {},
   "outputs": [],
   "source": [
    "# depende de la key\n",
    "laura_dict = {\n",
    "    \"name\": \"Laura\",\n",
    "    \"edad\": 31,\n",
    "    \"barrio\": \"poblenou\"\n",
    "}"
   ]
  },
  {
   "cell_type": "code",
   "execution_count": 39,
   "id": "af35d567",
   "metadata": {},
   "outputs": [],
   "source": [
    "maria_dict = {\n",
    "    \"name\": \"maría\",\n",
    "    \"edad\": 27,\n",
    "    \"barrio\": \"gracia\"\n",
    "}"
   ]
  },
  {
   "cell_type": "code",
   "execution_count": null,
   "id": "947fd88e",
   "metadata": {},
   "outputs": [],
   "source": [
    "[\"laura\", 31, \"poblenou\"] #esto depende del índice"
   ]
  },
  {
   "cell_type": "code",
   "execution_count": 40,
   "id": "20a5cb66",
   "metadata": {},
   "outputs": [
    {
     "data": {
      "text/plain": [
       "'Hola, mi nombre es Laura'"
      ]
     },
     "execution_count": 40,
     "metadata": {},
     "output_type": "execute_result"
    }
   ],
   "source": [
    "saludo (laura_dict[\"name\"])"
   ]
  },
  {
   "cell_type": "code",
   "execution_count": 41,
   "id": "ac4cd893",
   "metadata": {
    "scrolled": true
   },
   "outputs": [
    {
     "data": {
      "text/plain": [
       "'Hola, mi nombre es maría'"
      ]
     },
     "execution_count": 41,
     "metadata": {},
     "output_type": "execute_result"
    }
   ],
   "source": [
    "saludo (maria_dict[\"name\"])"
   ]
  },
  {
   "cell_type": "code",
   "execution_count": 42,
   "id": "a96a002c",
   "metadata": {},
   "outputs": [
    {
     "data": {
      "text/plain": [
       "'\\nclass Staff ():\\n    \\n    \\n    name \\n    edad \\n    barrio\\n    \\n    def saludo (name):\\n        return f\"Hola, mi nombre es {name}\"\\n'"
      ]
     },
     "execution_count": 42,
     "metadata": {},
     "output_type": "execute_result"
    }
   ],
   "source": [
    "\"\"\"\n",
    "class Staff ():\n",
    "    \n",
    "    \n",
    "    name \n",
    "    edad \n",
    "    barrio\n",
    "    \n",
    "    def saludo (name):\n",
    "        return f\"Hola, mi nombre es {name}\"\n",
    "\"\"\""
   ]
  },
  {
   "cell_type": "code",
   "execution_count": 43,
   "id": "83a499a5",
   "metadata": {},
   "outputs": [],
   "source": [
    "class Staff ():\n",
    "    pass"
   ]
  },
  {
   "cell_type": "code",
   "execution_count": 44,
   "id": "2ba08b29",
   "metadata": {},
   "outputs": [],
   "source": [
    "maria = Staff()"
   ]
  },
  {
   "cell_type": "code",
   "execution_count": 45,
   "id": "7e5abfb4",
   "metadata": {},
   "outputs": [],
   "source": [
    "laura = Staff()"
   ]
  },
  {
   "cell_type": "code",
   "execution_count": 46,
   "id": "a5045c10",
   "metadata": {},
   "outputs": [
    {
     "data": {
      "text/plain": [
       "__main__.Staff"
      ]
     },
     "execution_count": 46,
     "metadata": {},
     "output_type": "execute_result"
    }
   ],
   "source": [
    "type(laura)"
   ]
  },
  {
   "cell_type": "markdown",
   "id": "dffb2147",
   "metadata": {},
   "source": [
    "### Self: "
   ]
  },
  {
   "cell_type": "markdown",
   "id": "0acb0ad3",
   "metadata": {
    "lang": "en"
   },
   "source": [
    "I leave you [here](https://realpython.com/python-pep8/#naming-styles) a realpython article about the conventions for naming things (by things I mean variables, classes, functions... code tidbits )\n",
    "The Python user community has adopted a style guide that makes code easier to read and consistent between different user programs. This guide is not mandatory to follow, but it is highly recommended."
   ]
  },
  {
   "cell_type": "markdown",
   "id": "23576dae",
   "metadata": {},
   "source": [
    "#### Defining a function"
   ]
  },
  {
   "cell_type": "code",
   "execution_count": null,
   "id": "acefd0b8",
   "metadata": {},
   "outputs": [],
   "source": []
  },
  {
   "cell_type": "markdown",
   "id": "0789adf6",
   "metadata": {},
   "source": [
    "#### Calling a function"
   ]
  },
  {
   "cell_type": "code",
   "execution_count": null,
   "id": "178d38ab",
   "metadata": {},
   "outputs": [],
   "source": []
  },
  {
   "cell_type": "markdown",
   "id": "9e4ef398",
   "metadata": {},
   "source": [
    "#### Defining a class"
   ]
  },
  {
   "cell_type": "code",
   "execution_count": null,
   "id": "0fde465c",
   "metadata": {},
   "outputs": [],
   "source": []
  },
  {
   "cell_type": "markdown",
   "id": "dda40dab",
   "metadata": {},
   "source": [
    "#### Instansiating a class"
   ]
  },
  {
   "cell_type": "code",
   "execution_count": null,
   "id": "5864fa6f",
   "metadata": {},
   "outputs": [],
   "source": []
  },
  {
   "cell_type": "markdown",
   "id": "be46cddd",
   "metadata": {},
   "source": [
    "### Exploring a class"
   ]
  },
  {
   "cell_type": "code",
   "execution_count": null,
   "id": "85ac92e6",
   "metadata": {},
   "outputs": [],
   "source": []
  },
  {
   "cell_type": "markdown",
   "id": "81f9ca3e",
   "metadata": {},
   "source": [
    "### Instance Attributes\n",
    "They contain data that is unique to each instance."
   ]
  },
  {
   "cell_type": "code",
   "execution_count": 81,
   "id": "20fd3e9f",
   "metadata": {},
   "outputs": [],
   "source": [
    "maria = {\n",
    "    \"name\": \"María\",\n",
    "    \"fname\": \"García\"\n",
    "}"
   ]
  },
  {
   "cell_type": "code",
   "execution_count": 82,
   "id": "d3be849d",
   "metadata": {},
   "outputs": [
    {
     "data": {
      "text/plain": [
       "'García'"
      ]
     },
     "execution_count": 82,
     "metadata": {},
     "output_type": "execute_result"
    }
   ],
   "source": [
    "self[\"fname\"]"
   ]
  },
  {
   "cell_type": "code",
   "execution_count": 83,
   "id": "eaa54a24",
   "metadata": {},
   "outputs": [
    {
     "data": {
      "text/plain": [
       "'Rodríguez'"
      ]
     },
     "execution_count": 83,
     "metadata": {},
     "output_type": "execute_result"
    }
   ],
   "source": [
    "laura = {\n",
    "    \"name\": \"Laura\",\n",
    "    \"fname\": \"Rodríguez\"\n",
    "}\n",
    "\n",
    "laura[\"fname\"]"
   ]
  },
  {
   "cell_type": "code",
   "execution_count": 84,
   "id": "356f48dd",
   "metadata": {},
   "outputs": [],
   "source": [
    "class Staff ():\n",
    "    \n",
    "    def __init__ (self, name, fname):\n",
    "        self.name = name\n",
    "        self.fname = fname\n",
    "        self.holidays = 30"
   ]
  },
  {
   "cell_type": "code",
   "execution_count": 78,
   "id": "2270265f",
   "metadata": {},
   "outputs": [],
   "source": [
    "maria = Staff(\"María\", \"García\")"
   ]
  },
  {
   "cell_type": "code",
   "execution_count": 79,
   "id": "64e0cbb8",
   "metadata": {},
   "outputs": [
    {
     "data": {
      "text/plain": [
       "'García'"
      ]
     },
     "execution_count": 79,
     "metadata": {},
     "output_type": "execute_result"
    }
   ],
   "source": [
    "maria.fname"
   ]
  },
  {
   "cell_type": "code",
   "execution_count": 65,
   "id": "2420d1cf",
   "metadata": {},
   "outputs": [
    {
     "ename": "AttributeError",
     "evalue": "'Staff' object has no attribute 'name'",
     "output_type": "error",
     "traceback": [
      "\u001b[0;31m---------------------------------------------------------------------------\u001b[0m",
      "\u001b[0;31mAttributeError\u001b[0m                            Traceback (most recent call last)",
      "Input \u001b[0;32mIn [65]\u001b[0m, in \u001b[0;36m<cell line: 1>\u001b[0;34m()\u001b[0m\n\u001b[0;32m----> 1\u001b[0m \u001b[43mmaria\u001b[49m\u001b[38;5;241;43m.\u001b[39;49m\u001b[43mname\u001b[49m\n",
      "\u001b[0;31mAttributeError\u001b[0m: 'Staff' object has no attribute 'name'"
     ]
    }
   ],
   "source": [
    "maria.name"
   ]
  },
  {
   "cell_type": "code",
   "execution_count": 64,
   "id": "caee5227",
   "metadata": {},
   "outputs": [
    {
     "data": {
      "text/plain": [
       "30"
      ]
     },
     "execution_count": 64,
     "metadata": {},
     "output_type": "execute_result"
    }
   ],
   "source": [
    "maria.holidays"
   ]
  },
  {
   "cell_type": "code",
   "execution_count": 53,
   "id": "a2f5a1e2",
   "metadata": {},
   "outputs": [
    {
     "data": {
      "text/plain": [
       "30"
      ]
     },
     "execution_count": 53,
     "metadata": {},
     "output_type": "execute_result"
    }
   ],
   "source": [
    "laura = Staff()\n",
    "laura.holidays"
   ]
  },
  {
   "cell_type": "code",
   "execution_count": 57,
   "id": "73614c86",
   "metadata": {},
   "outputs": [
    {
     "data": {
      "text/plain": [
       "'\\nclas Array():\\n    \\n    def __init__(self):\\n        shape = ()\\n        size = shape[0]*shape[1]\\n\\n\\n'"
      ]
     },
     "execution_count": 57,
     "metadata": {},
     "output_type": "execute_result"
    }
   ],
   "source": [
    "import numpy as np\n",
    "list_ = [1, 2, 3]\n",
    "\n",
    "c = np.array(list_)\n",
    "c.size\n",
    "\n",
    "\"\"\"\n",
    "clas Array():\n",
    "    \n",
    "    def __init__(self):\n",
    "        shape = ()\n",
    "        size = shape[0]*shape[1]\n",
    "\n",
    "\"\"\""
   ]
  },
  {
   "cell_type": "code",
   "execution_count": 110,
   "id": "ccaccd88",
   "metadata": {},
   "outputs": [],
   "source": [
    "class Staff ():\n",
    "    \n",
    "    def __init__ (self, name, fname):\n",
    "        self.name = name\n",
    "        self.fname = fname\n",
    "        self.holidays = 30\n",
    "        \n",
    "        self.email = str(self.name + \".\" + self.fname + \"@gmail.com\").lower()"
   ]
  },
  {
   "cell_type": "code",
   "execution_count": 116,
   "id": "87339bdf",
   "metadata": {},
   "outputs": [],
   "source": [
    "maria = Staff(\"Maria\", \"Rodriguez\")"
   ]
  },
  {
   "cell_type": "code",
   "execution_count": 112,
   "id": "807d4a2d",
   "metadata": {},
   "outputs": [
    {
     "data": {
      "text/plain": [
       "'maria.rodriguez@gmail.com'"
      ]
     },
     "execution_count": 112,
     "metadata": {},
     "output_type": "execute_result"
    }
   ],
   "source": [
    "maria.email"
   ]
  },
  {
   "cell_type": "code",
   "execution_count": 113,
   "id": "274061c4",
   "metadata": {},
   "outputs": [],
   "source": [
    "laura = Staff(\"Laura\", \"Garcia\")"
   ]
  },
  {
   "cell_type": "code",
   "execution_count": 114,
   "id": "07a2a674",
   "metadata": {},
   "outputs": [
    {
     "data": {
      "text/plain": [
       "30"
      ]
     },
     "execution_count": 114,
     "metadata": {},
     "output_type": "execute_result"
    }
   ],
   "source": [
    "laura.holidays"
   ]
  },
  {
   "cell_type": "code",
   "execution_count": 127,
   "id": "58566a2b",
   "metadata": {},
   "outputs": [],
   "source": [
    "class Staff ():\n",
    "    \n",
    "    def __init__ (self, name, fname):\n",
    "        self.name = name\n",
    "        self.fname = fname\n",
    "        \n",
    "        self.holidays = 30\n",
    "        \n",
    "        self.email = str(self.name + \".\" + self.fname + \"@gmail.com\").lower()\n",
    "        \n",
    "        \n",
    "    def saludo (self):\n",
    "        return f\"Hola! Mi nombre es {self.name} y tengo {self.holidays} días de vacaciones\""
   ]
  },
  {
   "cell_type": "code",
   "execution_count": 130,
   "id": "497764bb",
   "metadata": {},
   "outputs": [
    {
     "data": {
      "text/plain": [
       "'\\nclass Str():\\n    \\n    def __init__ (self, contenido):\\n        self.contenido = contenido\\n        \\n    def upper (self):\\n        string_vacia = \"\"\\n        for i in self.contenido:\\n            string_vacia += i.MAYUSCULA\\n'"
      ]
     },
     "execution_count": 130,
     "metadata": {},
     "output_type": "execute_result"
    }
   ],
   "source": [
    "\"\"\"\n",
    "class Str():\n",
    "    \n",
    "    def __init__ (self, contenido):\n",
    "        self.contenido = contenido\n",
    "        \n",
    "    def upper (self):\n",
    "        string_vacia = \"\"\n",
    "        for i in self.contenido:\n",
    "            string_vacia += i.MAYUSCULA\n",
    "\"\"\""
   ]
  },
  {
   "cell_type": "code",
   "execution_count": null,
   "id": "b88fe049",
   "metadata": {},
   "outputs": [],
   "source": [
    "mi_string = \"sdsdsd\" # mi_string = Str(\"sdsdsd\")\n",
    "mi_string.upper()"
   ]
  },
  {
   "cell_type": "code",
   "execution_count": 128,
   "id": "adb5b0cf",
   "metadata": {},
   "outputs": [],
   "source": [
    "laura = Staff(\"Laura\", \"rdgz\")"
   ]
  },
  {
   "cell_type": "code",
   "execution_count": 129,
   "id": "2338f57b",
   "metadata": {},
   "outputs": [
    {
     "data": {
      "text/plain": [
       "'Hola! Mi nombre es Laura y tengo 30 días de vacaciones'"
      ]
     },
     "execution_count": 129,
     "metadata": {},
     "output_type": "execute_result"
    }
   ],
   "source": [
    "laura.saludo()"
   ]
  },
  {
   "cell_type": "code",
   "execution_count": 133,
   "id": "a0a3f9de",
   "metadata": {},
   "outputs": [],
   "source": [
    "class Staff ():\n",
    "    \n",
    "    def __init__ (self, name, fname, holidays=30):\n",
    "        self.name = name\n",
    "        self.fname = fname\n",
    "        \n",
    "        self.holidays = holidays\n",
    "        \n",
    "        self.email = str(self.name + \".\" + self.fname + \"@gmail.com\").lower()\n",
    "        \n",
    "        \n",
    "    def saludo (self):\n",
    "        return f\"Hola! Mi nombre es {self.name} y tengo {self.holidays} días de vacaciones\""
   ]
  },
  {
   "cell_type": "code",
   "execution_count": 136,
   "id": "e026c4ad",
   "metadata": {},
   "outputs": [],
   "source": [
    "marc = Staff(\"Marc\", \"Rodr\", 25)"
   ]
  },
  {
   "cell_type": "code",
   "execution_count": 137,
   "id": "69315711",
   "metadata": {},
   "outputs": [
    {
     "data": {
      "text/plain": [
       "25"
      ]
     },
     "execution_count": 137,
     "metadata": {},
     "output_type": "execute_result"
    }
   ],
   "source": [
    "marc.holidays"
   ]
  },
  {
   "cell_type": "code",
   "execution_count": 253,
   "id": "1fb13e72",
   "metadata": {},
   "outputs": [],
   "source": [
    "class Staff ():\n",
    "    \n",
    "    def __init__ (self, name, fname, holidays=30):\n",
    "        self.name = name\n",
    "        self.fname = fname\n",
    "        \n",
    "        self.holidays = holidays #30\n",
    "        \n",
    "        self.email = str(self.name + \".\" + self.fname + \"@gmail.com\").lower()\n",
    "        \n",
    "        \n",
    "    def saludo (self):\n",
    "        return f\"Hola! Mi nombre es {self.name} y tengo {self.holidays} días de vacaciones\"\n",
    "    \n",
    "    def takes_holidays (self, dias_que_le_pase=1):\n",
    "        resta = self.holidays - dias_que_le_pase\n",
    "        \n",
    "        if resta >= 0:\n",
    "            self.holidays = self.holidays - dias_que_le_pase\n",
    "            return f\"Me quedan {self.holidays} días de vacaciones\"\n",
    "            \n",
    "        else:\n",
    "            return f\"Demasiados días, no te quedan\""
   ]
  },
  {
   "cell_type": "code",
   "execution_count": 254,
   "id": "bb918d48",
   "metadata": {},
   "outputs": [],
   "source": [
    "marc = Staff(\"Marc\", \"Rdgz\")"
   ]
  },
  {
   "cell_type": "code",
   "execution_count": 255,
   "id": "52374efe",
   "metadata": {},
   "outputs": [
    {
     "data": {
      "text/plain": [
       "30"
      ]
     },
     "execution_count": 255,
     "metadata": {},
     "output_type": "execute_result"
    }
   ],
   "source": [
    "marc.holidays"
   ]
  },
  {
   "cell_type": "code",
   "execution_count": 264,
   "id": "2faa5ef7",
   "metadata": {},
   "outputs": [
    {
     "data": {
      "text/plain": [
       "'Demasiados días, no te quedan'"
      ]
     },
     "execution_count": 264,
     "metadata": {},
     "output_type": "execute_result"
    }
   ],
   "source": [
    "marc.takes_holidays(7)"
   ]
  },
  {
   "cell_type": "code",
   "execution_count": 265,
   "id": "9a386f78",
   "metadata": {},
   "outputs": [
    {
     "data": {
      "text/plain": [
       "2"
      ]
     },
     "execution_count": 265,
     "metadata": {},
     "output_type": "execute_result"
    }
   ],
   "source": [
    "marc.holidays"
   ]
  },
  {
   "cell_type": "code",
   "execution_count": 241,
   "id": "724b01c1",
   "metadata": {},
   "outputs": [
    {
     "data": {
      "text/plain": [
       "'Me quedan 16 días de vacaciones'"
      ]
     },
     "execution_count": 241,
     "metadata": {},
     "output_type": "execute_result"
    }
   ],
   "source": [
    "marc.takes_holidays (10)"
   ]
  },
  {
   "cell_type": "code",
   "execution_count": 229,
   "id": "5c5acd65",
   "metadata": {},
   "outputs": [
    {
     "data": {
      "text/plain": [
       "29"
      ]
     },
     "execution_count": 229,
     "metadata": {},
     "output_type": "execute_result"
    }
   ],
   "source": [
    "marc.holidays"
   ]
  },
  {
   "cell_type": "code",
   "execution_count": 269,
   "id": "2af40e1e",
   "metadata": {},
   "outputs": [
    {
     "data": {
      "text/plain": [
       "(891, 15)"
      ]
     },
     "execution_count": 269,
     "metadata": {},
     "output_type": "execute_result"
    }
   ],
   "source": [
    "df.shape"
   ]
  },
  {
   "cell_type": "code",
   "execution_count": 270,
   "id": "af244e46",
   "metadata": {},
   "outputs": [
    {
     "data": {
      "text/html": [
       "<div>\n",
       "<style scoped>\n",
       "    .dataframe tbody tr th:only-of-type {\n",
       "        vertical-align: middle;\n",
       "    }\n",
       "\n",
       "    .dataframe tbody tr th {\n",
       "        vertical-align: top;\n",
       "    }\n",
       "\n",
       "    .dataframe thead th {\n",
       "        text-align: right;\n",
       "    }\n",
       "</style>\n",
       "<table border=\"1\" class=\"dataframe\">\n",
       "  <thead>\n",
       "    <tr style=\"text-align: right;\">\n",
       "      <th></th>\n",
       "      <th>survived</th>\n",
       "      <th>pclass</th>\n",
       "      <th>sex</th>\n",
       "      <th>age</th>\n",
       "      <th>sibsp</th>\n",
       "      <th>parch</th>\n",
       "      <th>fare</th>\n",
       "      <th>embarked</th>\n",
       "      <th>class</th>\n",
       "      <th>who</th>\n",
       "      <th>adult_male</th>\n",
       "      <th>deck</th>\n",
       "      <th>embark_town</th>\n",
       "      <th>alive</th>\n",
       "      <th>alone</th>\n",
       "    </tr>\n",
       "  </thead>\n",
       "  <tbody>\n",
       "    <tr>\n",
       "      <th>840</th>\n",
       "      <td>0</td>\n",
       "      <td>3</td>\n",
       "      <td>male</td>\n",
       "      <td>20.0</td>\n",
       "      <td>0</td>\n",
       "      <td>0</td>\n",
       "      <td>7.925</td>\n",
       "      <td>S</td>\n",
       "      <td>Third</td>\n",
       "      <td>man</td>\n",
       "      <td>True</td>\n",
       "      <td>NaN</td>\n",
       "      <td>Southampton</td>\n",
       "      <td>no</td>\n",
       "      <td>True</td>\n",
       "    </tr>\n",
       "  </tbody>\n",
       "</table>\n",
       "</div>"
      ],
      "text/plain": [
       "     survived  pclass   sex   age  sibsp  parch   fare embarked  class  who  \\\n",
       "840         0       3  male  20.0      0      0  7.925        S  Third  man   \n",
       "\n",
       "     adult_male deck  embark_town alive  alone  \n",
       "840        True  NaN  Southampton    no   True  "
      ]
     },
     "execution_count": 270,
     "metadata": {},
     "output_type": "execute_result"
    }
   ],
   "source": [
    "df.sample()"
   ]
  },
  {
   "cell_type": "code",
   "execution_count": null,
   "id": "1d33c25f",
   "metadata": {},
   "outputs": [],
   "source": [
    "class DataFrame ():\n",
    "    \n",
    "    def __init__ (self, data):\n",
    "        self.shape = data.shape\n",
    "    \n",
    "    def count ():\n",
    "        counter = 0\n",
    "        for index, row in iterrows():\n",
    "            counter += 1"
   ]
  },
  {
   "cell_type": "code",
   "execution_count": 273,
   "id": "78704aa5",
   "metadata": {},
   "outputs": [
    {
     "data": {
      "text/html": [
       "<div>\n",
       "<style scoped>\n",
       "    .dataframe tbody tr th:only-of-type {\n",
       "        vertical-align: middle;\n",
       "    }\n",
       "\n",
       "    .dataframe tbody tr th {\n",
       "        vertical-align: top;\n",
       "    }\n",
       "\n",
       "    .dataframe thead th {\n",
       "        text-align: right;\n",
       "    }\n",
       "</style>\n",
       "<table border=\"1\" class=\"dataframe\">\n",
       "  <thead>\n",
       "    <tr style=\"text-align: right;\">\n",
       "      <th></th>\n",
       "      <th>col1</th>\n",
       "      <th>col2</th>\n",
       "    </tr>\n",
       "  </thead>\n",
       "  <tbody>\n",
       "    <tr>\n",
       "      <th>0</th>\n",
       "      <td>sd</td>\n",
       "      <td>sd</td>\n",
       "    </tr>\n",
       "  </tbody>\n",
       "</table>\n",
       "</div>"
      ],
      "text/plain": [
       "  col1 col2\n",
       "0   sd   sd"
      ]
     },
     "execution_count": 273,
     "metadata": {},
     "output_type": "execute_result"
    }
   ],
   "source": [
    "df = pd.DataFrame([{\"col1\": \"sd\", \"col2\": \"sd\"}])\n",
    "df"
   ]
  },
  {
   "cell_type": "code",
   "execution_count": 277,
   "id": "6a526e4b",
   "metadata": {},
   "outputs": [
    {
     "data": {
      "text/plain": [
       "['T', 'abs', 'add', 'agg', 'aggregate']"
      ]
     },
     "execution_count": 277,
     "metadata": {},
     "output_type": "execute_result"
    }
   ],
   "source": [
    "[i for i in dir(df) if \"_\" not in i][:5]"
   ]
  },
  {
   "cell_type": "markdown",
   "id": "39ed3781",
   "metadata": {
    "lang": "en"
   },
   "source": [
    "Instead of doing it one by one, we can create these variables each time an object is instantiated with the special `__init__` method. This function defines all the actions that should be performed when we create a new object. The reason we have two underscores before and after the function name is to indicate that this function is internal to the object and should not be called from outside the object."
   ]
  },
  {
   "cell_type": "code",
   "execution_count": null,
   "id": "eea02e3c",
   "metadata": {},
   "outputs": [],
   "source": []
  },
  {
   "cell_type": "markdown",
   "id": "a9b11397",
   "metadata": {
    "lang": "en"
   },
   "source": [
    "What does self do? It indicates that the data we are entering is for the object we are creating."
   ]
  },
  {
   "cell_type": "code",
   "execution_count": null,
   "id": "273d458e",
   "metadata": {},
   "outputs": [],
   "source": []
  },
  {
   "cell_type": "markdown",
   "id": "8751e24c",
   "metadata": {
    "lang": "en"
   },
   "source": [
    "#### Default attributes\n",
    "\n",
    "We can initialize the attributes with a default value in case later, when creating the instances, the user or ourselves do not put anything in any of the attributes"
   ]
  },
  {
   "cell_type": "code",
   "execution_count": null,
   "id": "755ea01e",
   "metadata": {},
   "outputs": [],
   "source": []
  },
  {
   "cell_type": "markdown",
   "id": "0ce1eb62",
   "metadata": {
    "lang": "en"
   },
   "source": [
    "### Instance Methods"
   ]
  },
  {
   "cell_type": "code",
   "execution_count": null,
   "id": "7f3ecad3",
   "metadata": {},
   "outputs": [],
   "source": []
  },
  {
   "cell_type": "markdown",
   "id": "3b7de249",
   "metadata": {
    "lang": "en"
   },
   "source": [
    "They are functions within the classes that will save us a lot of time"
   ]
  },
  {
   "cell_type": "code",
   "execution_count": null,
   "id": "5c9fef82",
   "metadata": {},
   "outputs": [],
   "source": []
  },
  {
   "cell_type": "markdown",
   "id": "fdda9183",
   "metadata": {},
   "source": [
    "_⚠️:  Target variables when instantiaing, ingnoring defaults?_"
   ]
  },
  {
   "cell_type": "code",
   "execution_count": null,
   "id": "aa27d407",
   "metadata": {},
   "outputs": [],
   "source": []
  },
  {
   "cell_type": "markdown",
   "id": "c584762d",
   "metadata": {
    "lang": "en"
   },
   "source": [
    "**watch out** 👀\n",
    "If we modify a class and add attributes or methods, we have to recreate the object so that it is initialized with those attributes and has those methods."
   ]
  },
  {
   "cell_type": "markdown",
   "id": "b6c1dbd0",
   "metadata": {
    "lang": "en"
   },
   "source": [
    "#### Python is built with objects\n",
    "In Python primitive data types are also objects that have associated attributes and methods."
   ]
  },
  {
   "cell_type": "code",
   "execution_count": null,
   "id": "d7a7a599",
   "metadata": {},
   "outputs": [],
   "source": []
  },
  {
   "cell_type": "markdown",
   "id": "e6af3733",
   "metadata": {
    "lang": "en"
   },
   "source": [
    "Whenever we do .something, it is because we are calling the methods/attributes of that class"
   ]
  },
  {
   "cell_type": "markdown",
   "id": "2b7c965f",
   "metadata": {
    "lang": "en"
   },
   "source": [
    "### Class variables"
   ]
  },
  {
   "cell_type": "code",
   "execution_count": null,
   "id": "e55d6664",
   "metadata": {},
   "outputs": [],
   "source": []
  },
  {
   "cell_type": "markdown",
   "id": "2a28ab69",
   "metadata": {
    "lang": "en"
   },
   "source": [
    "In general, class attributes should not be used, except to store constant values."
   ]
  },
  {
   "cell_type": "markdown",
   "id": "9ad7387e",
   "metadata": {
    "lang": "en"
   },
   "source": [
    "**Exercise**\n",
    "\n",
    "Create a class `Circle` with:\n",
    "- radius as instance/object variable\n",
    "- pi (math.pi) as class variable\n",
    "- a compute_area(self) method that returns the area of ​​the \"circle\" object"
   ]
  },
  {
   "cell_type": "code",
   "execution_count": 281,
   "id": "2b6fae73",
   "metadata": {},
   "outputs": [],
   "source": [
    "class Circle():\n",
    "    \n",
    "    PI = 3.14\n",
    "    \n",
    "    #radio -> propiedad (nombre, etc)\n",
    "    \n",
    "    #area -> funcion que calcule el area vuestro circulo\n",
    "        # pi * r2\n",
    "        # pi * variable al cuadrado\n",
    "    pass\n"
   ]
  },
  {
   "cell_type": "code",
   "execution_count": null,
   "id": "2dae8578",
   "metadata": {},
   "outputs": [],
   "source": [
    "adria = Circle(30)\n",
    "adria.radio\n",
    "adria.area()"
   ]
  },
  {
   "cell_type": "code",
   "execution_count": 285,
   "id": "b27a4702",
   "metadata": {},
   "outputs": [
    {
     "name": "stdout",
     "output_type": "stream",
     "text": [
      "314.1592653589793\n",
      "201.06192982974676\n"
     ]
    }
   ],
   "source": [
    "# Mariano\n",
    "import math\n",
    "pi= math.pi\n",
    "\n",
    "class Circle():\n",
    "\n",
    "    def __init__(self, radio):\n",
    "        self.radio = radio\n",
    "\n",
    "    def compute_area(self):\n",
    "        area = pi*(self.radio)**2\n",
    "        print(area)\n",
    "\n",
    "mariano = Circle (10)\n",
    "mariano.radio\n",
    "mariano.compute_area()\n",
    "\n",
    "\n",
    "mariano_2 = Circle (8)\n",
    "mariano_2.radio\n",
    "mariano_2.compute_area()"
   ]
  },
  {
   "cell_type": "code",
   "execution_count": 286,
   "id": "8312a8fa",
   "metadata": {},
   "outputs": [
    {
     "name": "stdout",
     "output_type": "stream",
     "text": [
      "1256.0\n"
     ]
    }
   ],
   "source": [
    "# Augusto\n",
    "\n",
    "PI = 3.14\n",
    "class Circle():\n",
    "\n",
    "    def __init__(self, radio):\n",
    "        self.radio = radio\n",
    "\n",
    "    def area(self):\n",
    "        return PI*self.radio**2\n",
    "\n",
    "mi_circulo = Circle(20)\n",
    "print(mi_circulo.area())"
   ]
  },
  {
   "cell_type": "code",
   "execution_count": 290,
   "id": "ea7135ef",
   "metadata": {},
   "outputs": [
    {
     "data": {
      "text/plain": [
       "'La area del circulo es 78.5'"
      ]
     },
     "execution_count": 290,
     "metadata": {},
     "output_type": "execute_result"
    }
   ],
   "source": [
    "# Georgina\n",
    "\n",
    "pi = 3.14\n",
    "class Circle ():\n",
    "    def __init__(self,radio):\n",
    "        self.radio = radio\n",
    "\n",
    "    def area (self): \n",
    "        area = pi * self.radio**2\n",
    "        return f'La area del circulo es {area}'\n",
    "    \n",
    "geor = Circle(5)\n",
    "geor.radio\n",
    "geor.area()"
   ]
  },
  {
   "cell_type": "code",
   "execution_count": 305,
   "id": "4d87d049",
   "metadata": {},
   "outputs": [
    {
     "name": "stdout",
     "output_type": "stream",
     "text": [
      "2\n",
      "12.56\n"
     ]
    }
   ],
   "source": [
    "# Xavi\n",
    "PI = 3.14\n",
    " \n",
    "class Circle ():\n",
    "    \n",
    "    def __init__(self, radio):\n",
    "        self.radio = radio\n",
    "        self.area = 0\n",
    "\n",
    "    def area_2(self):\n",
    "        self.area = pi*(self.radio**2)\n",
    "        return self.area\n",
    "\n",
    "\n",
    "xavi = Circle(2)\n",
    "print(xavi.radio)\n",
    "print(xavi.area_2())"
   ]
  },
  {
   "cell_type": "markdown",
   "id": "87cccad5",
   "metadata": {
    "lang": "en"
   },
   "source": [
    "## Before continuing, let's take a breath and review vocabulary"
   ]
  },
  {
   "cell_type": "markdown",
   "id": "9170647e",
   "metadata": {
    "lang": "en"
   },
   "source": [
    "- **Class**: The cookie mold. With the class we can generate instances or objects.\n",
    "- **Object**: The cookie we generated. Each object has different characteristics but under the same pattern as the class.\n",
    "- **Instance**: Same as object, it's a synonym :) hehe\n",
    "- **Attribute**: The different ingredients of each object. They are defined as arguments in the __init__ function but are saved as data when we instantiate an object by calling the class"
   ]
  },
  {
   "cell_type": "code",
   "execution_count": null,
   "id": "5c6951ca",
   "metadata": {},
   "outputs": [],
   "source": []
  },
  {
   "cell_type": "markdown",
   "id": "05499ca5",
   "metadata": {},
   "source": [
    "We can say that the attributes are the DATA, in this case \"Pau\" and \"Peracaula\".\n",
    "They are variables\n",
    "\n",
    "\n",
    "* **Class attribute**: Variables that belong to the class and that will be the same in all objects.\n",
    "* **Object/instance attribute**: The attributes explained above, specific to each object.\n",
    "* **Method**: Functions that do things"
   ]
  },
  {
   "cell_type": "markdown",
   "id": "8772dea7",
   "metadata": {
    "lang": "en"
   },
   "source": [
    "#### Easy exercise\n",
    "Kata --> https://www.codewars.com/kata/53f0f358b9cb376eca001079/train/python\n",
    "\n",
    "You can ignore the \"object\" for now"
   ]
  },
  {
   "cell_type": "code",
   "execution_count": 335,
   "id": "b6a27bcf",
   "metadata": {},
   "outputs": [],
   "source": [
    "class Vehicle ():\n",
    "    \n",
    "    def __init__ (self, marca, color):\n",
    "        self.marca = marca\n",
    "        self.color = color\n",
    "    \n",
    "    def move_forward (self):\n",
    "        #(x, y)\n",
    "        return f\"Me he movido hacia delante\"\n"
   ]
  },
  {
   "cell_type": "code",
   "execution_count": 340,
   "id": "069ceee5",
   "metadata": {},
   "outputs": [],
   "source": [
    "class Car (Vehicle):\n",
    "    \n",
    "    def __init__ (self, marca, color):\n",
    "        self.ruedas = 4\n"
   ]
  },
  {
   "cell_type": "code",
   "execution_count": 341,
   "id": "a0379fc9",
   "metadata": {},
   "outputs": [],
   "source": [
    "fiat_punto = Car(\"fiat\", \"rojo\")"
   ]
  },
  {
   "cell_type": "code",
   "execution_count": 342,
   "id": "dc0a8902",
   "metadata": {},
   "outputs": [
    {
     "data": {
      "text/plain": [
       "4"
      ]
     },
     "execution_count": 342,
     "metadata": {},
     "output_type": "execute_result"
    }
   ],
   "source": [
    "fiat_punto.ruedas"
   ]
  },
  {
   "cell_type": "code",
   "execution_count": 339,
   "id": "dec36926",
   "metadata": {},
   "outputs": [
    {
     "data": {
      "text/plain": [
       "'Me he movido hacia delante'"
      ]
     },
     "execution_count": 339,
     "metadata": {},
     "output_type": "execute_result"
    }
   ],
   "source": [
    "fiat_punto.move_forward()"
   ]
  },
  {
   "cell_type": "code",
   "execution_count": 345,
   "id": "09f6dde3",
   "metadata": {},
   "outputs": [
    {
     "data": {
      "text/plain": [
       "True"
      ]
     },
     "execution_count": 345,
     "metadata": {},
     "output_type": "execute_result"
    }
   ],
   "source": [
    "isinstance(fiat_punto, Car)"
   ]
  },
  {
   "cell_type": "code",
   "execution_count": 346,
   "id": "3e4556ec",
   "metadata": {},
   "outputs": [],
   "source": [
    "class Staff ():\n",
    "    \n",
    "    def __init__ (self, name, fname, holidays=30):\n",
    "        self.name = name\n",
    "        self.fname = fname\n",
    "        \n",
    "        self.holidays = holidays #30\n",
    "        \n",
    "        self.email = str(self.name + \".\" + self.fname + \"@gmail.com\").lower()\n",
    "        \n",
    "        \n",
    "    def saludo (self):\n",
    "        return f\"Hola! Mi nombre es {self.name} y tengo {self.holidays} días de vacaciones\"\n",
    "    \n",
    "    def takes_holidays (self, dias_que_le_pase=1):\n",
    "        resta = self.holidays - dias_que_le_pase\n",
    "        \n",
    "        if resta >= 0:\n",
    "            self.holidays = self.holidays - dias_que_le_pase\n",
    "            return f\"Me quedan {self.holidays} días de vacaciones\"\n",
    "            \n",
    "        else:\n",
    "            return f\"Demasiados días, no te quedan\""
   ]
  },
  {
   "cell_type": "code",
   "execution_count": 362,
   "id": "38d61134",
   "metadata": {},
   "outputs": [
    {
     "data": {
      "text/plain": [
       "'Me quedan 29 días de vacaciones'"
      ]
     },
     "execution_count": 362,
     "metadata": {},
     "output_type": "execute_result"
    }
   ],
   "source": [
    "class Marketing (Staff):\n",
    "    \n",
    "    def __init__ (self, name, fname, holidays=30):\n",
    "        self.name = name\n",
    "        self.fname = fname\n",
    "        self.holidays = 30\n",
    "    \n",
    "    def role (self):\n",
    "        return \"My role is marketing\"\n",
    "    \n",
    "laura = Marketing(\"laura\", \"fdz\")\n",
    "laura.role()\n",
    "laura.saludo()\n",
    "laura.takes_holidays()"
   ]
  },
  {
   "cell_type": "code",
   "execution_count": 369,
   "id": "9cafb918",
   "metadata": {},
   "outputs": [
    {
     "data": {
      "text/plain": [
       "'Me quedan 19 días de vacaciones'"
      ]
     },
     "execution_count": 369,
     "metadata": {},
     "output_type": "execute_result"
    }
   ],
   "source": [
    "laura.takes_holidays(5)"
   ]
  },
  {
   "cell_type": "code",
   "execution_count": 366,
   "id": "c3601c3d",
   "metadata": {},
   "outputs": [
    {
     "data": {
      "text/plain": [
       "'Me quedan 29 días de vacaciones'"
      ]
     },
     "execution_count": 366,
     "metadata": {},
     "output_type": "execute_result"
    }
   ],
   "source": [
    "class Marketing (Staff):\n",
    "    \n",
    "    def __init__ (self, name, fname, holidays=30):\n",
    "        super().__init__(name, fname, holidays=30)\n",
    "        self.otracosa = 10\n",
    "    \n",
    "    def role (self):\n",
    "        return \"My role is marketing\"\n",
    "    \n",
    "laura = Marketing(\"laura\", \"fdz\")\n",
    "laura.role()\n",
    "laura.saludo()\n",
    "laura.takes_holidays()"
   ]
  },
  {
   "cell_type": "code",
   "execution_count": 367,
   "id": "b9a91844",
   "metadata": {},
   "outputs": [
    {
     "data": {
      "text/plain": [
       "10"
      ]
     },
     "execution_count": 367,
     "metadata": {},
     "output_type": "execute_result"
    }
   ],
   "source": [
    "laura.otracosa"
   ]
  },
  {
   "cell_type": "code",
   "execution_count": null,
   "id": "5be8e966",
   "metadata": {},
   "outputs": [],
   "source": [
    "# laura, marketing"
   ]
  },
  {
   "cell_type": "markdown",
   "id": "pressed-proof",
   "metadata": {},
   "source": [
    "## Inheritance"
   ]
  },
  {
   "cell_type": "markdown",
   "id": "1f62f02d",
   "metadata": {
    "lang": "en"
   },
   "source": [
    "Inheritance allows defining new classes from existing classes. The class from which it is inherited is called the \"parent class\"/\"superclass\"/\"parent\". The class that it inherits is called a \"child class\" or \"subclass.\"\n",
    "The child class \"inherits\" all the properties of the parent class and allows us to override methods and attributes or add new ones. The fundamental advantage that the inheritance mechanism brings to programming is the ability to reuse code. Thus, a set of classes that share attributes and methods can inherit from a superclass where those methods and attributes are defined."
   ]
  },
  {
   "cell_type": "markdown",
   "id": "wanted-works",
   "metadata": {},
   "source": [
    "\n",
    "![miniyoda](https://media.giphy.com/media/j0eRJzyW7XjMpu1Pqd/giphy.gif)"
   ]
  },
  {
   "cell_type": "markdown",
   "id": "37b8b77c",
   "metadata": {
    "lang": "en"
   },
   "source": [
    "- Method defined in the `parent`, but not in the `child`\n",
    "\n",
    "In this case, the child will inherit the parent's method, it will work exactly the same and there is no need to override it.\n",
    "\n",
    "- Method defined in `Child`, but not in Parent\n",
    "\n",
    "The method only belongs to the child. Inheritance is one way.\n",
    "\n",
    "- Method set to \"both\".\n",
    "\n",
    "Two things can happen here, but both are a variant of the same fact. The method written in the `Child` class will override the one previously defined in Parent.\n",
    "\n",
    "However, if we want to use the original method and just add something else to it, we can always refer to the original (parent) method with `super()`. The `super()` function allows us to call any method of the parent class. Just remember to call it on the new define and make sure you get all the attributes it needs 😉 ."
   ]
  },
  {
   "cell_type": "code",
   "execution_count": null,
   "id": "cb1b0a3a",
   "metadata": {},
   "outputs": [],
   "source": []
  },
  {
   "cell_type": "markdown",
   "id": "willing-workshop",
   "metadata": {},
   "source": [
    "### super()"
   ]
  },
  {
   "cell_type": "code",
   "execution_count": null,
   "id": "2800959e",
   "metadata": {},
   "outputs": [],
   "source": []
  },
  {
   "cell_type": "markdown",
   "id": "06927b5c",
   "metadata": {},
   "source": [
    "## Summary"
   ]
  },
  {
   "cell_type": "markdown",
   "id": "9a2f49ad",
   "metadata": {},
   "source": [
    "\n",
    "- Las clases / objecto\n",
    "- atributos y métodos \n",
    "    - atributo: porpiedad / variable\n",
    "    - método: funciones\n",
    "\n",
    "- clases & instancias\n",
    "    - molde de la galleta\n",
    "    - instancia: la galleta en sí\n",
    "        - x forma\n",
    "        - x pepitas chocolate\n",
    "        \n",
    "maria = Staff(\"María\", \"Apellido\", 30)\n",
    "\n",
    "- pasar argumentos (como en las funciones)\n",
    "- self:\n",
    "    - auto-referencia\n",
    "\n",
    "- def __init__ (self, arg1, arg2): cuando instanciamos, esa instancia tiene esas propiedades\n",
    "- def funciones (): harán cosas\n",
    "    - recibir sus propias propiedades\n",
    "    - pueden recibir otras de fuera\n",
    "    - RECIBEN SELF\n",
    "\n",
    "\n",
    "- Herencia: clases que reciben otras clases: reuilizar los métodos\n",
    "- super.__init__(self, arg1): coger las propiedades de la supracategoríaº\n",
    "\n",
    "\n",
    "\n"
   ]
  },
  {
   "cell_type": "code",
   "execution_count": null,
   "id": "27f95149",
   "metadata": {},
   "outputs": [],
   "source": [
    "#upper(\"sdsdsd\")"
   ]
  },
  {
   "cell_type": "code",
   "execution_count": 370,
   "id": "f6c91ebc",
   "metadata": {
    "scrolled": true
   },
   "outputs": [
    {
     "data": {
      "text/plain": [
       "'SDSDSD'"
      ]
     },
     "execution_count": 370,
     "metadata": {},
     "output_type": "execute_result"
    }
   ],
   "source": [
    "3\"sdsdsd\".upper()"
   ]
  },
  {
   "cell_type": "code",
   "execution_count": 372,
   "id": "217b824f",
   "metadata": {},
   "outputs": [
    {
     "data": {
      "text/plain": [
       "['capitalize',\n",
       " 'casefold',\n",
       " 'center',\n",
       " 'count',\n",
       " 'encode',\n",
       " 'endswith',\n",
       " 'expandtabs',\n",
       " 'find',\n",
       " 'format',\n",
       " 'index',\n",
       " 'isalnum',\n",
       " 'isalpha',\n",
       " 'isascii',\n",
       " 'isdecimal',\n",
       " 'isdigit',\n",
       " 'isidentifier',\n",
       " 'islower',\n",
       " 'isnumeric',\n",
       " 'isprintable',\n",
       " 'isspace',\n",
       " 'istitle',\n",
       " 'isupper',\n",
       " 'join',\n",
       " 'ljust',\n",
       " 'lower',\n",
       " 'lstrip',\n",
       " 'maketrans',\n",
       " 'partition',\n",
       " 'replace',\n",
       " 'rfind',\n",
       " 'rindex',\n",
       " 'rjust',\n",
       " 'rpartition',\n",
       " 'rsplit',\n",
       " 'rstrip',\n",
       " 'split',\n",
       " 'splitlines',\n",
       " 'startswith',\n",
       " 'strip',\n",
       " 'swapcase',\n",
       " 'title',\n",
       " 'translate',\n",
       " 'upper',\n",
       " 'zfill']"
      ]
     },
     "execution_count": 372,
     "metadata": {},
     "output_type": "execute_result"
    }
   ],
   "source": [
    "[i for i in dir(\"\") if \"_\" not in i]"
   ]
  },
  {
   "cell_type": "markdown",
   "id": "7d8865bd",
   "metadata": {
    "lang": "en"
   },
   "source": [
    "## Furthermaterials\n",
    "\n",
    "- Youtube Tutorial by [Corey Schafer](https://www.youtube.com/watch?v=ZDa-Z5JzLYM)\n",
    "- [Real Python](https://docs.hektorprofe.net/python/object-oriented-programming/classes-and-objects/)\n",
    "- [Interesting read](https://medium.com/@shaistha24/functional-programming-vs-object-oriented-programming-oop-which-is-better-82172e53a526) --> OOP vs Functional programming"
   ]
  },
  {
   "cell_type": "markdown",
   "id": "92bd3cce",
   "metadata": {
    "lang": "en"
   },
   "source": [
    "### Methods **ADVANCED** @classmethod@staticmethod\n",
    "* [Real Python - @classmethod/@stathicmethod](https://realpython.com/instance-class-and-static-methods-demystified/). Advanced Python with decorators (we'll mention them later)"
   ]
  }
 ],
 "metadata": {
  "kernelspec": {
   "display_name": "ironhack",
   "language": "python",
   "name": "ironhack"
  },
  "language_info": {
   "codemirror_mode": {
    "name": "ipython",
    "version": 3
   },
   "file_extension": ".py",
   "mimetype": "text/x-python",
   "name": "python",
   "nbconvert_exporter": "python",
   "pygments_lexer": "ipython3",
   "version": "3.8.13"
  },
  "nbTranslate": {
   "displayLangs": [
    "en",
    "es"
   ],
   "hotkey": "alt-a",
   "langInMainMenu": true,
   "sourceLang": "es",
   "targetLang": "en",
   "useGoogleTranslate": true
  },
  "toc": {
   "base_numbering": 1,
   "nav_menu": {},
   "number_sections": true,
   "sideBar": true,
   "skip_h1_title": true,
   "title_cell": "Table of Contents",
   "title_sidebar": "Contents",
   "toc_cell": true,
   "toc_position": {
    "height": "calc(100% - 180px)",
    "left": "10px",
    "top": "150px",
    "width": "288px"
   },
   "toc_section_display": true,
   "toc_window_display": false
  }
 },
 "nbformat": 4,
 "nbformat_minor": 5
}
