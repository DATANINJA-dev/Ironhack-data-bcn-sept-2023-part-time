{
 "cells": [
  {
   "cell_type": "markdown",
   "id": "bottom-commerce",
   "metadata": {},
   "source": [
    "# Map, Filter, Reduce"
   ]
  },
  {
   "cell_type": "markdown",
   "id": "rising-buyer",
   "metadata": {
    "toc": true
   },
   "source": [
    "<h1>Table of Contents<span class=\"tocSkip\"></span></h1>\n",
    "<div class=\"toc\"><ul class=\"toc-item\"><li><ul class=\"toc-item\"><li><span><a href=\"#Each-student-is-randomly-assigned-a-topic\" data-toc-modified-id=\"Each-student-is-randomly-assigned-a-topic-0.1\"><span class=\"toc-item-num\">0.1&nbsp;&nbsp;</span>Each student is randomly assigned a topic</a></span></li></ul></li><li><span><a href=\"#Let's-start\" data-toc-modified-id=\"Let's-start-1\"><span class=\"toc-item-num\">1&nbsp;&nbsp;</span>Let's start</a></span><ul class=\"toc-item\"><li><span><a href=\"#Create-groups-with-other-people-who-have-studied-the-same-function\" data-toc-modified-id=\"Create-groups-with-other-people-who-have-studied-the-same-function-1.1\"><span class=\"toc-item-num\">1.1&nbsp;&nbsp;</span>Create groups with other people who have studied the same function</a></span></li></ul></li><li><span><a href=\"#Map,-Filter,-Reduce\" data-toc-modified-id=\"Map,-Filter,-Reduce-2\"><span class=\"toc-item-num\">2&nbsp;&nbsp;</span>Map, Filter, Reduce</a></span><ul class=\"toc-item\"><li><span><a href=\"#Map\" data-toc-modified-id=\"Map-2.1\"><span class=\"toc-item-num\">2.1&nbsp;&nbsp;</span>Map</a></span><ul class=\"toc-item\"><li><span><a href=\"#First-we-do-it-with-functions\" data-toc-modified-id=\"First-we-do-it-with-functions-2.1.1\"><span class=\"toc-item-num\">2.1.1&nbsp;&nbsp;</span>First we do it with functions</a></span></li><li><span><a href=\"#Extra:-Do-it-with-lambda!\" data-toc-modified-id=\"Extra:-Do-it-with-lambda!-2.1.2\"><span class=\"toc-item-num\">2.1.2&nbsp;&nbsp;</span>Extra: Do it with lambda!</a></span></li></ul></li><li><span><a href=\"#Filter\" data-toc-modified-id=\"Filter-2.2\"><span class=\"toc-item-num\">2.2&nbsp;&nbsp;</span>Filter</a></span><ul class=\"toc-item\"><li><span><a href=\"#Filter\" data-toc-modified-id=\"Filter-2.2.1\"><span class=\"toc-item-num\">2.2.1&nbsp;&nbsp;</span>Filter</a></span></li><li><span><a href=\"#First-we-do-it-with-functions\" data-toc-modified-id=\"First-we-do-it-with-functions-2.2.2\"><span class=\"toc-item-num\">2.2.2&nbsp;&nbsp;</span>First we do it with functions</a></span></li></ul></li><li><span><a href=\"#Reduce\" data-toc-modified-id=\"Reduce-2.3\"><span class=\"toc-item-num\">2.3&nbsp;&nbsp;</span>Reduce</a></span><ul class=\"toc-item\"><li><span><a href=\"#What-happened?\" data-toc-modified-id=\"What-happened?-2.3.1\"><span class=\"toc-item-num\">2.3.1&nbsp;&nbsp;</span>What happened?</a></span></li></ul></li><li><span><a href=\"#First-we-do-it-with-functions\" data-toc-modified-id=\"First-we-do-it-with-functions-2.4\"><span class=\"toc-item-num\">2.4&nbsp;&nbsp;</span>First we do it with functions</a></span></li><li><span><a href=\"#Bonus:-Do-it-with-lambda!\" data-toc-modified-id=\"Bonus:-Do-it-with-lambda!-2.5\"><span class=\"toc-item-num\">2.5&nbsp;&nbsp;</span>Bonus: Do it with lambda!</a></span></li></ul></li><li><span><a href=\"#Summary\" data-toc-modified-id=\"Summary-3\"><span class=\"toc-item-num\">3&nbsp;&nbsp;</span>Summary</a></span></li><li><span><a href=\"#Further-materials\" data-toc-modified-id=\"Further-materials-4\"><span class=\"toc-item-num\">4&nbsp;&nbsp;</span>Further materials</a></span></li></ul></div>"
   ]
  },
  {
   "cell_type": "code",
   "execution_count": 13,
   "id": "33d37aa7",
   "metadata": {},
   "outputs": [],
   "source": [
    "import random"
   ]
  },
  {
   "cell_type": "markdown",
   "id": "07c5496e",
   "metadata": {
    "lang": "en"
   },
   "source": [
    "### Each student is randomly assigned a topic"
   ]
  },
  {
   "cell_type": "code",
   "execution_count": 4,
   "id": "e379518e",
   "metadata": {},
   "outputs": [],
   "source": [
    "students = [\n",
    "    \"adrià\",\n",
    "    \"albert\",\n",
    "    \"augusto\",\n",
    "    \"clara\",\n",
    "    \"daniel\",\n",
    "    \"georgina\",\n",
    "    \"kevin\",\n",
    "    \"mariano\",\n",
    "    \"urska\",\n",
    "    \"xavi\",\n",
    "    \"zakaria\",\n",
    "    \"placeholder\"\n",
    "]"
   ]
  },
  {
   "cell_type": "code",
   "execution_count": 15,
   "id": "c900d2bf",
   "metadata": {},
   "outputs": [],
   "source": [
    "# Group 1: [(\"Adrià\", \"map\"), (\"Daniel\", \"filter\"), (\"Georgina\", \"reduce\")]\n",
    "# Group 2: [(\"Mariano\", \"map\"), (\"Xavi\", \"filter\"), (\"Urska\", \"reduce\")]"
   ]
  },
  {
   "cell_type": "code",
   "execution_count": 5,
   "id": "5c21b0b3",
   "metadata": {},
   "outputs": [],
   "source": [
    "import random"
   ]
  },
  {
   "cell_type": "code",
   "execution_count": 20,
   "id": "4cd17f55",
   "metadata": {},
   "outputs": [],
   "source": [
    "random.shuffle(students)"
   ]
  },
  {
   "cell_type": "code",
   "execution_count": 21,
   "id": "d46872bc",
   "metadata": {},
   "outputs": [],
   "source": [
    "topics = [\"map\"]  * 4 + [\"filter\"]* 4 + [\"reduce\"]* 4"
   ]
  },
  {
   "cell_type": "code",
   "execution_count": 17,
   "id": "4e8391a9",
   "metadata": {},
   "outputs": [
    {
     "data": {
      "text/plain": [
       "True"
      ]
     },
     "execution_count": 17,
     "metadata": {},
     "output_type": "execute_result"
    }
   ],
   "source": [
    "len(topics) == len(students)"
   ]
  },
  {
   "cell_type": "code",
   "execution_count": null,
   "id": "62438191",
   "metadata": {},
   "outputs": [],
   "source": [
    "[(s3, t5), (), ()]"
   ]
  },
  {
   "cell_type": "code",
   "execution_count": 23,
   "id": "fcf9c88f",
   "metadata": {},
   "outputs": [
    {
     "data": {
      "text/plain": [
       "[('map', 'adrià'),\n",
       " ('map', 'kevin'),\n",
       " ('map', 'clara'),\n",
       " ('map', 'augusto'),\n",
       " ('filter', 'georgina'),\n",
       " ('filter', 'urska'),\n",
       " ('filter', 'albert'),\n",
       " ('filter', 'xavi'),\n",
       " ('reduce', 'placeholder'),\n",
       " ('reduce', 'zakaria'),\n",
       " ('reduce', 'mariano'),\n",
       " ('reduce', 'daniel')]"
      ]
     },
     "execution_count": 23,
     "metadata": {},
     "output_type": "execute_result"
    }
   ],
   "source": [
    "new_list = []\n",
    "for j, k in zip(topics, students):\n",
    "    new_list.append((j, k))\n",
    "new_list"
   ]
  },
  {
   "cell_type": "code",
   "execution_count": 30,
   "id": "e4127187",
   "metadata": {},
   "outputs": [],
   "source": [
    "map_experts = list(filter(lambda x: x[0] == \"map\", new_list))\n",
    "filter_experts = list(filter(lambda x: x[0] == \"filter\", new_list))\n",
    "reduce_experts = list(filter(lambda x: x[0] == \"reduce\", new_list))"
   ]
  },
  {
   "cell_type": "code",
   "execution_count": 31,
   "id": "7d9fe461",
   "metadata": {},
   "outputs": [
    {
     "data": {
      "text/plain": [
       "[('map', 'adrià'), ('map', 'kevin'), ('map', 'clara'), ('map', 'augusto')]"
      ]
     },
     "execution_count": 31,
     "metadata": {},
     "output_type": "execute_result"
    }
   ],
   "source": [
    "map_experts"
   ]
  },
  {
   "cell_type": "code",
   "execution_count": 32,
   "id": "cd874580",
   "metadata": {
    "scrolled": true
   },
   "outputs": [
    {
     "data": {
      "text/plain": [
       "[('filter', 'georgina'),\n",
       " ('filter', 'urska'),\n",
       " ('filter', 'albert'),\n",
       " ('filter', 'xavi')]"
      ]
     },
     "execution_count": 32,
     "metadata": {},
     "output_type": "execute_result"
    }
   ],
   "source": [
    "filter_experts"
   ]
  },
  {
   "cell_type": "code",
   "execution_count": 33,
   "id": "cee2b2bd",
   "metadata": {},
   "outputs": [
    {
     "data": {
      "text/plain": [
       "[('reduce', 'placeholder'),\n",
       " ('reduce', 'zakaria'),\n",
       " ('reduce', 'mariano'),\n",
       " ('reduce', 'daniel')]"
      ]
     },
     "execution_count": 33,
     "metadata": {},
     "output_type": "execute_result"
    }
   ],
   "source": [
    "reduce_experts"
   ]
  },
  {
   "cell_type": "code",
   "execution_count": 36,
   "id": "7d6372af",
   "metadata": {},
   "outputs": [
    {
     "name": "stdout",
     "output_type": "stream",
     "text": [
      "Group 1: ('map', 'adrià'), ('filter', 'georgina'), ('reduce', 'placeholder')\n",
      "Group 2: ('map', 'kevin'), ('filter', 'urska'), ('reduce', 'zakaria')\n",
      "Group 3: ('map', 'clara'), ('filter', 'albert'), ('reduce', 'mariano')\n",
      "Group 4: ('map', 'augusto'), ('filter', 'xavi'), ('reduce', 'daniel')\n"
     ]
    }
   ],
   "source": [
    "counter = 1\n",
    "for j, k, z in zip(map_experts, filter_experts, reduce_experts):\n",
    "    print(f\"Group {counter}: {j}, {k}, {z}\")\n",
    "    counter += 1"
   ]
  },
  {
   "cell_type": "code",
   "execution_count": 19,
   "id": "59b468b1",
   "metadata": {
    "scrolled": true
   },
   "outputs": [
    {
     "data": {
      "text/plain": [
       "['map',\n",
       " 'map',\n",
       " 'map',\n",
       " 'map',\n",
       " 'filter',\n",
       " 'filter',\n",
       " 'filter',\n",
       " 'filter',\n",
       " 'reduce',\n",
       " 'reduce',\n",
       " 'reduce',\n",
       " 'reduce']"
      ]
     },
     "execution_count": 19,
     "metadata": {},
     "output_type": "execute_result"
    }
   ],
   "source": [
    "topics"
   ]
  },
  {
   "cell_type": "code",
   "execution_count": 22,
   "id": "97e6c744",
   "metadata": {},
   "outputs": [
    {
     "data": {
      "text/plain": [
       "['adrià',\n",
       " 'kevin',\n",
       " 'clara',\n",
       " 'augusto',\n",
       " 'georgina',\n",
       " 'urska',\n",
       " 'albert',\n",
       " 'xavi',\n",
       " 'placeholder',\n",
       " 'zakaria',\n",
       " 'mariano',\n",
       " 'daniel']"
      ]
     },
     "execution_count": 22,
     "metadata": {},
     "output_type": "execute_result"
    }
   ],
   "source": [
    "students"
   ]
  },
  {
   "cell_type": "code",
   "execution_count": null,
   "id": "3bffbfa9",
   "metadata": {},
   "outputs": [],
   "source": []
  },
  {
   "cell_type": "markdown",
   "id": "67ba83fd",
   "metadata": {
    "lang": "en"
   },
   "source": [
    "## Let's start"
   ]
  },
  {
   "cell_type": "markdown",
   "id": "2044e738",
   "metadata": {
    "lang": "en"
   },
   "source": [
    "You have 10 minutes to explore and understand the role you have been assigned on your own. You may find these links useful:\n",
    "\n",
    "- [map, filter, reduce - I](https://medium.com/swlh/higher-order-functions-in-python-map-filter-and-reduce-34299fee1b21)\n",
    "- [map, filter, reduce - II](https://www.learnpython.org/en/Map,_Filter,_Reduce)\n",
    "- [map, filter, reduce - III](https://stackabuse.com/map-filter-and-reduce-in-python-with-examples)"
   ]
  },
  {
   "cell_type": "markdown",
   "id": "1494059b",
   "metadata": {},
   "source": [
    "### Create groups with other people who have studied the same function"
   ]
  },
  {
   "cell_type": "markdown",
   "id": "closing-referral",
   "metadata": {},
   "source": [
    "![otrogif](https://media.giphy.com/media/UatRnEUNX8iCQ/giphy.gif)"
   ]
  },
  {
   "cell_type": "markdown",
   "id": "ad055efd",
   "metadata": {
    "lang": "en"
   },
   "source": [
    "In this part of the game you are assigned to a group in which you are the expert in your role.\n",
    "Each group member has 5 minutes to explain their role to the other team members."
   ]
  },
  {
   "cell_type": "markdown",
   "id": "8fd5c1b9",
   "metadata": {
    "lang": "en"
   },
   "source": [
    "## Map, Filter, Reduce"
   ]
  },
  {
   "cell_type": "markdown",
   "id": "55e1da7a",
   "metadata": {
    "lang": "en"
   },
   "source": [
    "There are three functions that will come in very handy when working with iterators. These functions facilitate certain basic and common operations on iterable collections of data, such as removing elements that do not meet a certain condition, calculating a result from the contained data, or applying a transformation to each element. Let's see them with examples of use:"
   ]
  },
  {
   "cell_type": "markdown",
   "id": "distinct-translator",
   "metadata": {},
   "source": [
    "### Map"
   ]
  },
  {
   "cell_type": "markdown",
   "id": "3bbb0048",
   "metadata": {
    "lang": "en"
   },
   "source": [
    "The map() function takes a function and a list and applies that function to each element in that list, producing a new list.\n",
    "```python\n",
    "map(function_to_apply, list_of_inputs)\n",
    "```"
   ]
  },
  {
   "cell_type": "code",
   "execution_count": 37,
   "id": "53632c52",
   "metadata": {},
   "outputs": [
    {
     "data": {
      "text/plain": [
       "('map', 'adrià')"
      ]
     },
     "execution_count": 37,
     "metadata": {},
     "output_type": "execute_result"
    }
   ],
   "source": [
    "random.choice(map_experts)"
   ]
  },
  {
   "cell_type": "code",
   "execution_count": 43,
   "id": "d8359807",
   "metadata": {},
   "outputs": [],
   "source": [
    "nums = [1, 2, 3, 4, 5, 6, 7, 8]"
   ]
  },
  {
   "cell_type": "markdown",
   "id": "9559fb28",
   "metadata": {},
   "source": [
    "- funcion\n",
    "- args: funcion & iterable\n",
    "- aplica la función a cada elemento del iterable\n",
    "- devuelve: un objeto. necesitamos castearlo a lista\n",
    "- puede recibir una lambda"
   ]
  },
  {
   "cell_type": "markdown",
   "id": "3a2fc244",
   "metadata": {},
   "source": [
    "`goal: square of numbers`"
   ]
  },
  {
   "cell_type": "markdown",
   "id": "848ef234",
   "metadata": {
    "lang": "en"
   },
   "source": [
    "#### First we do it with functions"
   ]
  },
  {
   "cell_type": "code",
   "execution_count": null,
   "id": "ad8e457f",
   "metadata": {},
   "outputs": [],
   "source": [
    "def square (n):\n",
    "    return n ** 2"
   ]
  },
  {
   "cell_type": "code",
   "execution_count": null,
   "id": "19fe22ee",
   "metadata": {},
   "outputs": [],
   "source": [
    "# 1. for loop\n",
    "new_list = []\n",
    "for i in nums:\n",
    "    print(i)\n",
    "    new_list.append(square(i))\n",
    "new_list"
   ]
  },
  {
   "cell_type": "code",
   "execution_count": null,
   "id": "d3626531",
   "metadata": {},
   "outputs": [],
   "source": [
    "\n",
    "# 2. comprehension list\n",
    "new_list = [square(i) for i in nums]\n",
    "new_list\n",
    "\n"
   ]
  },
  {
   "cell_type": "markdown",
   "id": "209cfe9b",
   "metadata": {
    "lang": "en"
   },
   "source": [
    "The map function returns an iterator, so we have to use `list(map_iterator)`"
   ]
  },
  {
   "cell_type": "code",
   "execution_count": null,
   "id": "c438a51a",
   "metadata": {
    "scrolled": true
   },
   "outputs": [],
   "source": [
    "# 3. map\n",
    "list(map(square, nums))"
   ]
  },
  {
   "cell_type": "markdown",
   "id": "7ac78fc9",
   "metadata": {
    "lang": "en"
   },
   "source": [
    "#### Extra: Do it with lambda!"
   ]
  },
  {
   "cell_type": "code",
   "execution_count": null,
   "id": "a5af168a",
   "metadata": {},
   "outputs": [],
   "source": [
    "# 3.1. map con lambda\n",
    "list(map(lambda x: x ** 2, nums))"
   ]
  },
  {
   "cell_type": "markdown",
   "id": "connected-found",
   "metadata": {},
   "source": [
    "### Filter"
   ]
  },
  {
   "cell_type": "markdown",
   "id": "b0fd2478",
   "metadata": {
    "lang": "en"
   },
   "source": [
    "The filter() function filters a list of items for which a function returns True.\n",
    "```python\n",
    "filter(a_function, a_list)\n",
    "```"
   ]
  },
  {
   "cell_type": "markdown",
   "id": "3ac537c7",
   "metadata": {
    "lang": "en"
   },
   "source": [
    "Imagine you want to filter a list of numbers to get only even values."
   ]
  },
  {
   "cell_type": "code",
   "execution_count": 48,
   "id": "3d3129d4",
   "metadata": {},
   "outputs": [
    {
     "data": {
      "text/plain": [
       "('filter', 'urska')"
      ]
     },
     "execution_count": 48,
     "metadata": {},
     "output_type": "execute_result"
    }
   ],
   "source": [
    "random.choice(filter_experts)"
   ]
  },
  {
   "cell_type": "markdown",
   "id": "770cb0c5",
   "metadata": {},
   "source": [
    "- parecido a map\n",
    "- necesita un iterable\n",
    "- criterio: True/False: funcion\n",
    "    - la función devuelve un boolean\n",
    "- sólo las son true se quedan\n",
    "- deja fuera los False\n",
    "- devuelve un objeto\n",
    "\n",
    "- filter(a_function_boolean, a_list)"
   ]
  },
  {
   "cell_type": "markdown",
   "id": "c0053dff",
   "metadata": {},
   "source": [
    "#### Filter\n",
    "    - Function \n",
    "    - it will run in each iteration to see if the condition is true/false\n",
    "    - it creartes a list with the functions that are true\n",
    "    \n",
    "    \n",
    "    - list of # n\n",
    "    - odd numbers\n",
    "    \n",
    "    - output -> list with odd numbers\n",
    "    \n",
    "    - filter()\n",
    "        - does things: filters based on a boolean condition\n",
    "        - returns: same object (iterable) but filtered based on boolean condition"
   ]
  },
  {
   "cell_type": "markdown",
   "id": "1df16233",
   "metadata": {
    "lang": "en"
   },
   "source": [
    "#### First we do it with functions"
   ]
  },
  {
   "cell_type": "code",
   "execution_count": 49,
   "id": "a01d4e75",
   "metadata": {},
   "outputs": [],
   "source": [
    "def even (n):\n",
    "    if n % 2 == 0:\n",
    "        return True\n",
    "    else:\n",
    "        return False"
   ]
  },
  {
   "cell_type": "code",
   "execution_count": 50,
   "id": "5d7c30c5",
   "metadata": {},
   "outputs": [],
   "source": [
    "def even (n):\n",
    "    return n % 2 == 0"
   ]
  },
  {
   "cell_type": "code",
   "execution_count": 52,
   "id": "21b0326d",
   "metadata": {},
   "outputs": [
    {
     "data": {
      "text/plain": [
       "False"
      ]
     },
     "execution_count": 52,
     "metadata": {},
     "output_type": "execute_result"
    }
   ],
   "source": [
    "even(3)"
   ]
  },
  {
   "cell_type": "code",
   "execution_count": 53,
   "id": "172404cc",
   "metadata": {},
   "outputs": [
    {
     "data": {
      "text/plain": [
       "[1, 2, 3, 4, 5, 6, 7, 8]"
      ]
     },
     "execution_count": 53,
     "metadata": {},
     "output_type": "execute_result"
    }
   ],
   "source": [
    "nums"
   ]
  },
  {
   "cell_type": "code",
   "execution_count": 56,
   "id": "a791cce9",
   "metadata": {},
   "outputs": [
    {
     "data": {
      "text/plain": [
       "[1, 2, 3, 4, 5, 6, 7, 8]"
      ]
     },
     "execution_count": 56,
     "metadata": {},
     "output_type": "execute_result"
    }
   ],
   "source": [
    "nums"
   ]
  },
  {
   "cell_type": "code",
   "execution_count": 54,
   "id": "f9f3501d",
   "metadata": {},
   "outputs": [
    {
     "data": {
      "text/plain": [
       "<filter at 0x7f94b87699a0>"
      ]
     },
     "execution_count": 54,
     "metadata": {},
     "output_type": "execute_result"
    }
   ],
   "source": [
    "filter(even, nums)"
   ]
  },
  {
   "cell_type": "code",
   "execution_count": 57,
   "id": "f3c2708b",
   "metadata": {},
   "outputs": [
    {
     "data": {
      "text/plain": [
       "[2, 4, 6, 8]"
      ]
     },
     "execution_count": 57,
     "metadata": {},
     "output_type": "execute_result"
    }
   ],
   "source": [
    "even_filtered = list(filter(even, nums))\n",
    "even_filtered"
   ]
  },
  {
   "cell_type": "code",
   "execution_count": 59,
   "id": "fc58f9bb",
   "metadata": {},
   "outputs": [
    {
     "data": {
      "text/plain": [
       "[2, 4, 6, 8]"
      ]
     },
     "execution_count": 59,
     "metadata": {},
     "output_type": "execute_result"
    }
   ],
   "source": [
    "list(filter(lambda x: x % 2 == 0, nums))"
   ]
  },
  {
   "cell_type": "code",
   "execution_count": 62,
   "id": "7d37befc",
   "metadata": {},
   "outputs": [],
   "source": [
    "# list(filter(lambda x: True if x % 2 == 0 else False, nums))"
   ]
  },
  {
   "cell_type": "markdown",
   "id": "9b923a35",
   "metadata": {
    "lang": "en"
   },
   "source": [
    "### Reduce"
   ]
  },
  {
   "cell_type": "markdown",
   "id": "5e2eb96a",
   "metadata": {
    "lang": "en"
   },
   "source": [
    "This function is not a built-in function, which means you must first import the functools library for use. The reduce() function cumulatively applies the f() function to the elements of the iterable. The accumulator can be initialized with an optional third argument. The result is the final value of the accumulator.\n",
    "\n",
    "```python\n",
    "reduce(function, iterable[, initial])\n",
    "```"
   ]
  },
  {
   "cell_type": "code",
   "execution_count": 63,
   "id": "c731b8db",
   "metadata": {},
   "outputs": [
    {
     "data": {
      "text/plain": [
       "('reduce', 'daniel')"
      ]
     },
     "execution_count": 63,
     "metadata": {},
     "output_type": "execute_result"
    }
   ],
   "source": [
    "random.choice(reduce_experts)"
   ]
  },
  {
   "cell_type": "markdown",
   "id": "df7f3a2c",
   "metadata": {},
   "source": [
    "- reduce: DEVUELVE UN VALOR\n",
    "- el input de una función es el output anterior\n",
    "- se lo pasa a todos hasta que acaba con un único valor\n",
    "- hay que importarlo"
   ]
  },
  {
   "cell_type": "code",
   "execution_count": 69,
   "id": "408b7fe6",
   "metadata": {},
   "outputs": [],
   "source": [
    "from functools import reduce "
   ]
  },
  {
   "cell_type": "markdown",
   "id": "be41def2",
   "metadata": {
    "lang": "en"
   },
   "source": [
    "⚠️ Reduce is a bit more complicated to understand than map() and filter() so let's walk through the following example ⚠️"
   ]
  },
  {
   "cell_type": "code",
   "execution_count": 142,
   "id": "52fcf783",
   "metadata": {},
   "outputs": [],
   "source": [
    "nums = [2, 4, 7, 3]"
   ]
  },
  {
   "cell_type": "code",
   "execution_count": 143,
   "id": "d4b02889",
   "metadata": {},
   "outputs": [],
   "source": [
    "def add (x, y):\n",
    "    return x + y"
   ]
  },
  {
   "cell_type": "code",
   "execution_count": 144,
   "id": "cad5b098",
   "metadata": {},
   "outputs": [
    {
     "data": {
      "text/plain": [
       "16"
      ]
     },
     "execution_count": 144,
     "metadata": {},
     "output_type": "execute_result"
    }
   ],
   "source": [
    "reduce(add, nums)"
   ]
  },
  {
   "cell_type": "markdown",
   "id": "9bcc559e",
   "metadata": {
    "lang": "en"
   },
   "source": [
    "#### What happened?\n",
    "- We start with a list [2, 4, 7, 3] and pass the function add (x, y) to reduce ( ) along with this list, without an initial value\n",
    "\n",
    "- reduce() calls add(2, 4), and add() returns 6\n",
    "\n",
    "- reduce() calls sum(6, 7) (result of the previous call to sum() and the next element in the list as parameters), and sum() returns 13\n",
    "\n",
    "- reduce() calls sum(13, 3), and sum() returns 16\n",
    "\n",
    "Since there are no more elements left in the sequence, reduce() returns 16"
   ]
  },
  {
   "cell_type": "code",
   "execution_count": 105,
   "id": "da44778d",
   "metadata": {},
   "outputs": [
    {
     "name": "stdout",
     "output_type": "stream",
     "text": [
      "La b es: 1\n",
      "La b es: 2\n",
      "La b es: 3\n",
      "La b es: 4\n",
      "La b es: 5\n",
      "La b es: 6\n",
      "La b es: 7\n",
      "La b es: 8\n",
      "0\n"
     ]
    }
   ],
   "source": [
    "print(reduce(multiply, nums, 0))"
   ]
  },
  {
   "cell_type": "markdown",
   "id": "04ecdfe8",
   "metadata": {
    "lang": "en"
   },
   "source": [
    "Factorial:\n",
    "Amount that results from the multiplication of a certain natural number by all the natural numbers that precede it, excluding zero; is represented by n!"
   ]
  },
  {
   "cell_type": "markdown",
   "id": "0334080d",
   "metadata": {
    "lang": "en"
   },
   "source": [
    "### First we do it with functions"
   ]
  },
  {
   "cell_type": "code",
   "execution_count": 103,
   "id": "a711f38e",
   "metadata": {},
   "outputs": [],
   "source": [
    "def multiply (a, b):\n",
    "    print(f\"La b es: {b}\")\n",
    "    return a * b"
   ]
  },
  {
   "cell_type": "code",
   "execution_count": 104,
   "id": "18acb826",
   "metadata": {},
   "outputs": [
    {
     "data": {
      "text/plain": [
       "[1, 2, 3, 4, 5, 6, 7, 8]"
      ]
     },
     "execution_count": 104,
     "metadata": {},
     "output_type": "execute_result"
    }
   ],
   "source": [
    "nums"
   ]
  },
  {
   "cell_type": "code",
   "execution_count": 134,
   "id": "5d21299d",
   "metadata": {},
   "outputs": [],
   "source": [
    "def concatenation (a, b):\n",
    "    return a + \" \" + b\n",
    "\n",
    "# HOLA qué\n",
    "# HOLA QUÉ tal \n",
    "# HOLA QUÉ TAL CÓMO estás"
   ]
  },
  {
   "cell_type": "code",
   "execution_count": 135,
   "id": "233c47d1",
   "metadata": {},
   "outputs": [],
   "source": [
    "lista_strings = [\"hola\", \"qué\", \"tal\", \"cómo\", \"estás\"]"
   ]
  },
  {
   "cell_type": "code",
   "execution_count": 137,
   "id": "76cb287f",
   "metadata": {},
   "outputs": [
    {
     "data": {
      "text/plain": [
       "'HOLA QUÉ TAL CÓMO ESTÁS'"
      ]
     },
     "execution_count": 137,
     "metadata": {},
     "output_type": "execute_result"
    }
   ],
   "source": [
    "(reduce(concatenation, lista_strings)).upper()"
   ]
  },
  {
   "cell_type": "markdown",
   "id": "d678c6ca",
   "metadata": {
    "lang": "en"
   },
   "source": [
    "### Bonus: Do it with lambda!"
   ]
  },
  {
   "cell_type": "code",
   "execution_count": 146,
   "id": "72c750b8",
   "metadata": {},
   "outputs": [
    {
     "data": {
      "text/plain": [
       "'hola qué tal cómo estás'"
      ]
     },
     "execution_count": 146,
     "metadata": {},
     "output_type": "execute_result"
    }
   ],
   "source": [
    "reduce(lambda x, y: x + \" \" + y, lista_strings)"
   ]
  },
  {
   "cell_type": "markdown",
   "id": "69ae8c39",
   "metadata": {
    "lang": "en"
   },
   "source": [
    "## Summary"
   ]
  },
  {
   "cell_type": "code",
   "execution_count": null,
   "id": "acd881a6",
   "metadata": {},
   "outputs": [],
   "source": []
  },
  {
   "cell_type": "markdown",
   "id": "jewish-configuration",
   "metadata": {},
   "source": [
    "## Further materials\n",
    "http://web.mit.edu/6.005/www/sp16/classes/25-map-filter-reduce/    \n"
   ]
  }
 ],
 "metadata": {
  "kernelspec": {
   "display_name": "ironhack",
   "language": "python",
   "name": "ironhack"
  },
  "language_info": {
   "codemirror_mode": {
    "name": "ipython",
    "version": 3
   },
   "file_extension": ".py",
   "mimetype": "text/x-python",
   "name": "python",
   "nbconvert_exporter": "python",
   "pygments_lexer": "ipython3",
   "version": "3.8.13"
  },
  "nbTranslate": {
   "displayLangs": [
    "en",
    "es"
   ],
   "hotkey": "alt-a",
   "langInMainMenu": true,
   "sourceLang": "es",
   "targetLang": "en",
   "useGoogleTranslate": true
  },
  "toc": {
   "base_numbering": 1,
   "nav_menu": {},
   "number_sections": true,
   "sideBar": true,
   "skip_h1_title": true,
   "title_cell": "Table of Contents",
   "title_sidebar": "Contents",
   "toc_cell": true,
   "toc_position": {
    "height": "calc(100% - 180px)",
    "left": "10px",
    "top": "150px",
    "width": "266px"
   },
   "toc_section_display": true,
   "toc_window_display": false
  }
 },
 "nbformat": 4,
 "nbformat_minor": 5
}
