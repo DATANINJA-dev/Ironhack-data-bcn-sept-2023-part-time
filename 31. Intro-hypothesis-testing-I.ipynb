{
 "cells": [
  {
   "cell_type": "markdown",
   "id": "8b9a7f9d",
   "metadata": {
    "toc": true
   },
   "source": [
    "<h1>Table of Contents<span class=\"tocSkip\"></span></h1>\n",
    "<div class=\"toc\"><ul class=\"toc-item\"><li><span><a href=\"#Mini-re-cap\" data-toc-modified-id=\"Mini-re-cap-1\"><span class=\"toc-item-num\">1&nbsp;&nbsp;</span>Mini re-cap</a></span></li><li><span><a href=\"#Who's-paying-for-dinner?\" data-toc-modified-id=\"Who's-paying-for-dinner?-2\"><span class=\"toc-item-num\">2&nbsp;&nbsp;</span>Who's paying for dinner?</a></span><ul class=\"toc-item\"><li><span><a href=\"#What-we-can-expect-to-happen:-theoretical-probability\" data-toc-modified-id=\"What-we-can-expect-to-happen:-theoretical-probability-2.1\"><span class=\"toc-item-num\">2.1&nbsp;&nbsp;</span>What we can expect to happen: theoretical probability</a></span><ul class=\"toc-item\"><li><span><a href=\"#Probability-of-him-paying:-less-than-10-heads\" data-toc-modified-id=\"Probability-of-him-paying:-less-than-10-heads-2.1.1\"><span class=\"toc-item-num\">2.1.1&nbsp;&nbsp;</span>Probability of him paying: less than 10 heads</a></span></li><li><span><a href=\"#Probability-of-me-paying:-more-than-10-heads\" data-toc-modified-id=\"Probability-of-me-paying:-more-than-10-heads-2.1.2\"><span class=\"toc-item-num\">2.1.2&nbsp;&nbsp;</span>Probability of me paying: more than 10 heads</a></span></li><li><span><a href=\"#Probability-of-a-tie\" data-toc-modified-id=\"Probability-of-a-tie-2.1.3\"><span class=\"toc-item-num\">2.1.3&nbsp;&nbsp;</span>Probability of a tie</a></span></li><li><span><a href=\"#What-is-acceptable-for-me?\" data-toc-modified-id=\"What-is-acceptable-for-me?-2.1.4\"><span class=\"toc-item-num\">2.1.4&nbsp;&nbsp;</span>What is acceptable for me?</a></span></li></ul></li><li><span><a href=\"#Experiment\" data-toc-modified-id=\"Experiment-2.2\"><span class=\"toc-item-num\">2.2&nbsp;&nbsp;</span>Experiment</a></span></li><li><span><a href=\"#Let's-test-it\" data-toc-modified-id=\"Let's-test-it-2.3\"><span class=\"toc-item-num\">2.3&nbsp;&nbsp;</span>Let's test it</a></span><ul class=\"toc-item\"><li><span><a href=\"#Binomial-test-for-hypothesis\" data-toc-modified-id=\"Binomial-test-for-hypothesis-2.3.1\"><span class=\"toc-item-num\">2.3.1&nbsp;&nbsp;</span>Binomial test for hypothesis</a></span></li></ul></li><li><span><a href=\"#Okay,-but-what-do-I-do-with-this-info?\" data-toc-modified-id=\"Okay,-but-what-do-I-do-with-this-info?-2.4\"><span class=\"toc-item-num\">2.4&nbsp;&nbsp;</span>Okay, but what do I do with this info?</a></span></li></ul></li><li><span><a href=\"#Recap-of-me-testing-my-friendship:\" data-toc-modified-id=\"Recap-of-me-testing-my-friendship:-3\"><span class=\"toc-item-num\">3&nbsp;&nbsp;</span>Recap of me testing my friendship:</a></span></li><li><span><a href=\"#In-other-words\" data-toc-modified-id=\"In-other-words-4\"><span class=\"toc-item-num\">4&nbsp;&nbsp;</span>In other words</a></span><ul class=\"toc-item\"><li><span><a href=\"#Some-misunderstandings-of-p-values:\" data-toc-modified-id=\"Some-misunderstandings-of-p-values:-4.1\"><span class=\"toc-item-num\">4.1&nbsp;&nbsp;</span>Some misunderstandings of p-values:</a></span></li><li><span><a href=\"#Null-hypothesis-vs.-Alternative-hypothesis\" data-toc-modified-id=\"Null-hypothesis-vs.-Alternative-hypothesis-4.2\"><span class=\"toc-item-num\">4.2&nbsp;&nbsp;</span>Null hypothesis vs. Alternative hypothesis</a></span></li></ul></li><li><span><a href=\"#Process\" data-toc-modified-id=\"Process-5\"><span class=\"toc-item-num\">5&nbsp;&nbsp;</span>Process</a></span></li><li><span><a href=\"#RECAP-&amp;-reprhasing-of-concepts\" data-toc-modified-id=\"RECAP-&amp;-reprhasing-of-concepts-6\"><span class=\"toc-item-num\">6&nbsp;&nbsp;</span>RECAP &amp; reprhasing of concepts</a></span></li></ul></div>"
   ]
  },
  {
   "cell_type": "markdown",
   "id": "f7cac51f",
   "metadata": {},
   "source": [
    "# Mini re-cap\n",
    "\n",
    "- Distribución\n",
    "    \"\"\"organización de los valores\"\"\"\n",
    "    - Tipos de distribución según variable\n",
    "        - Continua\n",
    "        - Discretas\n",
    "        \n",
    "        Eje y:\n",
    "            - Experimental (0, infinito): \n",
    "            - Teórico (0-1): probabilidad\n",
    "            \n",
    "- Distribuciones continuas experimentales & teóricas\n",
    "    - Normal: distribución continua\n"
   ]
  },
  {
   "cell_type": "code",
   "execution_count": 130,
   "id": "cfface4b",
   "metadata": {},
   "outputs": [],
   "source": [
    "import seaborn as sns\n",
    "import scipy.stats as stats\n",
    "import numpy as np\n",
    "import random\n",
    "import warnings\n",
    "import matplotlib.pyplot as plt\n",
    "%matplotlib inline"
   ]
  },
  {
   "cell_type": "code",
   "execution_count": 131,
   "id": "bdc33be1",
   "metadata": {},
   "outputs": [],
   "source": [
    "from scipy.stats import binomtest\n",
    "from scipy.stats import binom"
   ]
  },
  {
   "cell_type": "code",
   "execution_count": 132,
   "id": "75e41e18",
   "metadata": {},
   "outputs": [],
   "source": [
    "sns.set(rc={'figure.figsize':(13, 7.5)})\n",
    "sns.set_context('talk')\n",
    "\n",
    "warnings.filterwarnings('ignore')"
   ]
  },
  {
   "cell_type": "markdown",
   "id": "d03d4505",
   "metadata": {},
   "source": [
    "# Who's paying for dinner?"
   ]
  },
  {
   "cell_type": "markdown",
   "id": "c32ccdce",
   "metadata": {},
   "source": [
    "![](https://media.giphy.com/media/z2R9CvTLQ2lcQ/giphy.gif)"
   ]
  },
  {
   "cell_type": "markdown",
   "id": "3d45563d",
   "metadata": {},
   "source": [
    "Let's flip a coin: If my friend tosses a coin 20 times and he gets MORE than 10 heads, I will pay. Less heads and he'll pay."
   ]
  },
  {
   "cell_type": "markdown",
   "id": "e0a7958b",
   "metadata": {},
   "source": [
    "## What we can expect to happen: theoretical probability"
   ]
  },
  {
   "cell_type": "markdown",
   "id": "34b34c0b",
   "metadata": {
    "lang": "en"
   },
   "source": [
    "The sample space is $\\Omega = \\{H, T\\}$, heads and tails"
   ]
  },
  {
   "cell_type": "markdown",
   "id": "32c77236",
   "metadata": {},
   "source": [
    "$P(H) = \\frac{1}{2} (=0.5 = 50\\%)$"
   ]
  },
  {
   "cell_type": "markdown",
   "id": "ea63f8f4",
   "metadata": {},
   "source": [
    "$P(T) = \\frac{1}{2} (=0.5 = 50\\%)$"
   ]
  },
  {
   "cell_type": "code",
   "execution_count": null,
   "id": "abf5a5d6",
   "metadata": {},
   "outputs": [],
   "source": [
    "# less than 10: I win, he pays\n",
    "\n",
    "# more than 10: he wins, I pay"
   ]
  },
  {
   "cell_type": "code",
   "execution_count": null,
   "id": "f96c0e48",
   "metadata": {},
   "outputs": [],
   "source": [
    "# Experimento "
   ]
  },
  {
   "cell_type": "code",
   "execution_count": null,
   "id": "988325e1",
   "metadata": {},
   "outputs": [],
   "source": [
    "# Expectativa\n",
    "\n",
    "# prob de 14?\n",
    "# prob= de 15?"
   ]
  },
  {
   "cell_type": "markdown",
   "id": "5523a82e",
   "metadata": {},
   "source": [
    "### Probability of him paying: less than 10 heads"
   ]
  },
  {
   "cell_type": "code",
   "execution_count": 136,
   "id": "8fcbe324",
   "metadata": {},
   "outputs": [],
   "source": [
    "N = 20\n",
    "p = 0.5\n",
    "my_binomial = binom(N, p)"
   ]
  },
  {
   "cell_type": "code",
   "execution_count": 137,
   "id": "1dcc7b2c",
   "metadata": {},
   "outputs": [
    {
     "data": {
      "text/plain": [
       "<scipy.stats._distn_infrastructure.rv_discrete_frozen at 0x7fda152a5f10>"
      ]
     },
     "execution_count": 137,
     "metadata": {},
     "output_type": "execute_result"
    }
   ],
   "source": [
    "my_binomial"
   ]
  },
  {
   "cell_type": "code",
   "execution_count": 143,
   "id": "a729a720",
   "metadata": {},
   "outputs": [
    {
     "data": {
      "text/plain": [
       "0.1601791381835938"
      ]
     },
     "execution_count": 143,
     "metadata": {},
     "output_type": "execute_result"
    }
   ],
   "source": [
    "my_binomial.pmf(9) "
   ]
  },
  {
   "cell_type": "code",
   "execution_count": 144,
   "id": "5fe52f86",
   "metadata": {},
   "outputs": [
    {
     "data": {
      "text/plain": [
       "0.17619705200195296"
      ]
     },
     "execution_count": 144,
     "metadata": {},
     "output_type": "execute_result"
    }
   ],
   "source": [
    "my_binomial.pmf(10) "
   ]
  },
  {
   "cell_type": "code",
   "execution_count": 154,
   "id": "464a9dce",
   "metadata": {},
   "outputs": [
    {
     "data": {
      "text/plain": [
       "0.41190147399902344"
      ]
     },
     "execution_count": 154,
     "metadata": {},
     "output_type": "execute_result"
    }
   ],
   "source": [
    "# ¿Menos de 10? \n",
    "my_binomial.cdf(9) #10 incluyendo 10  sería la cdf(10)\n",
    "# 0-9: paga él"
   ]
  },
  {
   "cell_type": "markdown",
   "id": "244f41c3",
   "metadata": {},
   "source": [
    "### Probability of me paying: more than 10 heads"
   ]
  },
  {
   "cell_type": "code",
   "execution_count": 155,
   "id": "650d3f2e",
   "metadata": {},
   "outputs": [
    {
     "data": {
      "text/plain": [
       "0.41190147399902344"
      ]
     },
     "execution_count": 155,
     "metadata": {},
     "output_type": "execute_result"
    }
   ],
   "source": [
    "# ¿Más de 10? \n",
    "1 - my_binomial.cdf(10)  # 11-20: pago yo"
   ]
  },
  {
   "cell_type": "markdown",
   "id": "527f665d",
   "metadata": {},
   "source": [
    "### Probability of a tie"
   ]
  },
  {
   "cell_type": "code",
   "execution_count": 147,
   "id": "9d9601ae",
   "metadata": {},
   "outputs": [
    {
     "data": {
      "text/plain": [
       "0.17619705200195296"
      ]
     },
     "execution_count": 147,
     "metadata": {},
     "output_type": "execute_result"
    }
   ],
   "source": [
    "my_binomial.pmf(10) # 10: empate"
   ]
  },
  {
   "cell_type": "code",
   "execution_count": 156,
   "id": "9aae20a3",
   "metadata": {},
   "outputs": [],
   "source": [
    "ganar_yo = my_binomial.cdf(9)\n",
    "ganar_el = 1 - my_binomial.cdf(10)\n",
    "empate = my_binomial.pmf(10)"
   ]
  },
  {
   "cell_type": "code",
   "execution_count": 157,
   "id": "463fe830",
   "metadata": {},
   "outputs": [
    {
     "data": {
      "text/plain": [
       "True"
      ]
     },
     "execution_count": 157,
     "metadata": {},
     "output_type": "execute_result"
    }
   ],
   "source": [
    "ganar_yo == ganar_el"
   ]
  },
  {
   "cell_type": "code",
   "execution_count": 169,
   "id": "9948807a",
   "metadata": {},
   "outputs": [
    {
     "data": {
      "image/png": "[encoded data removed]",
      "text/plain": [
       "<Figure size 936x540 with 1 Axes>"
      ]
     },
     "metadata": {},
     "output_type": "display_data"
    }
   ],
   "source": [
    "x = np.arange(0, 21)\n",
    "plt.plot(x, my_binomial.pmf(x), \"bo\")\n",
    "plt.vlines(x, 0, my_binomial.pmf(x), lw=5, alpha=0.5)\n",
    "plt.title(\"Distribución de probabilidad binomial binom(20, 0.5)\");"
   ]
  },
  {
   "cell_type": "code",
   "execution_count": null,
   "id": "77396ac6",
   "metadata": {},
   "outputs": [],
   "source": []
  },
  {
   "cell_type": "code",
   "execution_count": null,
   "id": "d9ea4483",
   "metadata": {},
   "outputs": [],
   "source": []
  },
  {
   "cell_type": "markdown",
   "id": "b0851553",
   "metadata": {},
   "source": [
    "I'm expecting the results to be close to the mean: **7, 8, 9, 10, 11, 12**..."
   ]
  },
  {
   "cell_type": "markdown",
   "id": "93cf80b8",
   "metadata": {},
   "source": [
    "### What is acceptable for me?"
   ]
  },
  {
   "cell_type": "markdown",
   "id": "d146d0ab",
   "metadata": {},
   "source": [
    "Whatever result we got if we were to flip the coin **95 times**"
   ]
  },
  {
   "cell_type": "markdown",
   "id": "6a371152",
   "metadata": {},
   "source": [
    "## Experiment"
   ]
  },
  {
   "cell_type": "markdown",
   "id": "7e1f0fab",
   "metadata": {},
   "source": [
    "`[1, 1, 1, 1, 1, 0, 1, 1, 1, 1, 0, 1, 1, 1, 0, 1, 1, 1, 1, 1]`"
   ]
  },
  {
   "cell_type": "code",
   "execution_count": 158,
   "id": "3011c26f",
   "metadata": {},
   "outputs": [],
   "source": [
    "experiment = [1, 1, 1, 1, 1, 0, 1, 1, 1, 1, 0, 1, 1, 1, 0, 1, 1, 1, 1, 1]"
   ]
  },
  {
   "cell_type": "code",
   "execution_count": 159,
   "id": "180bf37a",
   "metadata": {},
   "outputs": [
    {
     "data": {
      "text/plain": [
       "20"
      ]
     },
     "execution_count": 159,
     "metadata": {},
     "output_type": "execute_result"
    }
   ],
   "source": [
    "len(experiment)"
   ]
  },
  {
   "cell_type": "code",
   "execution_count": 160,
   "id": "a814bc9a",
   "metadata": {},
   "outputs": [
    {
     "data": {
      "text/plain": [
       "17"
      ]
     },
     "execution_count": 160,
     "metadata": {},
     "output_type": "execute_result"
    }
   ],
   "source": [
    "sum(experiment)"
   ]
  },
  {
   "cell_type": "code",
   "execution_count": null,
   "id": "ea5cb8de",
   "metadata": {},
   "outputs": [],
   "source": []
  },
  {
   "cell_type": "code",
   "execution_count": 161,
   "id": "ca502630",
   "metadata": {},
   "outputs": [
    {
     "data": {
      "text/plain": [
       "0.0010871887207031228"
      ]
     },
     "execution_count": 161,
     "metadata": {},
     "output_type": "execute_result"
    }
   ],
   "source": [
    "# p de sacar 17/20?\n",
    "\n",
    "\n",
    "my_binomial.pmf(17)"
   ]
  },
  {
   "cell_type": "code",
   "execution_count": 170,
   "id": "d0ec4ad9",
   "metadata": {},
   "outputs": [
    {
     "data": {
      "text/plain": [
       "0.1601791381835938"
      ]
     },
     "execution_count": 170,
     "metadata": {},
     "output_type": "execute_result"
    }
   ],
   "source": [
    "my_binomial.pmf(11)"
   ]
  },
  {
   "cell_type": "code",
   "execution_count": null,
   "id": "f1c85784",
   "metadata": {},
   "outputs": [],
   "source": [
    "# 0.05\n",
    "\n",
    "\n",
    "P (obtener_17 | sin_estar_trucada_la_moneda) = 0.001\n",
    "#P (tres_colors | hembra) = 0.001"
   ]
  },
  {
   "cell_type": "markdown",
   "id": "6118a81c",
   "metadata": {},
   "source": [
    "`Wait, getting more than 10 I did expect, but 17? there's something fishy going on 🧐`"
   ]
  },
  {
   "cell_type": "markdown",
   "id": "02dfc184",
   "metadata": {},
   "source": [
    "![](https://media.giphy.com/media/PV4YusEdNup0s/giphy.gif)"
   ]
  },
  {
   "cell_type": "markdown",
   "id": "60cb93b6",
   "metadata": {},
   "source": [
    "What is then the chance of a fair coin landing at least **17 times on heads out of 20 flips**"
   ]
  },
  {
   "cell_type": "code",
   "execution_count": null,
   "id": "c66ac4bf",
   "metadata": {},
   "outputs": [],
   "source": [
    "#P (17|coinisfair) = ? # it may be biased"
   ]
  },
  {
   "cell_type": "markdown",
   "id": "5387635d",
   "metadata": {},
   "source": [
    "$P(Observation | H0) = ?$"
   ]
  },
  {
   "cell_type": "code",
   "execution_count": 177,
   "id": "6e951dfd",
   "metadata": {},
   "outputs": [],
   "source": [
    "my_binomial = binom(20, 0.5)"
   ]
  },
  {
   "cell_type": "code",
   "execution_count": null,
   "id": "b9c3630d",
   "metadata": {},
   "outputs": [],
   "source": [
    "# Cómo de probable es que me salga 17 o más\n",
    "# 17 ó 18 ó 19 ó 20"
   ]
  },
  {
   "cell_type": "code",
   "execution_count": 181,
   "id": "54cfeb40",
   "metadata": {},
   "outputs": [
    {
     "data": {
      "text/plain": [
       "0.0012884140014648438"
      ]
     },
     "execution_count": 181,
     "metadata": {},
     "output_type": "execute_result"
    }
   ],
   "source": [
    "1 - my_binomial.cdf(16)"
   ]
  },
  {
   "cell_type": "code",
   "execution_count": 182,
   "id": "49e7c74a",
   "metadata": {},
   "outputs": [
    {
     "data": {
      "text/plain": [
       "0.0012884140014648438"
      ]
     },
     "execution_count": 182,
     "metadata": {},
     "output_type": "execute_result"
    }
   ],
   "source": [
    "p_value = binomtest(17, n=20, p=0.5, alternative=\"greater\").pvalue\n",
    "p_value"
   ]
  },
  {
   "cell_type": "code",
   "execution_count": null,
   "id": "cfe1d8ac",
   "metadata": {},
   "outputs": [],
   "source": [
    "#P (17_o_más | moneda_no_está_trucada) = 0.0012884140014648438"
   ]
  },
  {
   "cell_type": "code",
   "execution_count": 183,
   "id": "37af1608",
   "metadata": {},
   "outputs": [
    {
     "name": "stdout",
     "output_type": "stream",
     "text": [
      "Esto es MUY improbable: hay algo raro\n"
     ]
    }
   ],
   "source": [
    "if p_value < 0.05:\n",
    "    print(\"Esto es MUY improbable: hay algo raro\")\n",
    "else:\n",
    "    print(\"Está dentro de lo esperado\")"
   ]
  },
  {
   "cell_type": "markdown",
   "id": "e1827545",
   "metadata": {},
   "source": [
    "What is then the chance of a fair coin landing at least **17 times on heads out of 20 flips**"
   ]
  },
  {
   "cell_type": "code",
   "execution_count": null,
   "id": "d643b623",
   "metadata": {},
   "outputs": [],
   "source": []
  },
  {
   "cell_type": "markdown",
   "id": "f27d64d0",
   "metadata": {},
   "source": [
    "## Let's test it"
   ]
  },
  {
   "cell_type": "markdown",
   "id": "e4ebb904",
   "metadata": {},
   "source": [
    "### Binomial test for hypothesis"
   ]
  },
  {
   "cell_type": "markdown",
   "id": "90679455",
   "metadata": {},
   "source": [
    "Returns: **probability** of this happening when coin is fair"
   ]
  },
  {
   "cell_type": "code",
   "execution_count": null,
   "id": "41ec7e32",
   "metadata": {},
   "outputs": [],
   "source": []
  },
  {
   "cell_type": "markdown",
   "id": "6a325990",
   "metadata": {},
   "source": [
    "## Okay, but what do I do with this info?"
   ]
  },
  {
   "cell_type": "code",
   "execution_count": null,
   "id": "c9ce7eb6",
   "metadata": {},
   "outputs": [],
   "source": [
    "# Hipótesis nula\n",
    "     # no hay ningún efecto: la moneda no está trucada\n",
    "    \n",
    "# Hipótesis alternativa\n",
    "    # hay un efecto: la moneda está trucada"
   ]
  },
  {
   "cell_type": "code",
   "execution_count": null,
   "id": "8311605f",
   "metadata": {},
   "outputs": [],
   "source": [
    "# P (resultado | H0)"
   ]
  },
  {
   "cell_type": "code",
   "execution_count": 184,
   "id": "015572f0",
   "metadata": {},
   "outputs": [
    {
     "data": {
      "text/plain": [
       "0.2517223358154297"
      ]
     },
     "execution_count": 184,
     "metadata": {},
     "output_type": "execute_result"
    }
   ],
   "source": [
    "#my_binomial = binom(20, 0.5)\n",
    "#1 - my_binomial.cdf(16)\n",
    "p_value = binomtest(12, n=20, p=0.5, alternative=\"greater\").pvalue\n",
    "p_value"
   ]
  },
  {
   "cell_type": "code",
   "execution_count": 185,
   "id": "80da394f",
   "metadata": {},
   "outputs": [
    {
     "name": "stdout",
     "output_type": "stream",
     "text": [
      "Está dentro de lo esperado\n"
     ]
    }
   ],
   "source": [
    "if p_value < 0.05:\n",
    "    print(\"Esto es MUY improbable: hay algo raro\")\n",
    "else:\n",
    "    print(\"Está dentro de lo esperado\")"
   ]
  },
  {
   "cell_type": "markdown",
   "id": "dfc51bcb",
   "metadata": {},
   "source": [
    "If the calculated `p_value` exceeds 0.05, so the observation is consistent with \"the coin is fair\": that the observed result of 14 heads out of 20 flips can be ascribed to\n",
    "chance alone — as it falls within the range of what would happen 95% of the time were\n",
    "this in fact the case."
   ]
  },
  {
   "cell_type": "code",
   "execution_count": null,
   "id": "ab121a75",
   "metadata": {},
   "outputs": [],
   "source": []
  },
  {
   "cell_type": "markdown",
   "id": "d9972e44",
   "metadata": {},
   "source": [
    "Is that good enough for me to think that the coin is fair? If my `p_value` (likelihood of obtaining that result when \"coin is fair\") is bigger than 0.05, then I can say \"Okay, it must have been chance\"."
   ]
  },
  {
   "cell_type": "markdown",
   "id": "9704c178",
   "metadata": {},
   "source": [
    "However if my `p_value` had been less than 0.05, that would tell me that the likelihood of getting that value being the coin fair is sooooo low, that it couldn't be explained by chance, so there must be other factors.\n",
    "\n",
    "Then we could say: I don't think the coin is fair."
   ]
  },
  {
   "cell_type": "markdown",
   "id": "bd7f7e73",
   "metadata": {},
   "source": [
    "# Recap of me testing my friendship:\n",
    "\n",
    "- I have an expected result, which is: everything's fine, it's all good: a fair coin will give me half & half\n",
    "- We experiment: we flip it 20 times.\n",
    "- I get 17/ 20. That seems suspicious. Is 17 close enough to what I expected? \n",
    "\n",
    "---\n",
    "- `Null hypothesis`: everything's the same\n",
    "- `Alternative hypothesis` coin is not fair and I'll get a different result\n",
    "\n",
    "---\n",
    "- I do a binomial `test` to get the ptobability of that same result happening given the coin is fair\n",
    "- I compare the p_value to my confidence interval (95): I will get this observation at least once by doing to the experiment 95 times\n",
    "---\n",
    "- Is my `p_value lower than that 0.05?` Then it is extremely improbable it happened due to chance. It must be tricked\n",
    "- Is my p_value within that 95% range? Then it can be explained by chance"
   ]
  },
  {
   "cell_type": "markdown",
   "id": "a6ea48b9",
   "metadata": {},
   "source": [
    "![](data:image/png;base64,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)"
   ]
  },
  {
   "cell_type": "markdown",
   "id": "bbce96bf",
   "metadata": {},
   "source": [
    "# In other words"
   ]
  },
  {
   "cell_type": "markdown",
   "id": "4db86742",
   "metadata": {},
   "source": [
    "1. I obtain a sample\n",
    "2. I declare `Null hypothesis`: \"There's no difference\"\n",
    "3. I declare `Alternative hypothesis`: \"There is a difference, either on the high end or the low end\"\n",
    "4. I use a statitical test: binomial test\n",
    "5. I check the probability that the result happened due to chance: `p_value`\n",
    "6. I check if the `p_value` falls within or outside the confidence interval\n",
    "7. If in: I don't have enough evidence to say it's not due to chance. \n",
    "8. If out: I reject null hypothesis and take the alternative: there's a difference"
   ]
  },
  {
   "cell_type": "markdown",
   "id": "d0e77758",
   "metadata": {},
   "source": [
    "## Some misunderstandings of p-values:\n",
    "\n",
    "1. The p-value is not the probability that the null hypothesis is true. (This false\n",
    "conclusion is used to justify the “rule” of considering a result to be significant if\n",
    "its p-value is very small (near zero).\n",
    "2. The p-value is not the probability of falsely rejecting the null hypothesis.\n",
    "3. 1 − (p-value) is not the probability of the alternative hypothesis being true.\n",
    "4. The significance level of the test is not determined by the p-value.\n",
    "The significance level of a test is a value that should be decided upon by the\n",
    "researcher interpreting the data before the data are viewed, and is compared\n",
    "against the p-value or any other statistic calculated after the test has been\n",
    "performed."
   ]
  },
  {
   "cell_type": "markdown",
   "id": "b59cfff5",
   "metadata": {},
   "source": [
    "## Null hypothesis vs. Alternative hypothesis"
   ]
  },
  {
   "cell_type": "markdown",
   "id": "96cf9afe",
   "metadata": {},
   "source": [
    "If this was a trial"
   ]
  },
  {
   "cell_type": "markdown",
   "id": "0f0aed73",
   "metadata": {},
   "source": [
    "![Judge Judy](https://media.giphy.com/media/Emg9qPKR5hquI/giphy.gif)"
   ]
  },
  {
   "cell_type": "markdown",
   "id": "b86c0042",
   "metadata": {},
   "source": [
    "- **Null hypothesis**: innocent until proven otherwise. Veredict: \"not guilty\" (instead of innocent). There's not enouch evident to say they are guilty\n",
    "\n",
    "- **Alternative hypothesis**: we do have enough evidene to say the person is guilty"
   ]
  },
  {
   "cell_type": "markdown",
   "id": "c1b1074d",
   "metadata": {},
   "source": [
    "# Process\n",
    "\n",
    "\n",
    "1. Have a question on some data\n",
    "2. I state the null hypothesis: there's no effect. Drugs: A = B\n",
    "3. I state the alternative hypothesis:  there's an effect\n",
    "4. Statistical test (in this case binomialtest)\n",
    "5. p_value: it was very likely / super unlikely this happend just because, just by chance\n",
    "6. p_value vs. 0.05 -> decision\n",
    "7. It's so low, that it cannot be due to chance -> rejecting the null hypothesis and accepting the \n",
    "alternative\n",
    "8. It's a reasonable probability -> Okay, I take it it can happen due to chance"
   ]
  },
  {
   "cell_type": "markdown",
   "id": "3e460275",
   "metadata": {},
   "source": [
    "# RECAP & reprhasing of concepts"
   ]
  },
  {
   "cell_type": "markdown",
   "id": "389a2844",
   "metadata": {},
   "source": [
    "\"\"\"\n",
    "p_value: \n",
    "    - valor\n",
    "    - probabilidad\n",
    "    - 0-1\n",
    "    \n",
    "    - de: \n",
    "        P (resultado | H0): la p de que del evento dado H0\n",
    "        P (H0 | resultado): \n",
    "        \n",
    "        P (3 colores  | hembra) #p condicionada\n",
    "        P (hembra  | 3 colores) # Urska\n",
    "        \n",
    "        P (accidente | rojo): \n",
    "        P (A | B): la p de A dado B\n",
    "        P (B | A): la p de B dado A\n",
    "       \n",
    "        P (? | H0): 0-1\n",
    "        P (resultado | H0): \n",
    "\n",
    "p de que se dé ese resultado \n",
    "\"\"\"\n",
    "\n",
    "\n",
    "cómo de importante es haber obtenido esto\n",
    "cómo de significativo es este valor (17 caras?)"
   ]
  }
 ],
 "metadata": {
  "kernelspec": {
   "display_name": "ironhack",
   "language": "python",
   "name": "ironhack"
  },
  "language_info": {
   "codemirror_mode": {
    "name": "ipython",
    "version": 3
   },
   "file_extension": ".py",
   "mimetype": "text/x-python",
   "name": "python",
   "nbconvert_exporter": "python",
   "pygments_lexer": "ipython3",
   "version": "3.9.12"
  },
  "nbTranslate": {
   "displayLangs": [
    "en",
    "es"
   ],
   "hotkey": "alt-a",
   "langInMainMenu": true,
   "sourceLang": "es",
   "targetLang": "en",
   "useGoogleTranslate": true
  },
  "toc": {
   "base_numbering": 1,
   "nav_menu": {},
   "number_sections": true,
   "sideBar": true,
   "skip_h1_title": false,
   "title_cell": "Table of Contents",
   "title_sidebar": "Contents",
   "toc_cell": true,
   "toc_position": {},
   "toc_section_display": true,
   "toc_window_display": false
  }
 },
 "nbformat": 4,
 "nbformat_minor": 5
}
